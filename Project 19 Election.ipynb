{
 "cells": [
  {
   "cell_type": "markdown",
   "metadata": {},
   "source": [
    "# Predict the final number of MP's in the Portugese Parliament through regression"
   ]
  },
  {
   "cell_type": "markdown",
   "metadata": {},
   "source": [
    "# Load and take a look at the data"
   ]
  },
  {
   "cell_type": "code",
   "execution_count": 1,
   "metadata": {},
   "outputs": [],
   "source": [
    "# Load relevant libraries\n",
    "import pandas as pd\n",
    "import numpy as np\n",
    "import matplotlib.pyplot as plt\n",
    "import seaborn as sns\n",
    "import scipy\n",
    "from scipy import stats\n",
    "import warnings\n",
    "warnings.filterwarnings('ignore')"
   ]
  },
  {
   "cell_type": "code",
   "execution_count": 2,
   "metadata": {},
   "outputs": [],
   "source": [
    "# Load data\n",
    "ds=pd.read_csv('ElectionData.csv')"
   ]
  },
  {
   "cell_type": "code",
   "execution_count": 3,
   "metadata": {},
   "outputs": [
    {
     "data": {
      "text/html": [
       "<div>\n",
       "<style scoped>\n",
       "    .dataframe tbody tr th:only-of-type {\n",
       "        vertical-align: middle;\n",
       "    }\n",
       "\n",
       "    .dataframe tbody tr th {\n",
       "        vertical-align: top;\n",
       "    }\n",
       "\n",
       "    .dataframe thead th {\n",
       "        text-align: right;\n",
       "    }\n",
       "</style>\n",
       "<table border=\"1\" class=\"dataframe\">\n",
       "  <thead>\n",
       "    <tr style=\"text-align: right;\">\n",
       "      <th></th>\n",
       "      <th>TimeElapsed</th>\n",
       "      <th>time</th>\n",
       "      <th>territoryName</th>\n",
       "      <th>totalMandates</th>\n",
       "      <th>availableMandates</th>\n",
       "      <th>numParishes</th>\n",
       "      <th>numParishesApproved</th>\n",
       "      <th>blankVotes</th>\n",
       "      <th>blankVotesPercentage</th>\n",
       "      <th>nullVotes</th>\n",
       "      <th>...</th>\n",
       "      <th>pre.votersPercentage</th>\n",
       "      <th>pre.subscribedVoters</th>\n",
       "      <th>pre.totalVoters</th>\n",
       "      <th>Party</th>\n",
       "      <th>Mandates</th>\n",
       "      <th>Percentage</th>\n",
       "      <th>validVotesPercentage</th>\n",
       "      <th>Votes</th>\n",
       "      <th>Hondt</th>\n",
       "      <th>FinalMandates</th>\n",
       "    </tr>\n",
       "  </thead>\n",
       "  <tbody>\n",
       "    <tr>\n",
       "      <th>0</th>\n",
       "      <td>0</td>\n",
       "      <td>2019-10-06 20:10:02</td>\n",
       "      <td>Território Nacional</td>\n",
       "      <td>0</td>\n",
       "      <td>226</td>\n",
       "      <td>3092</td>\n",
       "      <td>1081</td>\n",
       "      <td>9652</td>\n",
       "      <td>2.5</td>\n",
       "      <td>8874</td>\n",
       "      <td>...</td>\n",
       "      <td>52.66</td>\n",
       "      <td>813743</td>\n",
       "      <td>428546</td>\n",
       "      <td>PS</td>\n",
       "      <td>0</td>\n",
       "      <td>38.29</td>\n",
       "      <td>40.22</td>\n",
       "      <td>147993</td>\n",
       "      <td>94</td>\n",
       "      <td>106</td>\n",
       "    </tr>\n",
       "    <tr>\n",
       "      <th>1</th>\n",
       "      <td>0</td>\n",
       "      <td>2019-10-06 20:10:02</td>\n",
       "      <td>Território Nacional</td>\n",
       "      <td>0</td>\n",
       "      <td>226</td>\n",
       "      <td>3092</td>\n",
       "      <td>1081</td>\n",
       "      <td>9652</td>\n",
       "      <td>2.5</td>\n",
       "      <td>8874</td>\n",
       "      <td>...</td>\n",
       "      <td>52.66</td>\n",
       "      <td>813743</td>\n",
       "      <td>428546</td>\n",
       "      <td>PPD/PSD</td>\n",
       "      <td>0</td>\n",
       "      <td>33.28</td>\n",
       "      <td>34.95</td>\n",
       "      <td>128624</td>\n",
       "      <td>81</td>\n",
       "      <td>77</td>\n",
       "    </tr>\n",
       "    <tr>\n",
       "      <th>2</th>\n",
       "      <td>0</td>\n",
       "      <td>2019-10-06 20:10:02</td>\n",
       "      <td>Território Nacional</td>\n",
       "      <td>0</td>\n",
       "      <td>226</td>\n",
       "      <td>3092</td>\n",
       "      <td>1081</td>\n",
       "      <td>9652</td>\n",
       "      <td>2.5</td>\n",
       "      <td>8874</td>\n",
       "      <td>...</td>\n",
       "      <td>52.66</td>\n",
       "      <td>813743</td>\n",
       "      <td>428546</td>\n",
       "      <td>B.E.</td>\n",
       "      <td>0</td>\n",
       "      <td>6.81</td>\n",
       "      <td>7.15</td>\n",
       "      <td>26307</td>\n",
       "      <td>16</td>\n",
       "      <td>19</td>\n",
       "    </tr>\n",
       "    <tr>\n",
       "      <th>3</th>\n",
       "      <td>0</td>\n",
       "      <td>2019-10-06 20:10:02</td>\n",
       "      <td>Território Nacional</td>\n",
       "      <td>0</td>\n",
       "      <td>226</td>\n",
       "      <td>3092</td>\n",
       "      <td>1081</td>\n",
       "      <td>9652</td>\n",
       "      <td>2.5</td>\n",
       "      <td>8874</td>\n",
       "      <td>...</td>\n",
       "      <td>52.66</td>\n",
       "      <td>813743</td>\n",
       "      <td>428546</td>\n",
       "      <td>CDS-PP</td>\n",
       "      <td>0</td>\n",
       "      <td>4.90</td>\n",
       "      <td>5.14</td>\n",
       "      <td>18923</td>\n",
       "      <td>12</td>\n",
       "      <td>5</td>\n",
       "    </tr>\n",
       "    <tr>\n",
       "      <th>4</th>\n",
       "      <td>0</td>\n",
       "      <td>2019-10-06 20:10:02</td>\n",
       "      <td>Território Nacional</td>\n",
       "      <td>0</td>\n",
       "      <td>226</td>\n",
       "      <td>3092</td>\n",
       "      <td>1081</td>\n",
       "      <td>9652</td>\n",
       "      <td>2.5</td>\n",
       "      <td>8874</td>\n",
       "      <td>...</td>\n",
       "      <td>52.66</td>\n",
       "      <td>813743</td>\n",
       "      <td>428546</td>\n",
       "      <td>PCP-PEV</td>\n",
       "      <td>0</td>\n",
       "      <td>4.59</td>\n",
       "      <td>4.83</td>\n",
       "      <td>17757</td>\n",
       "      <td>11</td>\n",
       "      <td>12</td>\n",
       "    </tr>\n",
       "  </tbody>\n",
       "</table>\n",
       "<p>5 rows × 28 columns</p>\n",
       "</div>"
      ],
      "text/plain": [
       "   TimeElapsed                 time        territoryName  totalMandates  \\\n",
       "0            0  2019-10-06 20:10:02  Território Nacional              0   \n",
       "1            0  2019-10-06 20:10:02  Território Nacional              0   \n",
       "2            0  2019-10-06 20:10:02  Território Nacional              0   \n",
       "3            0  2019-10-06 20:10:02  Território Nacional              0   \n",
       "4            0  2019-10-06 20:10:02  Território Nacional              0   \n",
       "\n",
       "   availableMandates  numParishes  numParishesApproved  blankVotes  \\\n",
       "0                226         3092                 1081        9652   \n",
       "1                226         3092                 1081        9652   \n",
       "2                226         3092                 1081        9652   \n",
       "3                226         3092                 1081        9652   \n",
       "4                226         3092                 1081        9652   \n",
       "\n",
       "   blankVotesPercentage  nullVotes  ...  pre.votersPercentage  \\\n",
       "0                   2.5       8874  ...                 52.66   \n",
       "1                   2.5       8874  ...                 52.66   \n",
       "2                   2.5       8874  ...                 52.66   \n",
       "3                   2.5       8874  ...                 52.66   \n",
       "4                   2.5       8874  ...                 52.66   \n",
       "\n",
       "   pre.subscribedVoters  pre.totalVoters    Party  Mandates  Percentage  \\\n",
       "0                813743           428546       PS         0       38.29   \n",
       "1                813743           428546  PPD/PSD         0       33.28   \n",
       "2                813743           428546     B.E.         0        6.81   \n",
       "3                813743           428546   CDS-PP         0        4.90   \n",
       "4                813743           428546  PCP-PEV         0        4.59   \n",
       "\n",
       "   validVotesPercentage   Votes  Hondt  FinalMandates  \n",
       "0                 40.22  147993     94            106  \n",
       "1                 34.95  128624     81             77  \n",
       "2                  7.15   26307     16             19  \n",
       "3                  5.14   18923     12              5  \n",
       "4                  4.83   17757     11             12  \n",
       "\n",
       "[5 rows x 28 columns]"
      ]
     },
     "execution_count": 3,
     "metadata": {},
     "output_type": "execute_result"
    }
   ],
   "source": [
    "ds.head()"
   ]
  },
  {
   "cell_type": "code",
   "execution_count": 4,
   "metadata": {},
   "outputs": [
    {
     "data": {
      "text/plain": [
       "(21643, 28)"
      ]
     },
     "execution_count": 4,
     "metadata": {},
     "output_type": "execute_result"
    }
   ],
   "source": [
    "ds.shape"
   ]
  },
  {
   "cell_type": "code",
   "execution_count": 5,
   "metadata": {},
   "outputs": [
    {
     "data": {
      "text/plain": [
       "TimeElapsed                   int64\n",
       "time                         object\n",
       "territoryName                object\n",
       "totalMandates                 int64\n",
       "availableMandates             int64\n",
       "numParishes                   int64\n",
       "numParishesApproved           int64\n",
       "blankVotes                    int64\n",
       "blankVotesPercentage        float64\n",
       "nullVotes                     int64\n",
       "nullVotesPercentage         float64\n",
       "votersPercentage            float64\n",
       "subscribedVoters              int64\n",
       "totalVoters                   int64\n",
       "pre.blankVotes                int64\n",
       "pre.blankVotesPercentage    float64\n",
       "pre.nullVotes                 int64\n",
       "pre.nullVotesPercentage     float64\n",
       "pre.votersPercentage        float64\n",
       "pre.subscribedVoters          int64\n",
       "pre.totalVoters               int64\n",
       "Party                        object\n",
       "Mandates                      int64\n",
       "Percentage                  float64\n",
       "validVotesPercentage        float64\n",
       "Votes                         int64\n",
       "Hondt                         int64\n",
       "FinalMandates                 int64\n",
       "dtype: object"
      ]
     },
     "execution_count": 5,
     "metadata": {},
     "output_type": "execute_result"
    }
   ],
   "source": [
    "ds.dtypes"
   ]
  },
  {
   "cell_type": "markdown",
   "metadata": {},
   "source": [
    "# Check and treat null values"
   ]
  },
  {
   "cell_type": "code",
   "execution_count": 6,
   "metadata": {},
   "outputs": [
    {
     "data": {
      "text/plain": [
       "<matplotlib.axes._subplots.AxesSubplot at 0x1c9114d5948>"
      ]
     },
     "execution_count": 6,
     "metadata": {},
     "output_type": "execute_result"
    },
    {
     "data": {
      "image/png": "[encoded data removed]",
      "text/plain": [
       "<Figure size 432x288 with 2 Axes>"
      ]
     },
     "metadata": {
      "needs_background": "light"
     },
     "output_type": "display_data"
    }
   ],
   "source": [
    "sns.heatmap(ds.isnull())"
   ]
  },
  {
   "cell_type": "code",
   "execution_count": 7,
   "metadata": {},
   "outputs": [
    {
     "data": {
      "text/plain": [
       "TimeElapsed                 0\n",
       "time                        0\n",
       "territoryName               0\n",
       "totalMandates               0\n",
       "availableMandates           0\n",
       "numParishes                 0\n",
       "numParishesApproved         0\n",
       "blankVotes                  0\n",
       "blankVotesPercentage        0\n",
       "nullVotes                   0\n",
       "nullVotesPercentage         0\n",
       "votersPercentage            0\n",
       "subscribedVoters            0\n",
       "totalVoters                 0\n",
       "pre.blankVotes              0\n",
       "pre.blankVotesPercentage    0\n",
       "pre.nullVotes               0\n",
       "pre.nullVotesPercentage     0\n",
       "pre.votersPercentage        0\n",
       "pre.subscribedVoters        0\n",
       "pre.totalVoters             0\n",
       "Party                       0\n",
       "Mandates                    0\n",
       "Percentage                  0\n",
       "validVotesPercentage        0\n",
       "Votes                       0\n",
       "Hondt                       0\n",
       "FinalMandates               0\n",
       "dtype: int64"
      ]
     },
     "execution_count": 7,
     "metadata": {},
     "output_type": "execute_result"
    }
   ],
   "source": [
    "ds.isnull().sum()"
   ]
  },
  {
   "cell_type": "markdown",
   "metadata": {},
   "source": [
    "No null values present."
   ]
  },
  {
   "cell_type": "markdown",
   "metadata": {},
   "source": [
    "# Check correlation"
   ]
  },
  {
   "cell_type": "code",
   "execution_count": 8,
   "metadata": {},
   "outputs": [
    {
     "data": {
      "text/plain": [
       "<matplotlib.axes._subplots.AxesSubplot at 0x1c90f0dbe48>"
      ]
     },
     "execution_count": 8,
     "metadata": {},
     "output_type": "execute_result"
    },
    {
     "data": {
      "image/png": "[encoded data removed]",
      "text/plain": [
       "<Figure size 432x288 with 2 Axes>"
      ]
     },
     "metadata": {
      "needs_background": "light"
     },
     "output_type": "display_data"
    }
   ],
   "source": [
    "dscor=ds.corr()\n",
    "sns.heatmap(dscor)"
   ]
  },
  {
   "cell_type": "code",
   "execution_count": null,
   "metadata": {},
   "outputs": [],
   "source": []
  },
  {
   "cell_type": "markdown",
   "metadata": {},
   "source": [
    "# Summary statistics"
   ]
  },
  {
   "cell_type": "code",
   "execution_count": 9,
   "metadata": {},
   "outputs": [
    {
     "data": {
      "text/html": [
       "<div>\n",
       "<style scoped>\n",
       "    .dataframe tbody tr th:only-of-type {\n",
       "        vertical-align: middle;\n",
       "    }\n",
       "\n",
       "    .dataframe tbody tr th {\n",
       "        vertical-align: top;\n",
       "    }\n",
       "\n",
       "    .dataframe thead th {\n",
       "        text-align: right;\n",
       "    }\n",
       "</style>\n",
       "<table border=\"1\" class=\"dataframe\">\n",
       "  <thead>\n",
       "    <tr style=\"text-align: right;\">\n",
       "      <th></th>\n",
       "      <th>TimeElapsed</th>\n",
       "      <th>totalMandates</th>\n",
       "      <th>availableMandates</th>\n",
       "      <th>numParishes</th>\n",
       "      <th>numParishesApproved</th>\n",
       "      <th>blankVotes</th>\n",
       "      <th>blankVotesPercentage</th>\n",
       "      <th>nullVotes</th>\n",
       "      <th>nullVotesPercentage</th>\n",
       "      <th>votersPercentage</th>\n",
       "      <th>...</th>\n",
       "      <th>pre.nullVotesPercentage</th>\n",
       "      <th>pre.votersPercentage</th>\n",
       "      <th>pre.subscribedVoters</th>\n",
       "      <th>pre.totalVoters</th>\n",
       "      <th>Mandates</th>\n",
       "      <th>Percentage</th>\n",
       "      <th>validVotesPercentage</th>\n",
       "      <th>Votes</th>\n",
       "      <th>Hondt</th>\n",
       "      <th>FinalMandates</th>\n",
       "    </tr>\n",
       "  </thead>\n",
       "  <tbody>\n",
       "    <tr>\n",
       "      <th>count</th>\n",
       "      <td>21643.000000</td>\n",
       "      <td>21643.000000</td>\n",
       "      <td>21643.000000</td>\n",
       "      <td>21643.000000</td>\n",
       "      <td>21643.000000</td>\n",
       "      <td>21643.000000</td>\n",
       "      <td>21643.000000</td>\n",
       "      <td>21643.000000</td>\n",
       "      <td>21643.000000</td>\n",
       "      <td>21643.000000</td>\n",
       "      <td>...</td>\n",
       "      <td>21643.000000</td>\n",
       "      <td>21643.000000</td>\n",
       "      <td>2.164300e+04</td>\n",
       "      <td>2.164300e+04</td>\n",
       "      <td>21643.000000</td>\n",
       "      <td>21643.000000</td>\n",
       "      <td>21643.000000</td>\n",
       "      <td>2.164300e+04</td>\n",
       "      <td>21643.000000</td>\n",
       "      <td>21643.000000</td>\n",
       "    </tr>\n",
       "    <tr>\n",
       "      <th>mean</th>\n",
       "      <td>133.146052</td>\n",
       "      <td>11.544795</td>\n",
       "      <td>11.499284</td>\n",
       "      <td>309.956013</td>\n",
       "      <td>261.090237</td>\n",
       "      <td>8875.066673</td>\n",
       "      <td>2.621629</td>\n",
       "      <td>6148.068752</td>\n",
       "      <td>1.961471</td>\n",
       "      <td>51.983722</td>\n",
       "      <td>...</td>\n",
       "      <td>1.777442</td>\n",
       "      <td>54.549372</td>\n",
       "      <td>6.378503e+05</td>\n",
       "      <td>3.594932e+05</td>\n",
       "      <td>0.565495</td>\n",
       "      <td>4.968484</td>\n",
       "      <td>5.207232</td>\n",
       "      <td>1.585209e+04</td>\n",
       "      <td>1.126138</td>\n",
       "      <td>1.126138</td>\n",
       "    </tr>\n",
       "    <tr>\n",
       "      <th>std</th>\n",
       "      <td>77.651193</td>\n",
       "      <td>31.314567</td>\n",
       "      <td>31.738783</td>\n",
       "      <td>659.055911</td>\n",
       "      <td>583.377428</td>\n",
       "      <td>21484.874088</td>\n",
       "      <td>0.795289</td>\n",
       "      <td>14735.469269</td>\n",
       "      <td>0.375250</td>\n",
       "      <td>4.854380</td>\n",
       "      <td>...</td>\n",
       "      <td>0.388798</td>\n",
       "      <td>4.964948</td>\n",
       "      <td>1.544418e+06</td>\n",
       "      <td>8.763729e+05</td>\n",
       "      <td>4.421804</td>\n",
       "      <td>10.379967</td>\n",
       "      <td>10.881108</td>\n",
       "      <td>9.310605e+04</td>\n",
       "      <td>6.293552</td>\n",
       "      <td>6.872644</td>\n",
       "    </tr>\n",
       "    <tr>\n",
       "      <th>min</th>\n",
       "      <td>0.000000</td>\n",
       "      <td>0.000000</td>\n",
       "      <td>0.000000</td>\n",
       "      <td>54.000000</td>\n",
       "      <td>3.000000</td>\n",
       "      <td>19.000000</td>\n",
       "      <td>0.530000</td>\n",
       "      <td>39.000000</td>\n",
       "      <td>1.340000</td>\n",
       "      <td>35.980000</td>\n",
       "      <td>...</td>\n",
       "      <td>1.140000</td>\n",
       "      <td>40.870000</td>\n",
       "      <td>6.383000e+03</td>\n",
       "      <td>3.215000e+03</td>\n",
       "      <td>0.000000</td>\n",
       "      <td>0.020000</td>\n",
       "      <td>0.020000</td>\n",
       "      <td>1.000000e+00</td>\n",
       "      <td>0.000000</td>\n",
       "      <td>0.000000</td>\n",
       "    </tr>\n",
       "    <tr>\n",
       "      <th>25%</th>\n",
       "      <td>65.000000</td>\n",
       "      <td>1.000000</td>\n",
       "      <td>0.000000</td>\n",
       "      <td>75.000000</td>\n",
       "      <td>67.000000</td>\n",
       "      <td>1188.000000</td>\n",
       "      <td>2.230000</td>\n",
       "      <td>1094.000000</td>\n",
       "      <td>1.720000</td>\n",
       "      <td>50.290000</td>\n",
       "      <td>...</td>\n",
       "      <td>1.520000</td>\n",
       "      <td>51.210000</td>\n",
       "      <td>1.289260e+05</td>\n",
       "      <td>6.964400e+04</td>\n",
       "      <td>0.000000</td>\n",
       "      <td>0.220000</td>\n",
       "      <td>0.230000</td>\n",
       "      <td>2.360000e+02</td>\n",
       "      <td>0.000000</td>\n",
       "      <td>0.000000</td>\n",
       "    </tr>\n",
       "    <tr>\n",
       "      <th>50%</th>\n",
       "      <td>135.000000</td>\n",
       "      <td>4.000000</td>\n",
       "      <td>3.000000</td>\n",
       "      <td>147.000000</td>\n",
       "      <td>120.000000</td>\n",
       "      <td>2998.000000</td>\n",
       "      <td>2.640000</td>\n",
       "      <td>2232.000000</td>\n",
       "      <td>1.870000</td>\n",
       "      <td>53.130000</td>\n",
       "      <td>...</td>\n",
       "      <td>1.690000</td>\n",
       "      <td>56.260000</td>\n",
       "      <td>2.284970e+05</td>\n",
       "      <td>1.102730e+05</td>\n",
       "      <td>0.000000</td>\n",
       "      <td>0.620000</td>\n",
       "      <td>0.650000</td>\n",
       "      <td>7.900000e+02</td>\n",
       "      <td>0.000000</td>\n",
       "      <td>0.000000</td>\n",
       "    </tr>\n",
       "    <tr>\n",
       "      <th>75%</th>\n",
       "      <td>200.000000</td>\n",
       "      <td>9.000000</td>\n",
       "      <td>9.000000</td>\n",
       "      <td>242.000000</td>\n",
       "      <td>208.000000</td>\n",
       "      <td>6889.000000</td>\n",
       "      <td>2.980000</td>\n",
       "      <td>4121.000000</td>\n",
       "      <td>2.230000</td>\n",
       "      <td>54.550000</td>\n",
       "      <td>...</td>\n",
       "      <td>1.970000</td>\n",
       "      <td>58.220000</td>\n",
       "      <td>3.933140e+05</td>\n",
       "      <td>2.276200e+05</td>\n",
       "      <td>0.000000</td>\n",
       "      <td>3.010000</td>\n",
       "      <td>3.160000</td>\n",
       "      <td>4.510000e+03</td>\n",
       "      <td>0.000000</td>\n",
       "      <td>0.000000</td>\n",
       "    </tr>\n",
       "    <tr>\n",
       "      <th>max</th>\n",
       "      <td>265.000000</td>\n",
       "      <td>226.000000</td>\n",
       "      <td>226.000000</td>\n",
       "      <td>3092.000000</td>\n",
       "      <td>3092.000000</td>\n",
       "      <td>129599.000000</td>\n",
       "      <td>5.460000</td>\n",
       "      <td>88539.000000</td>\n",
       "      <td>3.350000</td>\n",
       "      <td>59.870000</td>\n",
       "      <td>...</td>\n",
       "      <td>3.120000</td>\n",
       "      <td>62.580000</td>\n",
       "      <td>9.439701e+06</td>\n",
       "      <td>5.380451e+06</td>\n",
       "      <td>106.000000</td>\n",
       "      <td>49.110000</td>\n",
       "      <td>51.420000</td>\n",
       "      <td>1.866407e+06</td>\n",
       "      <td>94.000000</td>\n",
       "      <td>106.000000</td>\n",
       "    </tr>\n",
       "  </tbody>\n",
       "</table>\n",
       "<p>8 rows × 25 columns</p>\n",
       "</div>"
      ],
      "text/plain": [
       "        TimeElapsed  totalMandates  availableMandates   numParishes  \\\n",
       "count  21643.000000   21643.000000       21643.000000  21643.000000   \n",
       "mean     133.146052      11.544795          11.499284    309.956013   \n",
       "std       77.651193      31.314567          31.738783    659.055911   \n",
       "min        0.000000       0.000000           0.000000     54.000000   \n",
       "25%       65.000000       1.000000           0.000000     75.000000   \n",
       "50%      135.000000       4.000000           3.000000    147.000000   \n",
       "75%      200.000000       9.000000           9.000000    242.000000   \n",
       "max      265.000000     226.000000         226.000000   3092.000000   \n",
       "\n",
       "       numParishesApproved     blankVotes  blankVotesPercentage     nullVotes  \\\n",
       "count         21643.000000   21643.000000          21643.000000  21643.000000   \n",
       "mean            261.090237    8875.066673              2.621629   6148.068752   \n",
       "std             583.377428   21484.874088              0.795289  14735.469269   \n",
       "min               3.000000      19.000000              0.530000     39.000000   \n",
       "25%              67.000000    1188.000000              2.230000   1094.000000   \n",
       "50%             120.000000    2998.000000              2.640000   2232.000000   \n",
       "75%             208.000000    6889.000000              2.980000   4121.000000   \n",
       "max            3092.000000  129599.000000              5.460000  88539.000000   \n",
       "\n",
       "       nullVotesPercentage  votersPercentage  ...  pre.nullVotesPercentage  \\\n",
       "count         21643.000000      21643.000000  ...             21643.000000   \n",
       "mean              1.961471         51.983722  ...                 1.777442   \n",
       "std               0.375250          4.854380  ...                 0.388798   \n",
       "min               1.340000         35.980000  ...                 1.140000   \n",
       "25%               1.720000         50.290000  ...                 1.520000   \n",
       "50%               1.870000         53.130000  ...                 1.690000   \n",
       "75%               2.230000         54.550000  ...                 1.970000   \n",
       "max               3.350000         59.870000  ...                 3.120000   \n",
       "\n",
       "       pre.votersPercentage  pre.subscribedVoters  pre.totalVoters  \\\n",
       "count          21643.000000          2.164300e+04     2.164300e+04   \n",
       "mean              54.549372          6.378503e+05     3.594932e+05   \n",
       "std                4.964948          1.544418e+06     8.763729e+05   \n",
       "min               40.870000          6.383000e+03     3.215000e+03   \n",
       "25%               51.210000          1.289260e+05     6.964400e+04   \n",
       "50%               56.260000          2.284970e+05     1.102730e+05   \n",
       "75%               58.220000          3.933140e+05     2.276200e+05   \n",
       "max               62.580000          9.439701e+06     5.380451e+06   \n",
       "\n",
       "           Mandates    Percentage  validVotesPercentage         Votes  \\\n",
       "count  21643.000000  21643.000000          21643.000000  2.164300e+04   \n",
       "mean       0.565495      4.968484              5.207232  1.585209e+04   \n",
       "std        4.421804     10.379967             10.881108  9.310605e+04   \n",
       "min        0.000000      0.020000              0.020000  1.000000e+00   \n",
       "25%        0.000000      0.220000              0.230000  2.360000e+02   \n",
       "50%        0.000000      0.620000              0.650000  7.900000e+02   \n",
       "75%        0.000000      3.010000              3.160000  4.510000e+03   \n",
       "max      106.000000     49.110000             51.420000  1.866407e+06   \n",
       "\n",
       "              Hondt  FinalMandates  \n",
       "count  21643.000000   21643.000000  \n",
       "mean       1.126138       1.126138  \n",
       "std        6.293552       6.872644  \n",
       "min        0.000000       0.000000  \n",
       "25%        0.000000       0.000000  \n",
       "50%        0.000000       0.000000  \n",
       "75%        0.000000       0.000000  \n",
       "max       94.000000     106.000000  \n",
       "\n",
       "[8 rows x 25 columns]"
      ]
     },
     "execution_count": 9,
     "metadata": {},
     "output_type": "execute_result"
    }
   ],
   "source": [
    "ds.describe()"
   ]
  },
  {
   "cell_type": "markdown",
   "metadata": {},
   "source": [
    "# Data visualizations"
   ]
  },
  {
   "cell_type": "code",
   "execution_count": 10,
   "metadata": {},
   "outputs": [
    {
     "data": {
      "text/plain": [
       "Index(['TimeElapsed', 'time', 'territoryName', 'totalMandates',\n",
       "       'availableMandates', 'numParishes', 'numParishesApproved', 'blankVotes',\n",
       "       'blankVotesPercentage', 'nullVotes', 'nullVotesPercentage',\n",
       "       'votersPercentage', 'subscribedVoters', 'totalVoters', 'pre.blankVotes',\n",
       "       'pre.blankVotesPercentage', 'pre.nullVotes', 'pre.nullVotesPercentage',\n",
       "       'pre.votersPercentage', 'pre.subscribedVoters', 'pre.totalVoters',\n",
       "       'Party', 'Mandates', 'Percentage', 'validVotesPercentage', 'Votes',\n",
       "       'Hondt', 'FinalMandates'],\n",
       "      dtype='object')"
      ]
     },
     "execution_count": 10,
     "metadata": {},
     "output_type": "execute_result"
    }
   ],
   "source": [
    "ds.columns"
   ]
  },
  {
   "cell_type": "code",
   "execution_count": 11,
   "metadata": {},
   "outputs": [
    {
     "data": {
      "text/plain": [
       "<matplotlib.axes._subplots.AxesSubplot at 0x1c9122d2588>"
      ]
     },
     "execution_count": 11,
     "metadata": {},
     "output_type": "execute_result"
    },
    {
     "data": {
      "image/png": "[encoded data removed]",
      "text/plain": [
       "<Figure size 432x288 with 1 Axes>"
      ]
     },
     "metadata": {
      "needs_background": "light"
     },
     "output_type": "display_data"
    }
   ],
   "source": [
    "# Check for outliers\n",
    "ds['FinalMandates'].plot.box()"
   ]
  },
  {
   "cell_type": "markdown",
   "metadata": {},
   "source": [
    "Definite outliers present."
   ]
  },
  {
   "cell_type": "code",
   "execution_count": 12,
   "metadata": {},
   "outputs": [
    {
     "data": {
      "text/plain": [
       "<matplotlib.axes._subplots.AxesSubplot at 0x1c9122996c8>"
      ]
     },
     "execution_count": 12,
     "metadata": {},
     "output_type": "execute_result"
    },
    {
     "data": {
      "image/png": "[encoded data removed]",
      "text/plain": [
       "<Figure size 432x288 with 1 Axes>"
      ]
     },
     "metadata": {
      "needs_background": "light"
     },
     "output_type": "display_data"
    }
   ],
   "source": [
    "sns.countplot(ds['Party'])"
   ]
  },
  {
   "cell_type": "code",
   "execution_count": 13,
   "metadata": {},
   "outputs": [
    {
     "data": {
      "text/plain": [
       "Party\n",
       "A            1127\n",
       "B.E.         1127\n",
       "CDS-PP       1127\n",
       "CH           1127\n",
       "IL           1127\n",
       "JPP           486\n",
       "L            1127\n",
       "MAS           425\n",
       "MPT          1019\n",
       "NC            972\n",
       "PAN          1127\n",
       "PCP-PEV      1127\n",
       "PCTP/MRPP    1127\n",
       "PDR          1127\n",
       "PNR          1127\n",
       "PPD/PSD      1127\n",
       "PPM          1073\n",
       "PS           1127\n",
       "PTP          1019\n",
       "PURP          972\n",
       "R.I.R.       1026\n",
       "Name: Party, dtype: int64"
      ]
     },
     "execution_count": 13,
     "metadata": {},
     "output_type": "execute_result"
    }
   ],
   "source": [
    "ds.groupby('Party')['Party'].count()"
   ]
  },
  {
   "cell_type": "markdown",
   "metadata": {},
   "source": [
    "'TimeElapsed', 'time', 'territoryName', 'totalMandates',\n",
    "       'availableMandates', 'numParishes', 'numParishesApproved', 'blankVotes',\n",
    "       'blankVotesPercentage', 'nullVotes', 'nullVotesPercentage',\n",
    "       'votersPercentage', 'subscribedVoters', 'totalVoters', 'pre.blankVotes',\n",
    "       'pre.blankVotesPercentage', 'pre.nullVotes', 'pre.nullVotesPercentage',\n",
    "       'pre.votersPercentage', 'pre.subscribedVoters', 'pre.totalVoters',\n",
    "       'Party', 'Mandates', 'Percentage', 'validVotesPercentage', 'Votes',\n",
    "       'Hondt', 'FinalMandates'"
   ]
  },
  {
   "cell_type": "code",
   "execution_count": 14,
   "metadata": {},
   "outputs": [
    {
     "data": {
      "text/html": [
       "<div>\n",
       "<style scoped>\n",
       "    .dataframe tbody tr th:only-of-type {\n",
       "        vertical-align: middle;\n",
       "    }\n",
       "\n",
       "    .dataframe tbody tr th {\n",
       "        vertical-align: top;\n",
       "    }\n",
       "\n",
       "    .dataframe thead th {\n",
       "        text-align: right;\n",
       "    }\n",
       "</style>\n",
       "<table border=\"1\" class=\"dataframe\">\n",
       "  <thead>\n",
       "    <tr style=\"text-align: right;\">\n",
       "      <th></th>\n",
       "      <th>Mandates</th>\n",
       "      <th>Votes</th>\n",
       "      <th>Hondt</th>\n",
       "      <th>FinalMandates</th>\n",
       "    </tr>\n",
       "    <tr>\n",
       "      <th>territoryName</th>\n",
       "      <th></th>\n",
       "      <th></th>\n",
       "      <th></th>\n",
       "      <th></th>\n",
       "    </tr>\n",
       "  </thead>\n",
       "  <tbody>\n",
       "    <tr>\n",
       "      <th>Aveiro</th>\n",
       "      <td>429</td>\n",
       "      <td>11897443</td>\n",
       "      <td>864</td>\n",
       "      <td>864</td>\n",
       "    </tr>\n",
       "    <tr>\n",
       "      <th>Açores</th>\n",
       "      <td>156</td>\n",
       "      <td>3066885</td>\n",
       "      <td>235</td>\n",
       "      <td>235</td>\n",
       "    </tr>\n",
       "    <tr>\n",
       "      <th>Beja</th>\n",
       "      <td>123</td>\n",
       "      <td>2877763</td>\n",
       "      <td>162</td>\n",
       "      <td>162</td>\n",
       "    </tr>\n",
       "    <tr>\n",
       "      <th>Braga</th>\n",
       "      <td>646</td>\n",
       "      <td>18123679</td>\n",
       "      <td>1026</td>\n",
       "      <td>1026</td>\n",
       "    </tr>\n",
       "    <tr>\n",
       "      <th>Bragança</th>\n",
       "      <td>87</td>\n",
       "      <td>2618008</td>\n",
       "      <td>162</td>\n",
       "      <td>162</td>\n",
       "    </tr>\n",
       "    <tr>\n",
       "      <th>Castelo Branco</th>\n",
       "      <td>138</td>\n",
       "      <td>4047781</td>\n",
       "      <td>216</td>\n",
       "      <td>216</td>\n",
       "    </tr>\n",
       "    <tr>\n",
       "      <th>Coimbra</th>\n",
       "      <td>274</td>\n",
       "      <td>7557963</td>\n",
       "      <td>486</td>\n",
       "      <td>486</td>\n",
       "    </tr>\n",
       "    <tr>\n",
       "      <th>Faro</th>\n",
       "      <td>287</td>\n",
       "      <td>6651208</td>\n",
       "      <td>486</td>\n",
       "      <td>486</td>\n",
       "    </tr>\n",
       "    <tr>\n",
       "      <th>Guarda</th>\n",
       "      <td>108</td>\n",
       "      <td>3353691</td>\n",
       "      <td>162</td>\n",
       "      <td>162</td>\n",
       "    </tr>\n",
       "    <tr>\n",
       "      <th>Leiria</th>\n",
       "      <td>284</td>\n",
       "      <td>8009322</td>\n",
       "      <td>540</td>\n",
       "      <td>540</td>\n",
       "    </tr>\n",
       "    <tr>\n",
       "      <th>Lisboa</th>\n",
       "      <td>896</td>\n",
       "      <td>27418131</td>\n",
       "      <td>2592</td>\n",
       "      <td>2592</td>\n",
       "    </tr>\n",
       "    <tr>\n",
       "      <th>Madeira</th>\n",
       "      <td>206</td>\n",
       "      <td>5164153</td>\n",
       "      <td>324</td>\n",
       "      <td>324</td>\n",
       "    </tr>\n",
       "    <tr>\n",
       "      <th>Portalegre</th>\n",
       "      <td>70</td>\n",
       "      <td>2151469</td>\n",
       "      <td>108</td>\n",
       "      <td>108</td>\n",
       "    </tr>\n",
       "    <tr>\n",
       "      <th>Porto</th>\n",
       "      <td>1037</td>\n",
       "      <td>29346671</td>\n",
       "      <td>2160</td>\n",
       "      <td>2160</td>\n",
       "    </tr>\n",
       "    <tr>\n",
       "      <th>Santarém</th>\n",
       "      <td>306</td>\n",
       "      <td>8299779</td>\n",
       "      <td>486</td>\n",
       "      <td>486</td>\n",
       "    </tr>\n",
       "    <tr>\n",
       "      <th>Setúbal</th>\n",
       "      <td>273</td>\n",
       "      <td>10166888</td>\n",
       "      <td>972</td>\n",
       "      <td>972</td>\n",
       "    </tr>\n",
       "    <tr>\n",
       "      <th>Território Nacional</th>\n",
       "      <td>6123</td>\n",
       "      <td>172147112</td>\n",
       "      <td>12204</td>\n",
       "      <td>12204</td>\n",
       "    </tr>\n",
       "    <tr>\n",
       "      <th>Viana do Castelo</th>\n",
       "      <td>224</td>\n",
       "      <td>5235127</td>\n",
       "      <td>324</td>\n",
       "      <td>324</td>\n",
       "    </tr>\n",
       "    <tr>\n",
       "      <th>Vila Real</th>\n",
       "      <td>178</td>\n",
       "      <td>4257699</td>\n",
       "      <td>270</td>\n",
       "      <td>270</td>\n",
       "    </tr>\n",
       "    <tr>\n",
       "      <th>Viseu</th>\n",
       "      <td>298</td>\n",
       "      <td>7722973</td>\n",
       "      <td>432</td>\n",
       "      <td>432</td>\n",
       "    </tr>\n",
       "    <tr>\n",
       "      <th>Évora</th>\n",
       "      <td>96</td>\n",
       "      <td>2973041</td>\n",
       "      <td>162</td>\n",
       "      <td>162</td>\n",
       "    </tr>\n",
       "  </tbody>\n",
       "</table>\n",
       "</div>"
      ],
      "text/plain": [
       "                     Mandates      Votes  Hondt  FinalMandates\n",
       "territoryName                                                 \n",
       "Aveiro                    429   11897443    864            864\n",
       "Açores                    156    3066885    235            235\n",
       "Beja                      123    2877763    162            162\n",
       "Braga                     646   18123679   1026           1026\n",
       "Bragança                   87    2618008    162            162\n",
       "Castelo Branco            138    4047781    216            216\n",
       "Coimbra                   274    7557963    486            486\n",
       "Faro                      287    6651208    486            486\n",
       "Guarda                    108    3353691    162            162\n",
       "Leiria                    284    8009322    540            540\n",
       "Lisboa                    896   27418131   2592           2592\n",
       "Madeira                   206    5164153    324            324\n",
       "Portalegre                 70    2151469    108            108\n",
       "Porto                    1037   29346671   2160           2160\n",
       "Santarém                  306    8299779    486            486\n",
       "Setúbal                   273   10166888    972            972\n",
       "Território Nacional      6123  172147112  12204          12204\n",
       "Viana do Castelo          224    5235127    324            324\n",
       "Vila Real                 178    4257699    270            270\n",
       "Viseu                     298    7722973    432            432\n",
       "Évora                      96    2973041    162            162"
      ]
     },
     "execution_count": 14,
     "metadata": {},
     "output_type": "execute_result"
    }
   ],
   "source": [
    "ds.groupby(['territoryName'])['Mandates', 'Votes', 'Hondt', 'FinalMandates'].sum()"
   ]
  },
  {
   "cell_type": "code",
   "execution_count": 15,
   "metadata": {},
   "outputs": [
    {
     "data": {
      "text/html": [
       "<div>\n",
       "<style scoped>\n",
       "    .dataframe tbody tr th:only-of-type {\n",
       "        vertical-align: middle;\n",
       "    }\n",
       "\n",
       "    .dataframe tbody tr th {\n",
       "        vertical-align: top;\n",
       "    }\n",
       "\n",
       "    .dataframe thead th {\n",
       "        text-align: right;\n",
       "    }\n",
       "</style>\n",
       "<table border=\"1\" class=\"dataframe\">\n",
       "  <thead>\n",
       "    <tr style=\"text-align: right;\">\n",
       "      <th></th>\n",
       "      <th>Mandates</th>\n",
       "      <th>validVotesPercentage</th>\n",
       "      <th>Votes</th>\n",
       "      <th>Hondt</th>\n",
       "      <th>FinalMandates</th>\n",
       "    </tr>\n",
       "    <tr>\n",
       "      <th>territoryName</th>\n",
       "      <th></th>\n",
       "      <th></th>\n",
       "      <th></th>\n",
       "      <th></th>\n",
       "      <th></th>\n",
       "    </tr>\n",
       "  </thead>\n",
       "  <tbody>\n",
       "    <tr>\n",
       "      <th>Aveiro</th>\n",
       "      <td>0.397222</td>\n",
       "      <td>5.000537</td>\n",
       "      <td>11016.150926</td>\n",
       "      <td>0.800000</td>\n",
       "      <td>0.800000</td>\n",
       "    </tr>\n",
       "    <tr>\n",
       "      <th>Açores</th>\n",
       "      <td>0.195244</td>\n",
       "      <td>5.882578</td>\n",
       "      <td>3838.404255</td>\n",
       "      <td>0.294118</td>\n",
       "      <td>0.294118</td>\n",
       "    </tr>\n",
       "    <tr>\n",
       "      <th>Beja</th>\n",
       "      <td>0.133987</td>\n",
       "      <td>5.881057</td>\n",
       "      <td>3134.818083</td>\n",
       "      <td>0.176471</td>\n",
       "      <td>0.176471</td>\n",
       "    </tr>\n",
       "    <tr>\n",
       "      <th>Braga</th>\n",
       "      <td>0.569665</td>\n",
       "      <td>4.761728</td>\n",
       "      <td>15982.080247</td>\n",
       "      <td>0.904762</td>\n",
       "      <td>0.904762</td>\n",
       "    </tr>\n",
       "    <tr>\n",
       "      <th>Bragança</th>\n",
       "      <td>0.089506</td>\n",
       "      <td>5.555967</td>\n",
       "      <td>2693.423868</td>\n",
       "      <td>0.166667</td>\n",
       "      <td>0.166667</td>\n",
       "    </tr>\n",
       "    <tr>\n",
       "      <th>Castelo Branco</th>\n",
       "      <td>0.141975</td>\n",
       "      <td>5.555617</td>\n",
       "      <td>4164.383745</td>\n",
       "      <td>0.222222</td>\n",
       "      <td>0.222222</td>\n",
       "    </tr>\n",
       "    <tr>\n",
       "      <th>Coimbra</th>\n",
       "      <td>0.253704</td>\n",
       "      <td>5.000481</td>\n",
       "      <td>6998.113889</td>\n",
       "      <td>0.450000</td>\n",
       "      <td>0.450000</td>\n",
       "    </tr>\n",
       "    <tr>\n",
       "      <th>Faro</th>\n",
       "      <td>0.279727</td>\n",
       "      <td>5.263285</td>\n",
       "      <td>6482.658869</td>\n",
       "      <td>0.473684</td>\n",
       "      <td>0.473684</td>\n",
       "    </tr>\n",
       "    <tr>\n",
       "      <th>Guarda</th>\n",
       "      <td>0.105263</td>\n",
       "      <td>5.262641</td>\n",
       "      <td>3268.704678</td>\n",
       "      <td>0.157895</td>\n",
       "      <td>0.157895</td>\n",
       "    </tr>\n",
       "    <tr>\n",
       "      <th>Leiria</th>\n",
       "      <td>0.250441</td>\n",
       "      <td>4.762099</td>\n",
       "      <td>7062.894180</td>\n",
       "      <td>0.476190</td>\n",
       "      <td>0.476190</td>\n",
       "    </tr>\n",
       "    <tr>\n",
       "      <th>Lisboa</th>\n",
       "      <td>0.829630</td>\n",
       "      <td>5.000065</td>\n",
       "      <td>25387.158333</td>\n",
       "      <td>2.400000</td>\n",
       "      <td>2.400000</td>\n",
       "    </tr>\n",
       "    <tr>\n",
       "      <th>Madeira</th>\n",
       "      <td>0.190741</td>\n",
       "      <td>5.000454</td>\n",
       "      <td>4781.623148</td>\n",
       "      <td>0.300000</td>\n",
       "      <td>0.300000</td>\n",
       "    </tr>\n",
       "    <tr>\n",
       "      <th>Portalegre</th>\n",
       "      <td>0.076253</td>\n",
       "      <td>5.882495</td>\n",
       "      <td>2343.648148</td>\n",
       "      <td>0.117647</td>\n",
       "      <td>0.117647</td>\n",
       "    </tr>\n",
       "    <tr>\n",
       "      <th>Porto</th>\n",
       "      <td>0.914462</td>\n",
       "      <td>4.761746</td>\n",
       "      <td>25878.898589</td>\n",
       "      <td>1.904762</td>\n",
       "      <td>1.904762</td>\n",
       "    </tr>\n",
       "    <tr>\n",
       "      <th>Santarém</th>\n",
       "      <td>0.298246</td>\n",
       "      <td>5.262593</td>\n",
       "      <td>8089.453216</td>\n",
       "      <td>0.473684</td>\n",
       "      <td>0.473684</td>\n",
       "    </tr>\n",
       "    <tr>\n",
       "      <th>Setúbal</th>\n",
       "      <td>0.252778</td>\n",
       "      <td>5.000065</td>\n",
       "      <td>9413.785185</td>\n",
       "      <td>0.900000</td>\n",
       "      <td>0.900000</td>\n",
       "    </tr>\n",
       "    <tr>\n",
       "      <th>Território Nacional</th>\n",
       "      <td>5.399471</td>\n",
       "      <td>4.761596</td>\n",
       "      <td>151805.213404</td>\n",
       "      <td>10.761905</td>\n",
       "      <td>10.761905</td>\n",
       "    </tr>\n",
       "    <tr>\n",
       "      <th>Viana do Castelo</th>\n",
       "      <td>0.207407</td>\n",
       "      <td>4.999898</td>\n",
       "      <td>4847.339815</td>\n",
       "      <td>0.300000</td>\n",
       "      <td>0.300000</td>\n",
       "    </tr>\n",
       "    <tr>\n",
       "      <th>Vila Real</th>\n",
       "      <td>0.206019</td>\n",
       "      <td>6.250000</td>\n",
       "      <td>4927.892361</td>\n",
       "      <td>0.312500</td>\n",
       "      <td>0.312500</td>\n",
       "    </tr>\n",
       "    <tr>\n",
       "      <th>Viseu</th>\n",
       "      <td>0.275926</td>\n",
       "      <td>4.999944</td>\n",
       "      <td>7150.900926</td>\n",
       "      <td>0.400000</td>\n",
       "      <td>0.400000</td>\n",
       "    </tr>\n",
       "    <tr>\n",
       "      <th>Évora</th>\n",
       "      <td>0.093567</td>\n",
       "      <td>5.263626</td>\n",
       "      <td>2897.700780</td>\n",
       "      <td>0.157895</td>\n",
       "      <td>0.157895</td>\n",
       "    </tr>\n",
       "  </tbody>\n",
       "</table>\n",
       "</div>"
      ],
      "text/plain": [
       "                     Mandates  validVotesPercentage          Votes      Hondt  \\\n",
       "territoryName                                                                   \n",
       "Aveiro               0.397222              5.000537   11016.150926   0.800000   \n",
       "Açores               0.195244              5.882578    3838.404255   0.294118   \n",
       "Beja                 0.133987              5.881057    3134.818083   0.176471   \n",
       "Braga                0.569665              4.761728   15982.080247   0.904762   \n",
       "Bragança             0.089506              5.555967    2693.423868   0.166667   \n",
       "Castelo Branco       0.141975              5.555617    4164.383745   0.222222   \n",
       "Coimbra              0.253704              5.000481    6998.113889   0.450000   \n",
       "Faro                 0.279727              5.263285    6482.658869   0.473684   \n",
       "Guarda               0.105263              5.262641    3268.704678   0.157895   \n",
       "Leiria               0.250441              4.762099    7062.894180   0.476190   \n",
       "Lisboa               0.829630              5.000065   25387.158333   2.400000   \n",
       "Madeira              0.190741              5.000454    4781.623148   0.300000   \n",
       "Portalegre           0.076253              5.882495    2343.648148   0.117647   \n",
       "Porto                0.914462              4.761746   25878.898589   1.904762   \n",
       "Santarém             0.298246              5.262593    8089.453216   0.473684   \n",
       "Setúbal              0.252778              5.000065    9413.785185   0.900000   \n",
       "Território Nacional  5.399471              4.761596  151805.213404  10.761905   \n",
       "Viana do Castelo     0.207407              4.999898    4847.339815   0.300000   \n",
       "Vila Real            0.206019              6.250000    4927.892361   0.312500   \n",
       "Viseu                0.275926              4.999944    7150.900926   0.400000   \n",
       "Évora                0.093567              5.263626    2897.700780   0.157895   \n",
       "\n",
       "                     FinalMandates  \n",
       "territoryName                       \n",
       "Aveiro                    0.800000  \n",
       "Açores                    0.294118  \n",
       "Beja                      0.176471  \n",
       "Braga                     0.904762  \n",
       "Bragança                  0.166667  \n",
       "Castelo Branco            0.222222  \n",
       "Coimbra                   0.450000  \n",
       "Faro                      0.473684  \n",
       "Guarda                    0.157895  \n",
       "Leiria                    0.476190  \n",
       "Lisboa                    2.400000  \n",
       "Madeira                   0.300000  \n",
       "Portalegre                0.117647  \n",
       "Porto                     1.904762  \n",
       "Santarém                  0.473684  \n",
       "Setúbal                   0.900000  \n",
       "Território Nacional      10.761905  \n",
       "Viana do Castelo          0.300000  \n",
       "Vila Real                 0.312500  \n",
       "Viseu                     0.400000  \n",
       "Évora                     0.157895  "
      ]
     },
     "execution_count": 15,
     "metadata": {},
     "output_type": "execute_result"
    }
   ],
   "source": [
    "ds.groupby(['territoryName'])['Mandates', 'validVotesPercentage', 'Votes', 'Hondt', 'FinalMandates'].mean()"
   ]
  },
  {
   "cell_type": "code",
   "execution_count": 16,
   "metadata": {},
   "outputs": [
    {
     "data": {
      "text/plain": [
       "<matplotlib.axes._subplots.AxesSubplot at 0x1c912407bc8>"
      ]
     },
     "execution_count": 16,
     "metadata": {},
     "output_type": "execute_result"
    },
    {
     "data": {
      "image/png": "[encoded data removed]",
      "text/plain": [
       "<Figure size 432x288 with 1 Axes>"
      ]
     },
     "metadata": {
      "needs_background": "light"
     },
     "output_type": "display_data"
    }
   ],
   "source": [
    "sns.barplot(x='Party',y='FinalMandates', data=ds)"
   ]
  },
  {
   "cell_type": "markdown",
   "metadata": {},
   "source": [
    "There seem to be 2 dominant parties PBD and (unable to see)"
   ]
  },
  {
   "cell_type": "markdown",
   "metadata": {},
   "source": [
    "# Encode categorical columns to numeric values"
   ]
  },
  {
   "cell_type": "code",
   "execution_count": 17,
   "metadata": {},
   "outputs": [],
   "source": [
    "eds=ds"
   ]
  },
  {
   "cell_type": "code",
   "execution_count": 18,
   "metadata": {},
   "outputs": [
    {
     "data": {
      "text/plain": [
       "Index(['TimeElapsed', 'time', 'territoryName', 'totalMandates',\n",
       "       'availableMandates', 'numParishes', 'numParishesApproved', 'blankVotes',\n",
       "       'blankVotesPercentage', 'nullVotes', 'nullVotesPercentage',\n",
       "       'votersPercentage', 'subscribedVoters', 'totalVoters', 'pre.blankVotes',\n",
       "       'pre.blankVotesPercentage', 'pre.nullVotes', 'pre.nullVotesPercentage',\n",
       "       'pre.votersPercentage', 'pre.subscribedVoters', 'pre.totalVoters',\n",
       "       'Party', 'Mandates', 'Percentage', 'validVotesPercentage', 'Votes',\n",
       "       'Hondt', 'FinalMandates'],\n",
       "      dtype='object')"
      ]
     },
     "execution_count": 18,
     "metadata": {},
     "output_type": "execute_result"
    }
   ],
   "source": [
    "eds.columns"
   ]
  },
  {
   "cell_type": "code",
   "execution_count": 19,
   "metadata": {},
   "outputs": [
    {
     "data": {
      "text/plain": [
       "TimeElapsed                   int64\n",
       "time                         object\n",
       "territoryName                object\n",
       "totalMandates                 int64\n",
       "availableMandates             int64\n",
       "numParishes                   int64\n",
       "numParishesApproved           int64\n",
       "blankVotes                    int64\n",
       "blankVotesPercentage        float64\n",
       "nullVotes                     int64\n",
       "nullVotesPercentage         float64\n",
       "votersPercentage            float64\n",
       "subscribedVoters              int64\n",
       "totalVoters                   int64\n",
       "pre.blankVotes                int64\n",
       "pre.blankVotesPercentage    float64\n",
       "pre.nullVotes                 int64\n",
       "pre.nullVotesPercentage     float64\n",
       "pre.votersPercentage        float64\n",
       "pre.subscribedVoters          int64\n",
       "pre.totalVoters               int64\n",
       "Party                        object\n",
       "Mandates                      int64\n",
       "Percentage                  float64\n",
       "validVotesPercentage        float64\n",
       "Votes                         int64\n",
       "Hondt                         int64\n",
       "FinalMandates                 int64\n",
       "dtype: object"
      ]
     },
     "execution_count": 19,
     "metadata": {},
     "output_type": "execute_result"
    }
   ],
   "source": [
    "eds.dtypes"
   ]
  },
  {
   "cell_type": "code",
   "execution_count": 20,
   "metadata": {},
   "outputs": [],
   "source": [
    "# Change categorical data to numerical data for 2 categoriacl columns\n",
    "\n",
    "from sklearn.preprocessing import LabelEncoder\n",
    "le=LabelEncoder()\n",
    "cols=['territoryName', 'Party']\n",
    "for col in cols:\n",
    "    ds[col] = le.fit_transform(ds[col])"
   ]
  },
  {
   "cell_type": "code",
   "execution_count": 21,
   "metadata": {},
   "outputs": [
    {
     "data": {
      "text/html": [
       "<div>\n",
       "<style scoped>\n",
       "    .dataframe tbody tr th:only-of-type {\n",
       "        vertical-align: middle;\n",
       "    }\n",
       "\n",
       "    .dataframe tbody tr th {\n",
       "        vertical-align: top;\n",
       "    }\n",
       "\n",
       "    .dataframe thead th {\n",
       "        text-align: right;\n",
       "    }\n",
       "</style>\n",
       "<table border=\"1\" class=\"dataframe\">\n",
       "  <thead>\n",
       "    <tr style=\"text-align: right;\">\n",
       "      <th></th>\n",
       "      <th>TimeElapsed</th>\n",
       "      <th>time</th>\n",
       "      <th>territoryName</th>\n",
       "      <th>totalMandates</th>\n",
       "      <th>availableMandates</th>\n",
       "      <th>numParishes</th>\n",
       "      <th>numParishesApproved</th>\n",
       "      <th>blankVotes</th>\n",
       "      <th>blankVotesPercentage</th>\n",
       "      <th>nullVotes</th>\n",
       "      <th>...</th>\n",
       "      <th>pre.votersPercentage</th>\n",
       "      <th>pre.subscribedVoters</th>\n",
       "      <th>pre.totalVoters</th>\n",
       "      <th>Party</th>\n",
       "      <th>Mandates</th>\n",
       "      <th>Percentage</th>\n",
       "      <th>validVotesPercentage</th>\n",
       "      <th>Votes</th>\n",
       "      <th>Hondt</th>\n",
       "      <th>FinalMandates</th>\n",
       "    </tr>\n",
       "  </thead>\n",
       "  <tbody>\n",
       "    <tr>\n",
       "      <th>0</th>\n",
       "      <td>0</td>\n",
       "      <td>2019-10-06 20:10:02</td>\n",
       "      <td>16</td>\n",
       "      <td>0</td>\n",
       "      <td>226</td>\n",
       "      <td>3092</td>\n",
       "      <td>1081</td>\n",
       "      <td>9652</td>\n",
       "      <td>2.5</td>\n",
       "      <td>8874</td>\n",
       "      <td>...</td>\n",
       "      <td>52.66</td>\n",
       "      <td>813743</td>\n",
       "      <td>428546</td>\n",
       "      <td>17</td>\n",
       "      <td>0</td>\n",
       "      <td>38.29</td>\n",
       "      <td>40.22</td>\n",
       "      <td>147993</td>\n",
       "      <td>94</td>\n",
       "      <td>106</td>\n",
       "    </tr>\n",
       "    <tr>\n",
       "      <th>1</th>\n",
       "      <td>0</td>\n",
       "      <td>2019-10-06 20:10:02</td>\n",
       "      <td>16</td>\n",
       "      <td>0</td>\n",
       "      <td>226</td>\n",
       "      <td>3092</td>\n",
       "      <td>1081</td>\n",
       "      <td>9652</td>\n",
       "      <td>2.5</td>\n",
       "      <td>8874</td>\n",
       "      <td>...</td>\n",
       "      <td>52.66</td>\n",
       "      <td>813743</td>\n",
       "      <td>428546</td>\n",
       "      <td>15</td>\n",
       "      <td>0</td>\n",
       "      <td>33.28</td>\n",
       "      <td>34.95</td>\n",
       "      <td>128624</td>\n",
       "      <td>81</td>\n",
       "      <td>77</td>\n",
       "    </tr>\n",
       "    <tr>\n",
       "      <th>2</th>\n",
       "      <td>0</td>\n",
       "      <td>2019-10-06 20:10:02</td>\n",
       "      <td>16</td>\n",
       "      <td>0</td>\n",
       "      <td>226</td>\n",
       "      <td>3092</td>\n",
       "      <td>1081</td>\n",
       "      <td>9652</td>\n",
       "      <td>2.5</td>\n",
       "      <td>8874</td>\n",
       "      <td>...</td>\n",
       "      <td>52.66</td>\n",
       "      <td>813743</td>\n",
       "      <td>428546</td>\n",
       "      <td>1</td>\n",
       "      <td>0</td>\n",
       "      <td>6.81</td>\n",
       "      <td>7.15</td>\n",
       "      <td>26307</td>\n",
       "      <td>16</td>\n",
       "      <td>19</td>\n",
       "    </tr>\n",
       "    <tr>\n",
       "      <th>3</th>\n",
       "      <td>0</td>\n",
       "      <td>2019-10-06 20:10:02</td>\n",
       "      <td>16</td>\n",
       "      <td>0</td>\n",
       "      <td>226</td>\n",
       "      <td>3092</td>\n",
       "      <td>1081</td>\n",
       "      <td>9652</td>\n",
       "      <td>2.5</td>\n",
       "      <td>8874</td>\n",
       "      <td>...</td>\n",
       "      <td>52.66</td>\n",
       "      <td>813743</td>\n",
       "      <td>428546</td>\n",
       "      <td>2</td>\n",
       "      <td>0</td>\n",
       "      <td>4.90</td>\n",
       "      <td>5.14</td>\n",
       "      <td>18923</td>\n",
       "      <td>12</td>\n",
       "      <td>5</td>\n",
       "    </tr>\n",
       "    <tr>\n",
       "      <th>4</th>\n",
       "      <td>0</td>\n",
       "      <td>2019-10-06 20:10:02</td>\n",
       "      <td>16</td>\n",
       "      <td>0</td>\n",
       "      <td>226</td>\n",
       "      <td>3092</td>\n",
       "      <td>1081</td>\n",
       "      <td>9652</td>\n",
       "      <td>2.5</td>\n",
       "      <td>8874</td>\n",
       "      <td>...</td>\n",
       "      <td>52.66</td>\n",
       "      <td>813743</td>\n",
       "      <td>428546</td>\n",
       "      <td>11</td>\n",
       "      <td>0</td>\n",
       "      <td>4.59</td>\n",
       "      <td>4.83</td>\n",
       "      <td>17757</td>\n",
       "      <td>11</td>\n",
       "      <td>12</td>\n",
       "    </tr>\n",
       "  </tbody>\n",
       "</table>\n",
       "<p>5 rows × 28 columns</p>\n",
       "</div>"
      ],
      "text/plain": [
       "   TimeElapsed                 time  territoryName  totalMandates  \\\n",
       "0            0  2019-10-06 20:10:02             16              0   \n",
       "1            0  2019-10-06 20:10:02             16              0   \n",
       "2            0  2019-10-06 20:10:02             16              0   \n",
       "3            0  2019-10-06 20:10:02             16              0   \n",
       "4            0  2019-10-06 20:10:02             16              0   \n",
       "\n",
       "   availableMandates  numParishes  numParishesApproved  blankVotes  \\\n",
       "0                226         3092                 1081        9652   \n",
       "1                226         3092                 1081        9652   \n",
       "2                226         3092                 1081        9652   \n",
       "3                226         3092                 1081        9652   \n",
       "4                226         3092                 1081        9652   \n",
       "\n",
       "   blankVotesPercentage  nullVotes  ...  pre.votersPercentage  \\\n",
       "0                   2.5       8874  ...                 52.66   \n",
       "1                   2.5       8874  ...                 52.66   \n",
       "2                   2.5       8874  ...                 52.66   \n",
       "3                   2.5       8874  ...                 52.66   \n",
       "4                   2.5       8874  ...                 52.66   \n",
       "\n",
       "   pre.subscribedVoters  pre.totalVoters  Party  Mandates  Percentage  \\\n",
       "0                813743           428546     17         0       38.29   \n",
       "1                813743           428546     15         0       33.28   \n",
       "2                813743           428546      1         0        6.81   \n",
       "3                813743           428546      2         0        4.90   \n",
       "4                813743           428546     11         0        4.59   \n",
       "\n",
       "   validVotesPercentage   Votes  Hondt  FinalMandates  \n",
       "0                 40.22  147993     94            106  \n",
       "1                 34.95  128624     81             77  \n",
       "2                  7.15   26307     16             19  \n",
       "3                  5.14   18923     12              5  \n",
       "4                  4.83   17757     11             12  \n",
       "\n",
       "[5 rows x 28 columns]"
      ]
     },
     "execution_count": 21,
     "metadata": {},
     "output_type": "execute_result"
    }
   ],
   "source": [
    "eds.head()"
   ]
  },
  {
   "cell_type": "markdown",
   "metadata": {},
   "source": [
    "# Check correlation after encoding"
   ]
  },
  {
   "cell_type": "code",
   "execution_count": 22,
   "metadata": {},
   "outputs": [
    {
     "data": {
      "text/plain": [
       "<matplotlib.axes._subplots.AxesSubplot at 0x1c912622888>"
      ]
     },
     "execution_count": 22,
     "metadata": {},
     "output_type": "execute_result"
    },
    {
     "data": {
      "image/png": "[encoded data removed]",
      "text/plain": [
       "<Figure size 432x288 with 2 Axes>"
      ]
     },
     "metadata": {
      "needs_background": "light"
     },
     "output_type": "display_data"
    }
   ],
   "source": [
    "dscor=eds.corr()\n",
    "sns.heatmap(dscor)"
   ]
  },
  {
   "cell_type": "markdown",
   "metadata": {},
   "source": [
    "correlation to the target column:\n",
    "    Best: Hondt, Votes, Mandates\n",
    "    Worst: TimeElapsed, time, blankVotesPercentage, nullVotesPercentage, votersPercentage, pre.blankVotesPercentage,pre.nullVotesPercentage, pre.votersPercentage, Party        "
   ]
  },
  {
   "cell_type": "markdown",
   "metadata": {},
   "source": [
    "# Drop irrelevant columns"
   ]
  },
  {
   "cell_type": "code",
   "execution_count": 23,
   "metadata": {},
   "outputs": [
    {
     "data": {
      "text/plain": [
       "Index(['TimeElapsed', 'time', 'territoryName', 'totalMandates',\n",
       "       'availableMandates', 'numParishes', 'numParishesApproved', 'blankVotes',\n",
       "       'blankVotesPercentage', 'nullVotes', 'nullVotesPercentage',\n",
       "       'votersPercentage', 'subscribedVoters', 'totalVoters', 'pre.blankVotes',\n",
       "       'pre.blankVotesPercentage', 'pre.nullVotes', 'pre.nullVotesPercentage',\n",
       "       'pre.votersPercentage', 'pre.subscribedVoters', 'pre.totalVoters',\n",
       "       'Party', 'Mandates', 'Percentage', 'validVotesPercentage', 'Votes',\n",
       "       'Hondt', 'FinalMandates'],\n",
       "      dtype='object')"
      ]
     },
     "execution_count": 23,
     "metadata": {},
     "output_type": "execute_result"
    }
   ],
   "source": [
    "eds.columns"
   ]
  },
  {
   "cell_type": "code",
   "execution_count": 24,
   "metadata": {},
   "outputs": [],
   "source": [
    "# Drop irrelevant (poorly correlated) columns - dataset renamed to nds (new dataset)\n",
    "nds=ds.drop(columns=['time'])"
   ]
  },
  {
   "cell_type": "markdown",
   "metadata": {},
   "source": [
    "# Find and remove outliers"
   ]
  },
  {
   "cell_type": "code",
   "execution_count": 25,
   "metadata": {},
   "outputs": [
    {
     "data": {
      "text/plain": [
       "(21643, 27)"
      ]
     },
     "execution_count": 25,
     "metadata": {},
     "output_type": "execute_result"
    }
   ],
   "source": [
    "nds.shape"
   ]
  },
  {
   "cell_type": "code",
   "execution_count": 26,
   "metadata": {},
   "outputs": [
    {
     "data": {
      "image/png": "[encoded data removed]",
      "text/plain": [
       "<Figure size 1944x9720 with 26 Axes>"
      ]
     },
     "metadata": {
      "needs_background": "light"
     },
     "output_type": "display_data"
    }
   ],
   "source": [
    "# Show boxplots for all columns, check outliers\n",
    "collist=nds.columns.values\n",
    "ncol=27\n",
    "nrows=10\n",
    "\n",
    "plt.figure(figsize=(ncol,5*ncol))\n",
    "for i in range(1, len(collist)):\n",
    "    plt.subplot(nrows,ncol,i+1)\n",
    "    sns.boxplot(nds[collist[i]], color='red', orient='v')\n",
    "    plt.tight_layout()"
   ]
  },
  {
   "cell_type": "code",
   "execution_count": 27,
   "metadata": {},
   "outputs": [
    {
     "name": "stdout",
     "output_type": "stream",
     "text": [
      "(21643, 27)\n",
      "(18333, 27)\n"
     ]
    }
   ],
   "source": [
    "# Remove outliers - dataset renamed to cds (clean dataset)\n",
    "from scipy import stats\n",
    "from scipy.stats import zscore\n",
    "\n",
    "z_score=abs(zscore(nds))\n",
    "print(nds.shape)\n",
    "cds=nds.loc[(z_score<3).all(axis=1)]\n",
    "print(cds.shape)"
   ]
  },
  {
   "cell_type": "markdown",
   "metadata": {},
   "source": [
    "# Check and adjust skewness"
   ]
  },
  {
   "cell_type": "code",
   "execution_count": 28,
   "metadata": {},
   "outputs": [
    {
     "data": {
      "text/plain": [
       "TimeElapsed                -0.024110\n",
       "territoryName               0.034073\n",
       "totalMandates               2.542453\n",
       "availableMandates           2.593527\n",
       "numParishes                 0.585363\n",
       "numParishesApproved         0.619329\n",
       "blankVotes                  1.800122\n",
       "blankVotesPercentage       -0.844508\n",
       "nullVotes                   2.103352\n",
       "nullVotesPercentage         0.564426\n",
       "votersPercentage           -0.392023\n",
       "subscribedVoters            2.407541\n",
       "totalVoters                 2.468630\n",
       "pre.blankVotes              2.034860\n",
       "pre.blankVotesPercentage   -0.410446\n",
       "pre.nullVotes               2.340000\n",
       "pre.nullVotesPercentage     1.033803\n",
       "pre.votersPercentage       -0.514215\n",
       "pre.subscribedVoters        2.370988\n",
       "pre.totalVoters             2.468950\n",
       "Party                       0.009657\n",
       "Mandates                    7.177093\n",
       "Percentage                  3.373567\n",
       "validVotesPercentage        3.383145\n",
       "Votes                       7.310058\n",
       "Hondt                       7.012845\n",
       "FinalMandates               6.746120\n",
       "dtype: float64"
      ]
     },
     "execution_count": 28,
     "metadata": {},
     "output_type": "execute_result"
    }
   ],
   "source": [
    "# Show skewness (less than 0.55 is ok)\n",
    "cds.skew()"
   ]
  },
  {
   "cell_type": "code",
   "execution_count": 29,
   "metadata": {},
   "outputs": [],
   "source": [
    "#Treat skewness using log\n",
    "for col in cds.columns:\n",
    "    if cds.skew().loc[col]>0.55:\n",
    "        cds[col]=np.log1p(cds[col])"
   ]
  },
  {
   "cell_type": "code",
   "execution_count": 30,
   "metadata": {},
   "outputs": [
    {
     "data": {
      "text/plain": [
       "TimeElapsed                -0.024110\n",
       "territoryName               0.034073\n",
       "totalMandates               0.020702\n",
       "availableMandates           0.503375\n",
       "numParishes                -0.138265\n",
       "numParishesApproved        -1.099103\n",
       "blankVotes                 -0.592756\n",
       "blankVotesPercentage       -0.844508\n",
       "nullVotes                  -0.880145\n",
       "nullVotesPercentage         0.329675\n",
       "votersPercentage           -0.392023\n",
       "subscribedVoters           -0.772107\n",
       "totalVoters                -0.647681\n",
       "pre.blankVotes             -0.642916\n",
       "pre.blankVotesPercentage   -0.410446\n",
       "pre.nullVotes              -0.937998\n",
       "pre.nullVotesPercentage     0.628444\n",
       "pre.votersPercentage       -0.514215\n",
       "pre.subscribedVoters       -0.802802\n",
       "pre.totalVoters            -0.670218\n",
       "Party                       0.009657\n",
       "Mandates                    4.479200\n",
       "Percentage                  1.565493\n",
       "validVotesPercentage        1.550088\n",
       "Votes                       0.268973\n",
       "Hondt                       3.488567\n",
       "FinalMandates               3.368168\n",
       "dtype: float64"
      ]
     },
     "execution_count": 30,
     "metadata": {},
     "output_type": "execute_result"
    }
   ],
   "source": [
    "cds.skew()"
   ]
  },
  {
   "cell_type": "markdown",
   "metadata": {},
   "source": [
    "# Split data into x and y"
   ]
  },
  {
   "cell_type": "code",
   "execution_count": 31,
   "metadata": {},
   "outputs": [
    {
     "data": {
      "text/plain": [
       "Index(['TimeElapsed', 'territoryName', 'totalMandates', 'availableMandates',\n",
       "       'numParishes', 'numParishesApproved', 'blankVotes',\n",
       "       'blankVotesPercentage', 'nullVotes', 'nullVotesPercentage',\n",
       "       'votersPercentage', 'subscribedVoters', 'totalVoters', 'pre.blankVotes',\n",
       "       'pre.blankVotesPercentage', 'pre.nullVotes', 'pre.nullVotesPercentage',\n",
       "       'pre.votersPercentage', 'pre.subscribedVoters', 'pre.totalVoters',\n",
       "       'Party', 'Mandates', 'Percentage', 'validVotesPercentage', 'Votes',\n",
       "       'Hondt', 'FinalMandates'],\n",
       "      dtype='object')"
      ]
     },
     "execution_count": 31,
     "metadata": {},
     "output_type": "execute_result"
    }
   ],
   "source": [
    "cds.columns"
   ]
  },
  {
   "cell_type": "code",
   "execution_count": 32,
   "metadata": {},
   "outputs": [],
   "source": [
    "# Lineup target and input values\n",
    "x=cds.drop(columns=['FinalMandates'])\n",
    "y=cds[['FinalMandates']]"
   ]
  },
  {
   "cell_type": "code",
   "execution_count": 35,
   "metadata": {},
   "outputs": [
    {
     "data": {
      "text/plain": [
       "TimeElapsed                -0.024110\n",
       "territoryName               0.034073\n",
       "totalMandates               0.020702\n",
       "availableMandates           0.503375\n",
       "numParishes                -0.138265\n",
       "numParishesApproved        -1.099103\n",
       "blankVotes                 -0.592756\n",
       "blankVotesPercentage       -0.844508\n",
       "nullVotes                  -0.880145\n",
       "nullVotesPercentage         0.329675\n",
       "votersPercentage           -0.392023\n",
       "subscribedVoters           -0.772107\n",
       "totalVoters                -0.647681\n",
       "pre.blankVotes             -0.642916\n",
       "pre.blankVotesPercentage   -0.410446\n",
       "pre.nullVotes              -0.937998\n",
       "pre.nullVotesPercentage     0.628444\n",
       "pre.votersPercentage       -0.514215\n",
       "pre.subscribedVoters       -0.802802\n",
       "pre.totalVoters            -0.670218\n",
       "Party                       0.009657\n",
       "Mandates                    4.479200\n",
       "Percentage                  1.565493\n",
       "validVotesPercentage        1.550088\n",
       "Votes                       0.268973\n",
       "Hondt                       3.488567\n",
       "dtype: float64"
      ]
     },
     "execution_count": 35,
     "metadata": {},
     "output_type": "execute_result"
    }
   ],
   "source": [
    "x.skew()"
   ]
  },
  {
   "cell_type": "markdown",
   "metadata": {},
   "source": [
    "# Train-Test split"
   ]
  },
  {
   "cell_type": "code",
   "execution_count": 36,
   "metadata": {},
   "outputs": [],
   "source": [
    "# Train test split\n",
    "from sklearn.model_selection import train_test_split\n",
    "x_train,x_test, y_train, y_test = train_test_split(x,y, random_state=55, test_size=0.20)"
   ]
  },
  {
   "cell_type": "code",
   "execution_count": null,
   "metadata": {},
   "outputs": [],
   "source": []
  },
  {
   "cell_type": "markdown",
   "metadata": {},
   "source": [
    "# Model"
   ]
  },
  {
   "cell_type": "code",
   "execution_count": 37,
   "metadata": {},
   "outputs": [],
   "source": [
    "from sklearn.preprocessing import StandardScaler\n",
    "from sklearn.model_selection import train_test_split\n",
    "from sklearn.model_selection import cross_val_score\n",
    "from sklearn.metrics import mean_absolute_error\n",
    "from sklearn.metrics import mean_squared_error\n",
    "from sklearn.metrics import r2_score\n",
    "from sklearn.externals import joblib\n",
    "from sklearn import linear_model"
   ]
  },
  {
   "cell_type": "code",
   "execution_count": 38,
   "metadata": {},
   "outputs": [
    {
     "name": "stdout",
     "output_type": "stream",
     "text": [
      "Max r2 score for 89 is 0.9843186538427783\n"
     ]
    }
   ],
   "source": [
    "# Error calculation\n",
    "max_r_score=0\n",
    "for r_state in range(42,100):\n",
    "    x_train,x_test, y_train, y_test = train_test_split(x,y, random_state=r_state, test_size=0.20)\n",
    "    regr=linear_model.LinearRegression()\n",
    "    regr.fit(x_train,y_train)\n",
    "    y_pred=regr.predict(x_test)\n",
    "    r2_scr=r2_score(y_test,y_pred)\n",
    "    if r2_scr>max_r_score:\n",
    "        max_r_score=r2_scr\n",
    "        final_r_state=r_state\n",
    "print(\"Max r2 score for\",final_r_state,\"is\", max_r_score)"
   ]
  },
  {
   "cell_type": "code",
   "execution_count": 39,
   "metadata": {},
   "outputs": [
    {
     "data": {
      "text/plain": [
       "0.9789832736106698"
      ]
     },
     "execution_count": 39,
     "metadata": {},
     "output_type": "execute_result"
    }
   ],
   "source": [
    "# Crossvalidation\n",
    "cross_val_score(linear_model.LinearRegression(),x,y,cv=10,scoring='r2').mean()"
   ]
  },
  {
   "cell_type": "code",
   "execution_count": 40,
   "metadata": {},
   "outputs": [],
   "source": [
    "# R2 score gives us a rondom state of 51\n",
    "x_train,x_test, y_train, y_test = train_test_split(x,y, random_state=51, test_size=0.20)\n",
    "lreg=linear_model.LinearRegression()\n",
    "lreg.fit(x_train,y_train)\n",
    "y_pred=lreg.predict(x_test)"
   ]
  },
  {
   "cell_type": "code",
   "execution_count": 41,
   "metadata": {},
   "outputs": [
    {
     "name": "stdout",
     "output_type": "stream",
     "text": [
      "r score is:  0.9757854525861362\n",
      "RMSE is:  0.06655782388690883\n"
     ]
    }
   ],
   "source": [
    "# R2 and Mean squared error statements\n",
    "print('r score is: ',r2_score(y_test,y_pred))\n",
    "print('RMSE is: ', np.sqrt(mean_squared_error(y_test, y_pred)))"
   ]
  },
  {
   "cell_type": "markdown",
   "metadata": {},
   "source": [
    "I choose the Linear Regression model because it has the best score\n",
    "\n",
    "Mean r2 score for GradientBoosting Regression: 97.6\n",
    "Standard deviation in r2 score for GradientBoosting Regression: 6.7"
   ]
  },
  {
   "cell_type": "markdown",
   "metadata": {},
   "source": [
    "# Save the model"
   ]
  },
  {
   "cell_type": "code",
   "execution_count": 42,
   "metadata": {},
   "outputs": [
    {
     "data": {
      "text/plain": [
       "['Final_Mandates.pkl']"
      ]
     },
     "execution_count": 42,
     "metadata": {},
     "output_type": "execute_result"
    }
   ],
   "source": [
    "#save model as a pickle file\n",
    "from sklearn.externals import joblib\n",
    "joblib.dump(lreg,'Final_Mandates.pkl')"
   ]
  },
  {
   "cell_type": "code",
   "execution_count": 43,
   "metadata": {},
   "outputs": [
    {
     "data": {
      "text/plain": [
       "array([[-0.00402212],\n",
       "       [ 0.00106705],\n",
       "       [ 0.00711807],\n",
       "       ...,\n",
       "       [ 0.00502681],\n",
       "       [ 0.00291484],\n",
       "       [ 0.00717295]])"
      ]
     },
     "execution_count": 43,
     "metadata": {},
     "output_type": "execute_result"
    }
   ],
   "source": [
    "# Load and use model to make a prediction\n",
    "model=joblib.load('Final_Mandates.pkl')\n",
    "model.predict(x_test)"
   ]
  }
 ],
 "metadata": {
  "kernelspec": {
   "display_name": "Python 3",
   "language": "python",
   "name": "python3"
  },
  "language_info": {
   "codemirror_mode": {
    "name": "ipython",
    "version": 3
   },
   "file_extension": ".py",
   "mimetype": "text/x-python",
   "name": "python",
   "nbconvert_exporter": "python",
   "pygments_lexer": "ipython3",
   "version": "3.7.6"
  }
 },
 "nbformat": 4,
 "nbformat_minor": 4
}
