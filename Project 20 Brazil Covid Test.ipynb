{
 "cells": [
  {
   "cell_type": "markdown",
   "metadata": {},
   "source": [
    "# Predict the confirmed cases in Brazil and which ward they will be admitted to"
   ]
  },
  {
   "cell_type": "markdown",
   "metadata": {},
   "source": [
    "# Load and take a look at the data"
   ]
  },
  {
   "cell_type": "code",
   "execution_count": 290,
   "metadata": {},
   "outputs": [],
   "source": [
    "# Load relevant libraries\n",
    "import pandas as pd\n",
    "import numpy as np\n",
    "import matplotlib.pyplot as plt\n",
    "import seaborn as sns\n",
    "import scipy\n",
    "from scipy import stats\n",
    "import warnings\n",
    "warnings.filterwarnings('ignore')"
   ]
  },
  {
   "cell_type": "code",
   "execution_count": 291,
   "metadata": {},
   "outputs": [],
   "source": [
    "# Load data\n",
    "ds=pd.read_csv('covid19_clinical_dataset.csv')"
   ]
  },
  {
   "cell_type": "code",
   "execution_count": 292,
   "metadata": {},
   "outputs": [
    {
     "data": {
      "text/html": [
       "<div>\n",
       "<style scoped>\n",
       "    .dataframe tbody tr th:only-of-type {\n",
       "        vertical-align: middle;\n",
       "    }\n",
       "\n",
       "    .dataframe tbody tr th {\n",
       "        vertical-align: top;\n",
       "    }\n",
       "\n",
       "    .dataframe thead th {\n",
       "        text-align: right;\n",
       "    }\n",
       "</style>\n",
       "<table border=\"1\" class=\"dataframe\">\n",
       "  <thead>\n",
       "    <tr style=\"text-align: right;\">\n",
       "      <th></th>\n",
       "      <th>Patient ID</th>\n",
       "      <th>Patient age quantile</th>\n",
       "      <th>SARS-Cov-2 exam result</th>\n",
       "      <th>Patient addmited to regular ward (1=yes, 0=no)</th>\n",
       "      <th>Patient addmited to semi-intensive unit (1=yes, 0=no)</th>\n",
       "      <th>Patient addmited to intensive care unit (1=yes, 0=no)</th>\n",
       "      <th>Hematocrit</th>\n",
       "      <th>Hemoglobin</th>\n",
       "      <th>Platelets</th>\n",
       "      <th>Mean platelet volume</th>\n",
       "      <th>...</th>\n",
       "      <th>Hb saturation (arterial blood gases)</th>\n",
       "      <th>pCO2 (arterial blood gas analysis)</th>\n",
       "      <th>Base excess (arterial blood gas analysis)</th>\n",
       "      <th>pH (arterial blood gas analysis)</th>\n",
       "      <th>Total CO2 (arterial blood gas analysis)</th>\n",
       "      <th>HCO3 (arterial blood gas analysis)</th>\n",
       "      <th>pO2 (arterial blood gas analysis)</th>\n",
       "      <th>Arteiral Fio2</th>\n",
       "      <th>Phosphor</th>\n",
       "      <th>ctO2 (arterial blood gas analysis)</th>\n",
       "    </tr>\n",
       "  </thead>\n",
       "  <tbody>\n",
       "    <tr>\n",
       "      <th>0</th>\n",
       "      <td>44477f75e8169d2</td>\n",
       "      <td>13</td>\n",
       "      <td>negative</td>\n",
       "      <td>0</td>\n",
       "      <td>0</td>\n",
       "      <td>0</td>\n",
       "      <td>NaN</td>\n",
       "      <td>NaN</td>\n",
       "      <td>NaN</td>\n",
       "      <td>NaN</td>\n",
       "      <td>...</td>\n",
       "      <td>NaN</td>\n",
       "      <td>NaN</td>\n",
       "      <td>NaN</td>\n",
       "      <td>NaN</td>\n",
       "      <td>NaN</td>\n",
       "      <td>NaN</td>\n",
       "      <td>NaN</td>\n",
       "      <td>NaN</td>\n",
       "      <td>NaN</td>\n",
       "      <td>NaN</td>\n",
       "    </tr>\n",
       "    <tr>\n",
       "      <th>1</th>\n",
       "      <td>126e9dd13932f68</td>\n",
       "      <td>17</td>\n",
       "      <td>negative</td>\n",
       "      <td>0</td>\n",
       "      <td>0</td>\n",
       "      <td>0</td>\n",
       "      <td>0.236515</td>\n",
       "      <td>-0.02234</td>\n",
       "      <td>-0.517413</td>\n",
       "      <td>0.010677</td>\n",
       "      <td>...</td>\n",
       "      <td>NaN</td>\n",
       "      <td>NaN</td>\n",
       "      <td>NaN</td>\n",
       "      <td>NaN</td>\n",
       "      <td>NaN</td>\n",
       "      <td>NaN</td>\n",
       "      <td>NaN</td>\n",
       "      <td>NaN</td>\n",
       "      <td>NaN</td>\n",
       "      <td>NaN</td>\n",
       "    </tr>\n",
       "    <tr>\n",
       "      <th>2</th>\n",
       "      <td>a46b4402a0e5696</td>\n",
       "      <td>8</td>\n",
       "      <td>negative</td>\n",
       "      <td>0</td>\n",
       "      <td>0</td>\n",
       "      <td>0</td>\n",
       "      <td>NaN</td>\n",
       "      <td>NaN</td>\n",
       "      <td>NaN</td>\n",
       "      <td>NaN</td>\n",
       "      <td>...</td>\n",
       "      <td>NaN</td>\n",
       "      <td>NaN</td>\n",
       "      <td>NaN</td>\n",
       "      <td>NaN</td>\n",
       "      <td>NaN</td>\n",
       "      <td>NaN</td>\n",
       "      <td>NaN</td>\n",
       "      <td>NaN</td>\n",
       "      <td>NaN</td>\n",
       "      <td>NaN</td>\n",
       "    </tr>\n",
       "    <tr>\n",
       "      <th>3</th>\n",
       "      <td>f7d619a94f97c45</td>\n",
       "      <td>5</td>\n",
       "      <td>negative</td>\n",
       "      <td>0</td>\n",
       "      <td>0</td>\n",
       "      <td>0</td>\n",
       "      <td>NaN</td>\n",
       "      <td>NaN</td>\n",
       "      <td>NaN</td>\n",
       "      <td>NaN</td>\n",
       "      <td>...</td>\n",
       "      <td>NaN</td>\n",
       "      <td>NaN</td>\n",
       "      <td>NaN</td>\n",
       "      <td>NaN</td>\n",
       "      <td>NaN</td>\n",
       "      <td>NaN</td>\n",
       "      <td>NaN</td>\n",
       "      <td>NaN</td>\n",
       "      <td>NaN</td>\n",
       "      <td>NaN</td>\n",
       "    </tr>\n",
       "    <tr>\n",
       "      <th>4</th>\n",
       "      <td>d9e41465789c2b5</td>\n",
       "      <td>15</td>\n",
       "      <td>negative</td>\n",
       "      <td>0</td>\n",
       "      <td>0</td>\n",
       "      <td>0</td>\n",
       "      <td>NaN</td>\n",
       "      <td>NaN</td>\n",
       "      <td>NaN</td>\n",
       "      <td>NaN</td>\n",
       "      <td>...</td>\n",
       "      <td>NaN</td>\n",
       "      <td>NaN</td>\n",
       "      <td>NaN</td>\n",
       "      <td>NaN</td>\n",
       "      <td>NaN</td>\n",
       "      <td>NaN</td>\n",
       "      <td>NaN</td>\n",
       "      <td>NaN</td>\n",
       "      <td>NaN</td>\n",
       "      <td>NaN</td>\n",
       "    </tr>\n",
       "  </tbody>\n",
       "</table>\n",
       "<p>5 rows × 111 columns</p>\n",
       "</div>"
      ],
      "text/plain": [
       "        Patient ID  Patient age quantile SARS-Cov-2 exam result  \\\n",
       "0  44477f75e8169d2                    13               negative   \n",
       "1  126e9dd13932f68                    17               negative   \n",
       "2  a46b4402a0e5696                     8               negative   \n",
       "3  f7d619a94f97c45                     5               negative   \n",
       "4  d9e41465789c2b5                    15               negative   \n",
       "\n",
       "   Patient addmited to regular ward (1=yes, 0=no)  \\\n",
       "0                                               0   \n",
       "1                                               0   \n",
       "2                                               0   \n",
       "3                                               0   \n",
       "4                                               0   \n",
       "\n",
       "   Patient addmited to semi-intensive unit (1=yes, 0=no)  \\\n",
       "0                                                  0       \n",
       "1                                                  0       \n",
       "2                                                  0       \n",
       "3                                                  0       \n",
       "4                                                  0       \n",
       "\n",
       "   Patient addmited to intensive care unit (1=yes, 0=no)  Hematocrit  \\\n",
       "0                                                  0             NaN   \n",
       "1                                                  0        0.236515   \n",
       "2                                                  0             NaN   \n",
       "3                                                  0             NaN   \n",
       "4                                                  0             NaN   \n",
       "\n",
       "   Hemoglobin  Platelets  Mean platelet volume   ...  \\\n",
       "0         NaN        NaN                    NaN  ...   \n",
       "1    -0.02234  -0.517413               0.010677  ...   \n",
       "2         NaN        NaN                    NaN  ...   \n",
       "3         NaN        NaN                    NaN  ...   \n",
       "4         NaN        NaN                    NaN  ...   \n",
       "\n",
       "   Hb saturation (arterial blood gases)  pCO2 (arterial blood gas analysis)  \\\n",
       "0                                   NaN                                 NaN   \n",
       "1                                   NaN                                 NaN   \n",
       "2                                   NaN                                 NaN   \n",
       "3                                   NaN                                 NaN   \n",
       "4                                   NaN                                 NaN   \n",
       "\n",
       "   Base excess (arterial blood gas analysis)  \\\n",
       "0                                        NaN   \n",
       "1                                        NaN   \n",
       "2                                        NaN   \n",
       "3                                        NaN   \n",
       "4                                        NaN   \n",
       "\n",
       "   pH (arterial blood gas analysis)  Total CO2 (arterial blood gas analysis)  \\\n",
       "0                               NaN                                      NaN   \n",
       "1                               NaN                                      NaN   \n",
       "2                               NaN                                      NaN   \n",
       "3                               NaN                                      NaN   \n",
       "4                               NaN                                      NaN   \n",
       "\n",
       "   HCO3 (arterial blood gas analysis)  pO2 (arterial blood gas analysis)  \\\n",
       "0                                 NaN                                NaN   \n",
       "1                                 NaN                                NaN   \n",
       "2                                 NaN                                NaN   \n",
       "3                                 NaN                                NaN   \n",
       "4                                 NaN                                NaN   \n",
       "\n",
       "   Arteiral Fio2  Phosphor  ctO2 (arterial blood gas analysis)  \n",
       "0            NaN       NaN                                 NaN  \n",
       "1            NaN       NaN                                 NaN  \n",
       "2            NaN       NaN                                 NaN  \n",
       "3            NaN       NaN                                 NaN  \n",
       "4            NaN       NaN                                 NaN  \n",
       "\n",
       "[5 rows x 111 columns]"
      ]
     },
     "execution_count": 292,
     "metadata": {},
     "output_type": "execute_result"
    }
   ],
   "source": [
    "ds.head()"
   ]
  },
  {
   "cell_type": "code",
   "execution_count": 293,
   "metadata": {},
   "outputs": [
    {
     "data": {
      "text/plain": [
       "(5644, 111)"
      ]
     },
     "execution_count": 293,
     "metadata": {},
     "output_type": "execute_result"
    }
   ],
   "source": [
    "ds.shape"
   ]
  },
  {
   "cell_type": "code",
   "execution_count": 294,
   "metadata": {},
   "outputs": [
    {
     "data": {
      "text/plain": [
       "Patient ID                                                object\n",
       "Patient age quantile                                       int64\n",
       "SARS-Cov-2 exam result                                    object\n",
       "Patient addmited to regular ward (1=yes, 0=no)             int64\n",
       "Patient addmited to semi-intensive unit (1=yes, 0=no)      int64\n",
       "                                                          ...   \n",
       "HCO3 (arterial blood gas analysis)                       float64\n",
       "pO2 (arterial blood gas analysis)                        float64\n",
       "Arteiral Fio2                                            float64\n",
       "Phosphor                                                 float64\n",
       "ctO2 (arterial blood gas analysis)                       float64\n",
       "Length: 111, dtype: object"
      ]
     },
     "execution_count": 294,
     "metadata": {},
     "output_type": "execute_result"
    }
   ],
   "source": [
    "ds.dtypes"
   ]
  },
  {
   "cell_type": "markdown",
   "metadata": {},
   "source": [
    "# Check and treat null values"
   ]
  },
  {
   "cell_type": "code",
   "execution_count": 295,
   "metadata": {},
   "outputs": [
    {
     "data": {
      "text/plain": [
       "<matplotlib.axes._subplots.AxesSubplot at 0x1b78280b908>"
      ]
     },
     "execution_count": 295,
     "metadata": {},
     "output_type": "execute_result"
    },
    {
     "data": {
      "image/png": "[encoded data removed]",
      "text/plain": [
       "<Figure size 432x288 with 2 Axes>"
      ]
     },
     "metadata": {
      "needs_background": "light"
     },
     "output_type": "display_data"
    }
   ],
   "source": [
    "sns.heatmap(ds.isnull())"
   ]
  },
  {
   "cell_type": "code",
   "execution_count": 296,
   "metadata": {},
   "outputs": [
    {
     "data": {
      "text/plain": [
       "Patient ID                                                  0\n",
       "Patient age quantile                                        0\n",
       "SARS-Cov-2 exam result                                      0\n",
       "Patient addmited to regular ward (1=yes, 0=no)              0\n",
       "Patient addmited to semi-intensive unit (1=yes, 0=no)       0\n",
       "                                                         ... \n",
       "HCO3 (arterial blood gas analysis)                       5617\n",
       "pO2 (arterial blood gas analysis)                        5617\n",
       "Arteiral Fio2                                            5624\n",
       "Phosphor                                                 5624\n",
       "ctO2 (arterial blood gas analysis)                       5617\n",
       "Length: 111, dtype: int64"
      ]
     },
     "execution_count": 296,
     "metadata": {},
     "output_type": "execute_result"
    }
   ],
   "source": [
    "ds.isnull().sum()"
   ]
  },
  {
   "cell_type": "code",
   "execution_count": 297,
   "metadata": {},
   "outputs": [
    {
     "data": {
      "text/plain": [
       "Index(['Patient ID', 'Patient age quantile', 'SARS-Cov-2 exam result',\n",
       "       'Patient addmited to regular ward (1=yes, 0=no)',\n",
       "       'Patient addmited to semi-intensive unit (1=yes, 0=no)',\n",
       "       'Patient addmited to intensive care unit (1=yes, 0=no)', 'Hematocrit',\n",
       "       'Hemoglobin', 'Platelets', 'Mean platelet volume ',\n",
       "       ...\n",
       "       'Hb saturation (arterial blood gases)',\n",
       "       'pCO2 (arterial blood gas analysis)',\n",
       "       'Base excess (arterial blood gas analysis)',\n",
       "       'pH (arterial blood gas analysis)',\n",
       "       'Total CO2 (arterial blood gas analysis)',\n",
       "       'HCO3 (arterial blood gas analysis)',\n",
       "       'pO2 (arterial blood gas analysis)', 'Arteiral Fio2', 'Phosphor',\n",
       "       'ctO2 (arterial blood gas analysis)'],\n",
       "      dtype='object', length=111)"
      ]
     },
     "execution_count": 297,
     "metadata": {},
     "output_type": "execute_result"
    }
   ],
   "source": [
    "ds.columns"
   ]
  },
  {
   "cell_type": "code",
   "execution_count": 298,
   "metadata": {},
   "outputs": [],
   "source": [
    "ds.loc[ds['Patient addmited to regular ward (1=yes, 0=no)'] == 1, 'Ward (Regular=1 Semi Intensive=2 Intenssive Care =3)'] = 1\n",
    "ds.loc[ds['Patient addmited to regular ward (1=yes, 0=no)'] == 0, 'Ward (Regular=1 Semi Intensive=2 Intenssive Care =3)'] = 0\n",
    "ds.loc[ds['Patient addmited to semi-intensive unit (1=yes, 0=no)'] == 1, 'Ward (Regular=1 Semi Intensive=2 Intenssive Care =3)'] = 2\n",
    "ds.loc[ds['Patient addmited to intensive care unit (1=yes, 0=no)'] == 1, 'Ward (Regular=1 Semi Intensive=2 Intenssive Care =3)'] = 3"
   ]
  },
  {
   "cell_type": "code",
   "execution_count": 299,
   "metadata": {},
   "outputs": [
    {
     "data": {
      "text/html": [
       "<div>\n",
       "<style scoped>\n",
       "    .dataframe tbody tr th:only-of-type {\n",
       "        vertical-align: middle;\n",
       "    }\n",
       "\n",
       "    .dataframe tbody tr th {\n",
       "        vertical-align: top;\n",
       "    }\n",
       "\n",
       "    .dataframe thead th {\n",
       "        text-align: right;\n",
       "    }\n",
       "</style>\n",
       "<table border=\"1\" class=\"dataframe\">\n",
       "  <thead>\n",
       "    <tr style=\"text-align: right;\">\n",
       "      <th></th>\n",
       "      <th>Patient ID</th>\n",
       "      <th>Patient age quantile</th>\n",
       "      <th>SARS-Cov-2 exam result</th>\n",
       "      <th>Patient addmited to regular ward (1=yes, 0=no)</th>\n",
       "      <th>Patient addmited to semi-intensive unit (1=yes, 0=no)</th>\n",
       "      <th>Patient addmited to intensive care unit (1=yes, 0=no)</th>\n",
       "      <th>Hematocrit</th>\n",
       "      <th>Hemoglobin</th>\n",
       "      <th>Platelets</th>\n",
       "      <th>Mean platelet volume</th>\n",
       "      <th>...</th>\n",
       "      <th>pCO2 (arterial blood gas analysis)</th>\n",
       "      <th>Base excess (arterial blood gas analysis)</th>\n",
       "      <th>pH (arterial blood gas analysis)</th>\n",
       "      <th>Total CO2 (arterial blood gas analysis)</th>\n",
       "      <th>HCO3 (arterial blood gas analysis)</th>\n",
       "      <th>pO2 (arterial blood gas analysis)</th>\n",
       "      <th>Arteiral Fio2</th>\n",
       "      <th>Phosphor</th>\n",
       "      <th>ctO2 (arterial blood gas analysis)</th>\n",
       "      <th>Ward (Regular=1 Semi Intensive=2 Intenssive Care =3)</th>\n",
       "    </tr>\n",
       "  </thead>\n",
       "  <tbody>\n",
       "    <tr>\n",
       "      <th>0</th>\n",
       "      <td>44477f75e8169d2</td>\n",
       "      <td>13</td>\n",
       "      <td>negative</td>\n",
       "      <td>0</td>\n",
       "      <td>0</td>\n",
       "      <td>0</td>\n",
       "      <td>NaN</td>\n",
       "      <td>NaN</td>\n",
       "      <td>NaN</td>\n",
       "      <td>NaN</td>\n",
       "      <td>...</td>\n",
       "      <td>NaN</td>\n",
       "      <td>NaN</td>\n",
       "      <td>NaN</td>\n",
       "      <td>NaN</td>\n",
       "      <td>NaN</td>\n",
       "      <td>NaN</td>\n",
       "      <td>NaN</td>\n",
       "      <td>NaN</td>\n",
       "      <td>NaN</td>\n",
       "      <td>0.0</td>\n",
       "    </tr>\n",
       "    <tr>\n",
       "      <th>1</th>\n",
       "      <td>126e9dd13932f68</td>\n",
       "      <td>17</td>\n",
       "      <td>negative</td>\n",
       "      <td>0</td>\n",
       "      <td>0</td>\n",
       "      <td>0</td>\n",
       "      <td>0.236515</td>\n",
       "      <td>-0.022340</td>\n",
       "      <td>-0.517413</td>\n",
       "      <td>0.010677</td>\n",
       "      <td>...</td>\n",
       "      <td>NaN</td>\n",
       "      <td>NaN</td>\n",
       "      <td>NaN</td>\n",
       "      <td>NaN</td>\n",
       "      <td>NaN</td>\n",
       "      <td>NaN</td>\n",
       "      <td>NaN</td>\n",
       "      <td>NaN</td>\n",
       "      <td>NaN</td>\n",
       "      <td>0.0</td>\n",
       "    </tr>\n",
       "    <tr>\n",
       "      <th>2</th>\n",
       "      <td>a46b4402a0e5696</td>\n",
       "      <td>8</td>\n",
       "      <td>negative</td>\n",
       "      <td>0</td>\n",
       "      <td>0</td>\n",
       "      <td>0</td>\n",
       "      <td>NaN</td>\n",
       "      <td>NaN</td>\n",
       "      <td>NaN</td>\n",
       "      <td>NaN</td>\n",
       "      <td>...</td>\n",
       "      <td>NaN</td>\n",
       "      <td>NaN</td>\n",
       "      <td>NaN</td>\n",
       "      <td>NaN</td>\n",
       "      <td>NaN</td>\n",
       "      <td>NaN</td>\n",
       "      <td>NaN</td>\n",
       "      <td>NaN</td>\n",
       "      <td>NaN</td>\n",
       "      <td>0.0</td>\n",
       "    </tr>\n",
       "    <tr>\n",
       "      <th>3</th>\n",
       "      <td>f7d619a94f97c45</td>\n",
       "      <td>5</td>\n",
       "      <td>negative</td>\n",
       "      <td>0</td>\n",
       "      <td>0</td>\n",
       "      <td>0</td>\n",
       "      <td>NaN</td>\n",
       "      <td>NaN</td>\n",
       "      <td>NaN</td>\n",
       "      <td>NaN</td>\n",
       "      <td>...</td>\n",
       "      <td>NaN</td>\n",
       "      <td>NaN</td>\n",
       "      <td>NaN</td>\n",
       "      <td>NaN</td>\n",
       "      <td>NaN</td>\n",
       "      <td>NaN</td>\n",
       "      <td>NaN</td>\n",
       "      <td>NaN</td>\n",
       "      <td>NaN</td>\n",
       "      <td>0.0</td>\n",
       "    </tr>\n",
       "    <tr>\n",
       "      <th>4</th>\n",
       "      <td>d9e41465789c2b5</td>\n",
       "      <td>15</td>\n",
       "      <td>negative</td>\n",
       "      <td>0</td>\n",
       "      <td>0</td>\n",
       "      <td>0</td>\n",
       "      <td>NaN</td>\n",
       "      <td>NaN</td>\n",
       "      <td>NaN</td>\n",
       "      <td>NaN</td>\n",
       "      <td>...</td>\n",
       "      <td>NaN</td>\n",
       "      <td>NaN</td>\n",
       "      <td>NaN</td>\n",
       "      <td>NaN</td>\n",
       "      <td>NaN</td>\n",
       "      <td>NaN</td>\n",
       "      <td>NaN</td>\n",
       "      <td>NaN</td>\n",
       "      <td>NaN</td>\n",
       "      <td>0.0</td>\n",
       "    </tr>\n",
       "    <tr>\n",
       "      <th>5</th>\n",
       "      <td>75f16746216c4d1</td>\n",
       "      <td>9</td>\n",
       "      <td>negative</td>\n",
       "      <td>0</td>\n",
       "      <td>0</td>\n",
       "      <td>0</td>\n",
       "      <td>NaN</td>\n",
       "      <td>NaN</td>\n",
       "      <td>NaN</td>\n",
       "      <td>NaN</td>\n",
       "      <td>...</td>\n",
       "      <td>NaN</td>\n",
       "      <td>NaN</td>\n",
       "      <td>NaN</td>\n",
       "      <td>NaN</td>\n",
       "      <td>NaN</td>\n",
       "      <td>NaN</td>\n",
       "      <td>NaN</td>\n",
       "      <td>NaN</td>\n",
       "      <td>NaN</td>\n",
       "      <td>0.0</td>\n",
       "    </tr>\n",
       "    <tr>\n",
       "      <th>6</th>\n",
       "      <td>2a2245e360808d7</td>\n",
       "      <td>13</td>\n",
       "      <td>negative</td>\n",
       "      <td>0</td>\n",
       "      <td>0</td>\n",
       "      <td>0</td>\n",
       "      <td>NaN</td>\n",
       "      <td>NaN</td>\n",
       "      <td>NaN</td>\n",
       "      <td>NaN</td>\n",
       "      <td>...</td>\n",
       "      <td>NaN</td>\n",
       "      <td>NaN</td>\n",
       "      <td>NaN</td>\n",
       "      <td>NaN</td>\n",
       "      <td>NaN</td>\n",
       "      <td>NaN</td>\n",
       "      <td>NaN</td>\n",
       "      <td>NaN</td>\n",
       "      <td>NaN</td>\n",
       "      <td>0.0</td>\n",
       "    </tr>\n",
       "    <tr>\n",
       "      <th>7</th>\n",
       "      <td>509197ec73f1400</td>\n",
       "      <td>16</td>\n",
       "      <td>negative</td>\n",
       "      <td>0</td>\n",
       "      <td>0</td>\n",
       "      <td>0</td>\n",
       "      <td>NaN</td>\n",
       "      <td>NaN</td>\n",
       "      <td>NaN</td>\n",
       "      <td>NaN</td>\n",
       "      <td>...</td>\n",
       "      <td>NaN</td>\n",
       "      <td>NaN</td>\n",
       "      <td>NaN</td>\n",
       "      <td>NaN</td>\n",
       "      <td>NaN</td>\n",
       "      <td>NaN</td>\n",
       "      <td>NaN</td>\n",
       "      <td>NaN</td>\n",
       "      <td>NaN</td>\n",
       "      <td>0.0</td>\n",
       "    </tr>\n",
       "    <tr>\n",
       "      <th>8</th>\n",
       "      <td>8bb9d64f0215244</td>\n",
       "      <td>1</td>\n",
       "      <td>negative</td>\n",
       "      <td>0</td>\n",
       "      <td>1</td>\n",
       "      <td>0</td>\n",
       "      <td>-1.571682</td>\n",
       "      <td>-0.774212</td>\n",
       "      <td>1.429667</td>\n",
       "      <td>-1.672222</td>\n",
       "      <td>...</td>\n",
       "      <td>NaN</td>\n",
       "      <td>NaN</td>\n",
       "      <td>NaN</td>\n",
       "      <td>NaN</td>\n",
       "      <td>NaN</td>\n",
       "      <td>NaN</td>\n",
       "      <td>NaN</td>\n",
       "      <td>0.730393</td>\n",
       "      <td>NaN</td>\n",
       "      <td>2.0</td>\n",
       "    </tr>\n",
       "  </tbody>\n",
       "</table>\n",
       "<p>9 rows × 112 columns</p>\n",
       "</div>"
      ],
      "text/plain": [
       "        Patient ID  Patient age quantile SARS-Cov-2 exam result  \\\n",
       "0  44477f75e8169d2                    13               negative   \n",
       "1  126e9dd13932f68                    17               negative   \n",
       "2  a46b4402a0e5696                     8               negative   \n",
       "3  f7d619a94f97c45                     5               negative   \n",
       "4  d9e41465789c2b5                    15               negative   \n",
       "5  75f16746216c4d1                     9               negative   \n",
       "6  2a2245e360808d7                    13               negative   \n",
       "7  509197ec73f1400                    16               negative   \n",
       "8  8bb9d64f0215244                     1               negative   \n",
       "\n",
       "   Patient addmited to regular ward (1=yes, 0=no)  \\\n",
       "0                                               0   \n",
       "1                                               0   \n",
       "2                                               0   \n",
       "3                                               0   \n",
       "4                                               0   \n",
       "5                                               0   \n",
       "6                                               0   \n",
       "7                                               0   \n",
       "8                                               0   \n",
       "\n",
       "   Patient addmited to semi-intensive unit (1=yes, 0=no)  \\\n",
       "0                                                  0       \n",
       "1                                                  0       \n",
       "2                                                  0       \n",
       "3                                                  0       \n",
       "4                                                  0       \n",
       "5                                                  0       \n",
       "6                                                  0       \n",
       "7                                                  0       \n",
       "8                                                  1       \n",
       "\n",
       "   Patient addmited to intensive care unit (1=yes, 0=no)  Hematocrit  \\\n",
       "0                                                  0             NaN   \n",
       "1                                                  0        0.236515   \n",
       "2                                                  0             NaN   \n",
       "3                                                  0             NaN   \n",
       "4                                                  0             NaN   \n",
       "5                                                  0             NaN   \n",
       "6                                                  0             NaN   \n",
       "7                                                  0             NaN   \n",
       "8                                                  0       -1.571682   \n",
       "\n",
       "   Hemoglobin  Platelets  Mean platelet volume   ...  \\\n",
       "0         NaN        NaN                    NaN  ...   \n",
       "1   -0.022340  -0.517413               0.010677  ...   \n",
       "2         NaN        NaN                    NaN  ...   \n",
       "3         NaN        NaN                    NaN  ...   \n",
       "4         NaN        NaN                    NaN  ...   \n",
       "5         NaN        NaN                    NaN  ...   \n",
       "6         NaN        NaN                    NaN  ...   \n",
       "7         NaN        NaN                    NaN  ...   \n",
       "8   -0.774212   1.429667              -1.672222  ...   \n",
       "\n",
       "   pCO2 (arterial blood gas analysis)  \\\n",
       "0                                 NaN   \n",
       "1                                 NaN   \n",
       "2                                 NaN   \n",
       "3                                 NaN   \n",
       "4                                 NaN   \n",
       "5                                 NaN   \n",
       "6                                 NaN   \n",
       "7                                 NaN   \n",
       "8                                 NaN   \n",
       "\n",
       "   Base excess (arterial blood gas analysis)  \\\n",
       "0                                        NaN   \n",
       "1                                        NaN   \n",
       "2                                        NaN   \n",
       "3                                        NaN   \n",
       "4                                        NaN   \n",
       "5                                        NaN   \n",
       "6                                        NaN   \n",
       "7                                        NaN   \n",
       "8                                        NaN   \n",
       "\n",
       "   pH (arterial blood gas analysis)  Total CO2 (arterial blood gas analysis)  \\\n",
       "0                               NaN                                      NaN   \n",
       "1                               NaN                                      NaN   \n",
       "2                               NaN                                      NaN   \n",
       "3                               NaN                                      NaN   \n",
       "4                               NaN                                      NaN   \n",
       "5                               NaN                                      NaN   \n",
       "6                               NaN                                      NaN   \n",
       "7                               NaN                                      NaN   \n",
       "8                               NaN                                      NaN   \n",
       "\n",
       "   HCO3 (arterial blood gas analysis)  pO2 (arterial blood gas analysis)  \\\n",
       "0                                 NaN                                NaN   \n",
       "1                                 NaN                                NaN   \n",
       "2                                 NaN                                NaN   \n",
       "3                                 NaN                                NaN   \n",
       "4                                 NaN                                NaN   \n",
       "5                                 NaN                                NaN   \n",
       "6                                 NaN                                NaN   \n",
       "7                                 NaN                                NaN   \n",
       "8                                 NaN                                NaN   \n",
       "\n",
       "   Arteiral Fio2  Phosphor  ctO2 (arterial blood gas analysis)  \\\n",
       "0            NaN       NaN                                 NaN   \n",
       "1            NaN       NaN                                 NaN   \n",
       "2            NaN       NaN                                 NaN   \n",
       "3            NaN       NaN                                 NaN   \n",
       "4            NaN       NaN                                 NaN   \n",
       "5            NaN       NaN                                 NaN   \n",
       "6            NaN       NaN                                 NaN   \n",
       "7            NaN       NaN                                 NaN   \n",
       "8            NaN  0.730393                                 NaN   \n",
       "\n",
       "   Ward (Regular=1 Semi Intensive=2 Intenssive Care =3)  \n",
       "0                                                0.0     \n",
       "1                                                0.0     \n",
       "2                                                0.0     \n",
       "3                                                0.0     \n",
       "4                                                0.0     \n",
       "5                                                0.0     \n",
       "6                                                0.0     \n",
       "7                                                0.0     \n",
       "8                                                2.0     \n",
       "\n",
       "[9 rows x 112 columns]"
      ]
     },
     "execution_count": 299,
     "metadata": {},
     "output_type": "execute_result"
    }
   ],
   "source": [
    "ds.head(9)"
   ]
  },
  {
   "cell_type": "code",
   "execution_count": 300,
   "metadata": {},
   "outputs": [],
   "source": [
    "# Replace NaN with np.nan so that the rows can be dropped, and drop the rows containing np.nan\n",
    "ds.replace('NaN',np.nan, inplace = True)"
   ]
  },
  {
   "cell_type": "code",
   "execution_count": 301,
   "metadata": {},
   "outputs": [],
   "source": [
    "ds=ds.fillna(ds.mean())"
   ]
  },
  {
   "cell_type": "code",
   "execution_count": 302,
   "metadata": {},
   "outputs": [
    {
     "data": {
      "text/html": [
       "<div>\n",
       "<style scoped>\n",
       "    .dataframe tbody tr th:only-of-type {\n",
       "        vertical-align: middle;\n",
       "    }\n",
       "\n",
       "    .dataframe tbody tr th {\n",
       "        vertical-align: top;\n",
       "    }\n",
       "\n",
       "    .dataframe thead th {\n",
       "        text-align: right;\n",
       "    }\n",
       "</style>\n",
       "<table border=\"1\" class=\"dataframe\">\n",
       "  <thead>\n",
       "    <tr style=\"text-align: right;\">\n",
       "      <th></th>\n",
       "      <th>Patient ID</th>\n",
       "      <th>Patient age quantile</th>\n",
       "      <th>SARS-Cov-2 exam result</th>\n",
       "      <th>Patient addmited to regular ward (1=yes, 0=no)</th>\n",
       "      <th>Patient addmited to semi-intensive unit (1=yes, 0=no)</th>\n",
       "      <th>Patient addmited to intensive care unit (1=yes, 0=no)</th>\n",
       "      <th>Hematocrit</th>\n",
       "      <th>Hemoglobin</th>\n",
       "      <th>Platelets</th>\n",
       "      <th>Mean platelet volume</th>\n",
       "      <th>...</th>\n",
       "      <th>pCO2 (arterial blood gas analysis)</th>\n",
       "      <th>Base excess (arterial blood gas analysis)</th>\n",
       "      <th>pH (arterial blood gas analysis)</th>\n",
       "      <th>Total CO2 (arterial blood gas analysis)</th>\n",
       "      <th>HCO3 (arterial blood gas analysis)</th>\n",
       "      <th>pO2 (arterial blood gas analysis)</th>\n",
       "      <th>Arteiral Fio2</th>\n",
       "      <th>Phosphor</th>\n",
       "      <th>ctO2 (arterial blood gas analysis)</th>\n",
       "      <th>Ward (Regular=1 Semi Intensive=2 Intenssive Care =3)</th>\n",
       "    </tr>\n",
       "  </thead>\n",
       "  <tbody>\n",
       "    <tr>\n",
       "      <th>0</th>\n",
       "      <td>44477f75e8169d2</td>\n",
       "      <td>13</td>\n",
       "      <td>negative</td>\n",
       "      <td>0</td>\n",
       "      <td>0</td>\n",
       "      <td>0</td>\n",
       "      <td>-2.187396e-09</td>\n",
       "      <td>-1.598342e-08</td>\n",
       "      <td>-3.820598e-10</td>\n",
       "      <td>7.373957e-09</td>\n",
       "      <td>...</td>\n",
       "      <td>8.370370e-09</td>\n",
       "      <td>-1.703704e-09</td>\n",
       "      <td>3.333333e-10</td>\n",
       "      <td>-7.444444e-09</td>\n",
       "      <td>6.000000e-09</td>\n",
       "      <td>-2.481481e-08</td>\n",
       "      <td>4.650000e-09</td>\n",
       "      <td>6.250000e-09</td>\n",
       "      <td>5.185185e-09</td>\n",
       "      <td>0.0</td>\n",
       "    </tr>\n",
       "    <tr>\n",
       "      <th>1</th>\n",
       "      <td>126e9dd13932f68</td>\n",
       "      <td>17</td>\n",
       "      <td>negative</td>\n",
       "      <td>0</td>\n",
       "      <td>0</td>\n",
       "      <td>0</td>\n",
       "      <td>2.365154e-01</td>\n",
       "      <td>-2.234027e-02</td>\n",
       "      <td>-5.174130e-01</td>\n",
       "      <td>1.067657e-02</td>\n",
       "      <td>...</td>\n",
       "      <td>8.370370e-09</td>\n",
       "      <td>-1.703704e-09</td>\n",
       "      <td>3.333333e-10</td>\n",
       "      <td>-7.444444e-09</td>\n",
       "      <td>6.000000e-09</td>\n",
       "      <td>-2.481481e-08</td>\n",
       "      <td>4.650000e-09</td>\n",
       "      <td>6.250000e-09</td>\n",
       "      <td>5.185185e-09</td>\n",
       "      <td>0.0</td>\n",
       "    </tr>\n",
       "    <tr>\n",
       "      <th>2</th>\n",
       "      <td>a46b4402a0e5696</td>\n",
       "      <td>8</td>\n",
       "      <td>negative</td>\n",
       "      <td>0</td>\n",
       "      <td>0</td>\n",
       "      <td>0</td>\n",
       "      <td>-2.187396e-09</td>\n",
       "      <td>-1.598342e-08</td>\n",
       "      <td>-3.820598e-10</td>\n",
       "      <td>7.373957e-09</td>\n",
       "      <td>...</td>\n",
       "      <td>8.370370e-09</td>\n",
       "      <td>-1.703704e-09</td>\n",
       "      <td>3.333333e-10</td>\n",
       "      <td>-7.444444e-09</td>\n",
       "      <td>6.000000e-09</td>\n",
       "      <td>-2.481481e-08</td>\n",
       "      <td>4.650000e-09</td>\n",
       "      <td>6.250000e-09</td>\n",
       "      <td>5.185185e-09</td>\n",
       "      <td>0.0</td>\n",
       "    </tr>\n",
       "    <tr>\n",
       "      <th>3</th>\n",
       "      <td>f7d619a94f97c45</td>\n",
       "      <td>5</td>\n",
       "      <td>negative</td>\n",
       "      <td>0</td>\n",
       "      <td>0</td>\n",
       "      <td>0</td>\n",
       "      <td>-2.187396e-09</td>\n",
       "      <td>-1.598342e-08</td>\n",
       "      <td>-3.820598e-10</td>\n",
       "      <td>7.373957e-09</td>\n",
       "      <td>...</td>\n",
       "      <td>8.370370e-09</td>\n",
       "      <td>-1.703704e-09</td>\n",
       "      <td>3.333333e-10</td>\n",
       "      <td>-7.444444e-09</td>\n",
       "      <td>6.000000e-09</td>\n",
       "      <td>-2.481481e-08</td>\n",
       "      <td>4.650000e-09</td>\n",
       "      <td>6.250000e-09</td>\n",
       "      <td>5.185185e-09</td>\n",
       "      <td>0.0</td>\n",
       "    </tr>\n",
       "    <tr>\n",
       "      <th>4</th>\n",
       "      <td>d9e41465789c2b5</td>\n",
       "      <td>15</td>\n",
       "      <td>negative</td>\n",
       "      <td>0</td>\n",
       "      <td>0</td>\n",
       "      <td>0</td>\n",
       "      <td>-2.187396e-09</td>\n",
       "      <td>-1.598342e-08</td>\n",
       "      <td>-3.820598e-10</td>\n",
       "      <td>7.373957e-09</td>\n",
       "      <td>...</td>\n",
       "      <td>8.370370e-09</td>\n",
       "      <td>-1.703704e-09</td>\n",
       "      <td>3.333333e-10</td>\n",
       "      <td>-7.444444e-09</td>\n",
       "      <td>6.000000e-09</td>\n",
       "      <td>-2.481481e-08</td>\n",
       "      <td>4.650000e-09</td>\n",
       "      <td>6.250000e-09</td>\n",
       "      <td>5.185185e-09</td>\n",
       "      <td>0.0</td>\n",
       "    </tr>\n",
       "    <tr>\n",
       "      <th>5</th>\n",
       "      <td>75f16746216c4d1</td>\n",
       "      <td>9</td>\n",
       "      <td>negative</td>\n",
       "      <td>0</td>\n",
       "      <td>0</td>\n",
       "      <td>0</td>\n",
       "      <td>-2.187396e-09</td>\n",
       "      <td>-1.598342e-08</td>\n",
       "      <td>-3.820598e-10</td>\n",
       "      <td>7.373957e-09</td>\n",
       "      <td>...</td>\n",
       "      <td>8.370370e-09</td>\n",
       "      <td>-1.703704e-09</td>\n",
       "      <td>3.333333e-10</td>\n",
       "      <td>-7.444444e-09</td>\n",
       "      <td>6.000000e-09</td>\n",
       "      <td>-2.481481e-08</td>\n",
       "      <td>4.650000e-09</td>\n",
       "      <td>6.250000e-09</td>\n",
       "      <td>5.185185e-09</td>\n",
       "      <td>0.0</td>\n",
       "    </tr>\n",
       "    <tr>\n",
       "      <th>6</th>\n",
       "      <td>2a2245e360808d7</td>\n",
       "      <td>13</td>\n",
       "      <td>negative</td>\n",
       "      <td>0</td>\n",
       "      <td>0</td>\n",
       "      <td>0</td>\n",
       "      <td>-2.187396e-09</td>\n",
       "      <td>-1.598342e-08</td>\n",
       "      <td>-3.820598e-10</td>\n",
       "      <td>7.373957e-09</td>\n",
       "      <td>...</td>\n",
       "      <td>8.370370e-09</td>\n",
       "      <td>-1.703704e-09</td>\n",
       "      <td>3.333333e-10</td>\n",
       "      <td>-7.444444e-09</td>\n",
       "      <td>6.000000e-09</td>\n",
       "      <td>-2.481481e-08</td>\n",
       "      <td>4.650000e-09</td>\n",
       "      <td>6.250000e-09</td>\n",
       "      <td>5.185185e-09</td>\n",
       "      <td>0.0</td>\n",
       "    </tr>\n",
       "    <tr>\n",
       "      <th>7</th>\n",
       "      <td>509197ec73f1400</td>\n",
       "      <td>16</td>\n",
       "      <td>negative</td>\n",
       "      <td>0</td>\n",
       "      <td>0</td>\n",
       "      <td>0</td>\n",
       "      <td>-2.187396e-09</td>\n",
       "      <td>-1.598342e-08</td>\n",
       "      <td>-3.820598e-10</td>\n",
       "      <td>7.373957e-09</td>\n",
       "      <td>...</td>\n",
       "      <td>8.370370e-09</td>\n",
       "      <td>-1.703704e-09</td>\n",
       "      <td>3.333333e-10</td>\n",
       "      <td>-7.444444e-09</td>\n",
       "      <td>6.000000e-09</td>\n",
       "      <td>-2.481481e-08</td>\n",
       "      <td>4.650000e-09</td>\n",
       "      <td>6.250000e-09</td>\n",
       "      <td>5.185185e-09</td>\n",
       "      <td>0.0</td>\n",
       "    </tr>\n",
       "    <tr>\n",
       "      <th>8</th>\n",
       "      <td>8bb9d64f0215244</td>\n",
       "      <td>1</td>\n",
       "      <td>negative</td>\n",
       "      <td>0</td>\n",
       "      <td>1</td>\n",
       "      <td>0</td>\n",
       "      <td>-1.571682e+00</td>\n",
       "      <td>-7.742120e-01</td>\n",
       "      <td>1.429667e+00</td>\n",
       "      <td>-1.672222e+00</td>\n",
       "      <td>...</td>\n",
       "      <td>8.370370e-09</td>\n",
       "      <td>-1.703704e-09</td>\n",
       "      <td>3.333333e-10</td>\n",
       "      <td>-7.444444e-09</td>\n",
       "      <td>6.000000e-09</td>\n",
       "      <td>-2.481481e-08</td>\n",
       "      <td>4.650000e-09</td>\n",
       "      <td>7.303929e-01</td>\n",
       "      <td>5.185185e-09</td>\n",
       "      <td>2.0</td>\n",
       "    </tr>\n",
       "    <tr>\n",
       "      <th>9</th>\n",
       "      <td>5f1ed301375586c</td>\n",
       "      <td>17</td>\n",
       "      <td>negative</td>\n",
       "      <td>0</td>\n",
       "      <td>0</td>\n",
       "      <td>0</td>\n",
       "      <td>-2.187396e-09</td>\n",
       "      <td>-1.598342e-08</td>\n",
       "      <td>-3.820598e-10</td>\n",
       "      <td>7.373957e-09</td>\n",
       "      <td>...</td>\n",
       "      <td>8.370370e-09</td>\n",
       "      <td>-1.703704e-09</td>\n",
       "      <td>3.333333e-10</td>\n",
       "      <td>-7.444444e-09</td>\n",
       "      <td>6.000000e-09</td>\n",
       "      <td>-2.481481e-08</td>\n",
       "      <td>4.650000e-09</td>\n",
       "      <td>6.250000e-09</td>\n",
       "      <td>5.185185e-09</td>\n",
       "      <td>0.0</td>\n",
       "    </tr>\n",
       "    <tr>\n",
       "      <th>10</th>\n",
       "      <td>d720464cc322b6f</td>\n",
       "      <td>8</td>\n",
       "      <td>negative</td>\n",
       "      <td>0</td>\n",
       "      <td>0</td>\n",
       "      <td>0</td>\n",
       "      <td>-2.187396e-09</td>\n",
       "      <td>-1.598342e-08</td>\n",
       "      <td>-3.820598e-10</td>\n",
       "      <td>7.373957e-09</td>\n",
       "      <td>...</td>\n",
       "      <td>8.370370e-09</td>\n",
       "      <td>-1.703704e-09</td>\n",
       "      <td>3.333333e-10</td>\n",
       "      <td>-7.444444e-09</td>\n",
       "      <td>6.000000e-09</td>\n",
       "      <td>-2.481481e-08</td>\n",
       "      <td>4.650000e-09</td>\n",
       "      <td>6.250000e-09</td>\n",
       "      <td>5.185185e-09</td>\n",
       "      <td>0.0</td>\n",
       "    </tr>\n",
       "    <tr>\n",
       "      <th>11</th>\n",
       "      <td>02c84e61d5f9e18</td>\n",
       "      <td>1</td>\n",
       "      <td>negative</td>\n",
       "      <td>0</td>\n",
       "      <td>0</td>\n",
       "      <td>0</td>\n",
       "      <td>-2.187396e-09</td>\n",
       "      <td>-1.598342e-08</td>\n",
       "      <td>-3.820598e-10</td>\n",
       "      <td>7.373957e-09</td>\n",
       "      <td>...</td>\n",
       "      <td>8.370370e-09</td>\n",
       "      <td>-1.703704e-09</td>\n",
       "      <td>3.333333e-10</td>\n",
       "      <td>-7.444444e-09</td>\n",
       "      <td>6.000000e-09</td>\n",
       "      <td>-2.481481e-08</td>\n",
       "      <td>4.650000e-09</td>\n",
       "      <td>6.250000e-09</td>\n",
       "      <td>5.185185e-09</td>\n",
       "      <td>0.0</td>\n",
       "    </tr>\n",
       "    <tr>\n",
       "      <th>12</th>\n",
       "      <td>b68a6f32fd88a49</td>\n",
       "      <td>1</td>\n",
       "      <td>negative</td>\n",
       "      <td>0</td>\n",
       "      <td>0</td>\n",
       "      <td>0</td>\n",
       "      <td>-2.187396e-09</td>\n",
       "      <td>-1.598342e-08</td>\n",
       "      <td>-3.820598e-10</td>\n",
       "      <td>7.373957e-09</td>\n",
       "      <td>...</td>\n",
       "      <td>8.370370e-09</td>\n",
       "      <td>-1.703704e-09</td>\n",
       "      <td>3.333333e-10</td>\n",
       "      <td>-7.444444e-09</td>\n",
       "      <td>6.000000e-09</td>\n",
       "      <td>-2.481481e-08</td>\n",
       "      <td>4.650000e-09</td>\n",
       "      <td>6.250000e-09</td>\n",
       "      <td>5.185185e-09</td>\n",
       "      <td>0.0</td>\n",
       "    </tr>\n",
       "    <tr>\n",
       "      <th>13</th>\n",
       "      <td>0fbafd910aa8078</td>\n",
       "      <td>13</td>\n",
       "      <td>negative</td>\n",
       "      <td>0</td>\n",
       "      <td>0</td>\n",
       "      <td>0</td>\n",
       "      <td>-2.187396e-09</td>\n",
       "      <td>-1.598342e-08</td>\n",
       "      <td>-3.820598e-10</td>\n",
       "      <td>7.373957e-09</td>\n",
       "      <td>...</td>\n",
       "      <td>8.370370e-09</td>\n",
       "      <td>-1.703704e-09</td>\n",
       "      <td>3.333333e-10</td>\n",
       "      <td>-7.444444e-09</td>\n",
       "      <td>6.000000e-09</td>\n",
       "      <td>-2.481481e-08</td>\n",
       "      <td>4.650000e-09</td>\n",
       "      <td>6.250000e-09</td>\n",
       "      <td>5.185185e-09</td>\n",
       "      <td>0.0</td>\n",
       "    </tr>\n",
       "    <tr>\n",
       "      <th>14</th>\n",
       "      <td>f9056545d1296ec</td>\n",
       "      <td>14</td>\n",
       "      <td>negative</td>\n",
       "      <td>0</td>\n",
       "      <td>0</td>\n",
       "      <td>0</td>\n",
       "      <td>-2.187396e-09</td>\n",
       "      <td>-1.598342e-08</td>\n",
       "      <td>-3.820598e-10</td>\n",
       "      <td>7.373957e-09</td>\n",
       "      <td>...</td>\n",
       "      <td>8.370370e-09</td>\n",
       "      <td>-1.703704e-09</td>\n",
       "      <td>3.333333e-10</td>\n",
       "      <td>-7.444444e-09</td>\n",
       "      <td>6.000000e-09</td>\n",
       "      <td>-2.481481e-08</td>\n",
       "      <td>4.650000e-09</td>\n",
       "      <td>6.250000e-09</td>\n",
       "      <td>5.185185e-09</td>\n",
       "      <td>0.0</td>\n",
       "    </tr>\n",
       "    <tr>\n",
       "      <th>15</th>\n",
       "      <td>6c9d3323975b082</td>\n",
       "      <td>9</td>\n",
       "      <td>negative</td>\n",
       "      <td>0</td>\n",
       "      <td>0</td>\n",
       "      <td>0</td>\n",
       "      <td>-7.476931e-01</td>\n",
       "      <td>-5.862439e-01</td>\n",
       "      <td>-4.294803e-01</td>\n",
       "      <td>-2.137107e-01</td>\n",
       "      <td>...</td>\n",
       "      <td>8.370370e-09</td>\n",
       "      <td>-1.703704e-09</td>\n",
       "      <td>3.333333e-10</td>\n",
       "      <td>-7.444444e-09</td>\n",
       "      <td>6.000000e-09</td>\n",
       "      <td>-2.481481e-08</td>\n",
       "      <td>4.650000e-09</td>\n",
       "      <td>6.250000e-09</td>\n",
       "      <td>5.185185e-09</td>\n",
       "      <td>0.0</td>\n",
       "    </tr>\n",
       "    <tr>\n",
       "      <th>16</th>\n",
       "      <td>b62e45a8a3f683e</td>\n",
       "      <td>15</td>\n",
       "      <td>negative</td>\n",
       "      <td>0</td>\n",
       "      <td>0</td>\n",
       "      <td>0</td>\n",
       "      <td>-2.187396e-09</td>\n",
       "      <td>-1.598342e-08</td>\n",
       "      <td>-3.820598e-10</td>\n",
       "      <td>7.373957e-09</td>\n",
       "      <td>...</td>\n",
       "      <td>8.370370e-09</td>\n",
       "      <td>-1.703704e-09</td>\n",
       "      <td>3.333333e-10</td>\n",
       "      <td>-7.444444e-09</td>\n",
       "      <td>6.000000e-09</td>\n",
       "      <td>-2.481481e-08</td>\n",
       "      <td>4.650000e-09</td>\n",
       "      <td>6.250000e-09</td>\n",
       "      <td>5.185185e-09</td>\n",
       "      <td>0.0</td>\n",
       "    </tr>\n",
       "    <tr>\n",
       "      <th>17</th>\n",
       "      <td>99da3c055438133</td>\n",
       "      <td>13</td>\n",
       "      <td>negative</td>\n",
       "      <td>0</td>\n",
       "      <td>0</td>\n",
       "      <td>0</td>\n",
       "      <td>-2.187396e-09</td>\n",
       "      <td>-1.598342e-08</td>\n",
       "      <td>-3.820598e-10</td>\n",
       "      <td>7.373957e-09</td>\n",
       "      <td>...</td>\n",
       "      <td>8.370370e-09</td>\n",
       "      <td>-1.703704e-09</td>\n",
       "      <td>3.333333e-10</td>\n",
       "      <td>-7.444444e-09</td>\n",
       "      <td>6.000000e-09</td>\n",
       "      <td>-2.481481e-08</td>\n",
       "      <td>4.650000e-09</td>\n",
       "      <td>6.250000e-09</td>\n",
       "      <td>5.185185e-09</td>\n",
       "      <td>0.0</td>\n",
       "    </tr>\n",
       "    <tr>\n",
       "      <th>18</th>\n",
       "      <td>d3ea751f3db9de9</td>\n",
       "      <td>11</td>\n",
       "      <td>negative</td>\n",
       "      <td>0</td>\n",
       "      <td>0</td>\n",
       "      <td>0</td>\n",
       "      <td>9.918382e-01</td>\n",
       "      <td>7.921876e-01</td>\n",
       "      <td>7.299204e-02</td>\n",
       "      <td>-5.502895e-01</td>\n",
       "      <td>...</td>\n",
       "      <td>8.370370e-09</td>\n",
       "      <td>-1.703704e-09</td>\n",
       "      <td>3.333333e-10</td>\n",
       "      <td>-7.444444e-09</td>\n",
       "      <td>6.000000e-09</td>\n",
       "      <td>-2.481481e-08</td>\n",
       "      <td>4.650000e-09</td>\n",
       "      <td>6.250000e-09</td>\n",
       "      <td>5.185185e-09</td>\n",
       "      <td>0.0</td>\n",
       "    </tr>\n",
       "    <tr>\n",
       "      <th>19</th>\n",
       "      <td>315cc65959223e0</td>\n",
       "      <td>9</td>\n",
       "      <td>negative</td>\n",
       "      <td>0</td>\n",
       "      <td>0</td>\n",
       "      <td>0</td>\n",
       "      <td>-2.187396e-09</td>\n",
       "      <td>-1.598342e-08</td>\n",
       "      <td>-3.820598e-10</td>\n",
       "      <td>7.373957e-09</td>\n",
       "      <td>...</td>\n",
       "      <td>8.370370e-09</td>\n",
       "      <td>-1.703704e-09</td>\n",
       "      <td>3.333333e-10</td>\n",
       "      <td>-7.444444e-09</td>\n",
       "      <td>6.000000e-09</td>\n",
       "      <td>-2.481481e-08</td>\n",
       "      <td>4.650000e-09</td>\n",
       "      <td>6.250000e-09</td>\n",
       "      <td>5.185185e-09</td>\n",
       "      <td>0.0</td>\n",
       "    </tr>\n",
       "  </tbody>\n",
       "</table>\n",
       "<p>20 rows × 112 columns</p>\n",
       "</div>"
      ],
      "text/plain": [
       "         Patient ID  Patient age quantile SARS-Cov-2 exam result  \\\n",
       "0   44477f75e8169d2                    13               negative   \n",
       "1   126e9dd13932f68                    17               negative   \n",
       "2   a46b4402a0e5696                     8               negative   \n",
       "3   f7d619a94f97c45                     5               negative   \n",
       "4   d9e41465789c2b5                    15               negative   \n",
       "5   75f16746216c4d1                     9               negative   \n",
       "6   2a2245e360808d7                    13               negative   \n",
       "7   509197ec73f1400                    16               negative   \n",
       "8   8bb9d64f0215244                     1               negative   \n",
       "9   5f1ed301375586c                    17               negative   \n",
       "10  d720464cc322b6f                     8               negative   \n",
       "11  02c84e61d5f9e18                     1               negative   \n",
       "12  b68a6f32fd88a49                     1               negative   \n",
       "13  0fbafd910aa8078                    13               negative   \n",
       "14  f9056545d1296ec                    14               negative   \n",
       "15  6c9d3323975b082                     9               negative   \n",
       "16  b62e45a8a3f683e                    15               negative   \n",
       "17  99da3c055438133                    13               negative   \n",
       "18  d3ea751f3db9de9                    11               negative   \n",
       "19  315cc65959223e0                     9               negative   \n",
       "\n",
       "    Patient addmited to regular ward (1=yes, 0=no)  \\\n",
       "0                                                0   \n",
       "1                                                0   \n",
       "2                                                0   \n",
       "3                                                0   \n",
       "4                                                0   \n",
       "5                                                0   \n",
       "6                                                0   \n",
       "7                                                0   \n",
       "8                                                0   \n",
       "9                                                0   \n",
       "10                                               0   \n",
       "11                                               0   \n",
       "12                                               0   \n",
       "13                                               0   \n",
       "14                                               0   \n",
       "15                                               0   \n",
       "16                                               0   \n",
       "17                                               0   \n",
       "18                                               0   \n",
       "19                                               0   \n",
       "\n",
       "    Patient addmited to semi-intensive unit (1=yes, 0=no)  \\\n",
       "0                                                   0       \n",
       "1                                                   0       \n",
       "2                                                   0       \n",
       "3                                                   0       \n",
       "4                                                   0       \n",
       "5                                                   0       \n",
       "6                                                   0       \n",
       "7                                                   0       \n",
       "8                                                   1       \n",
       "9                                                   0       \n",
       "10                                                  0       \n",
       "11                                                  0       \n",
       "12                                                  0       \n",
       "13                                                  0       \n",
       "14                                                  0       \n",
       "15                                                  0       \n",
       "16                                                  0       \n",
       "17                                                  0       \n",
       "18                                                  0       \n",
       "19                                                  0       \n",
       "\n",
       "    Patient addmited to intensive care unit (1=yes, 0=no)    Hematocrit  \\\n",
       "0                                                   0     -2.187396e-09   \n",
       "1                                                   0      2.365154e-01   \n",
       "2                                                   0     -2.187396e-09   \n",
       "3                                                   0     -2.187396e-09   \n",
       "4                                                   0     -2.187396e-09   \n",
       "5                                                   0     -2.187396e-09   \n",
       "6                                                   0     -2.187396e-09   \n",
       "7                                                   0     -2.187396e-09   \n",
       "8                                                   0     -1.571682e+00   \n",
       "9                                                   0     -2.187396e-09   \n",
       "10                                                  0     -2.187396e-09   \n",
       "11                                                  0     -2.187396e-09   \n",
       "12                                                  0     -2.187396e-09   \n",
       "13                                                  0     -2.187396e-09   \n",
       "14                                                  0     -2.187396e-09   \n",
       "15                                                  0     -7.476931e-01   \n",
       "16                                                  0     -2.187396e-09   \n",
       "17                                                  0     -2.187396e-09   \n",
       "18                                                  0      9.918382e-01   \n",
       "19                                                  0     -2.187396e-09   \n",
       "\n",
       "      Hemoglobin     Platelets  Mean platelet volume   ...  \\\n",
       "0  -1.598342e-08 -3.820598e-10           7.373957e-09  ...   \n",
       "1  -2.234027e-02 -5.174130e-01           1.067657e-02  ...   \n",
       "2  -1.598342e-08 -3.820598e-10           7.373957e-09  ...   \n",
       "3  -1.598342e-08 -3.820598e-10           7.373957e-09  ...   \n",
       "4  -1.598342e-08 -3.820598e-10           7.373957e-09  ...   \n",
       "5  -1.598342e-08 -3.820598e-10           7.373957e-09  ...   \n",
       "6  -1.598342e-08 -3.820598e-10           7.373957e-09  ...   \n",
       "7  -1.598342e-08 -3.820598e-10           7.373957e-09  ...   \n",
       "8  -7.742120e-01  1.429667e+00          -1.672222e+00  ...   \n",
       "9  -1.598342e-08 -3.820598e-10           7.373957e-09  ...   \n",
       "10 -1.598342e-08 -3.820598e-10           7.373957e-09  ...   \n",
       "11 -1.598342e-08 -3.820598e-10           7.373957e-09  ...   \n",
       "12 -1.598342e-08 -3.820598e-10           7.373957e-09  ...   \n",
       "13 -1.598342e-08 -3.820598e-10           7.373957e-09  ...   \n",
       "14 -1.598342e-08 -3.820598e-10           7.373957e-09  ...   \n",
       "15 -5.862439e-01 -4.294803e-01          -2.137107e-01  ...   \n",
       "16 -1.598342e-08 -3.820598e-10           7.373957e-09  ...   \n",
       "17 -1.598342e-08 -3.820598e-10           7.373957e-09  ...   \n",
       "18  7.921876e-01  7.299204e-02          -5.502895e-01  ...   \n",
       "19 -1.598342e-08 -3.820598e-10           7.373957e-09  ...   \n",
       "\n",
       "    pCO2 (arterial blood gas analysis)  \\\n",
       "0                         8.370370e-09   \n",
       "1                         8.370370e-09   \n",
       "2                         8.370370e-09   \n",
       "3                         8.370370e-09   \n",
       "4                         8.370370e-09   \n",
       "5                         8.370370e-09   \n",
       "6                         8.370370e-09   \n",
       "7                         8.370370e-09   \n",
       "8                         8.370370e-09   \n",
       "9                         8.370370e-09   \n",
       "10                        8.370370e-09   \n",
       "11                        8.370370e-09   \n",
       "12                        8.370370e-09   \n",
       "13                        8.370370e-09   \n",
       "14                        8.370370e-09   \n",
       "15                        8.370370e-09   \n",
       "16                        8.370370e-09   \n",
       "17                        8.370370e-09   \n",
       "18                        8.370370e-09   \n",
       "19                        8.370370e-09   \n",
       "\n",
       "    Base excess (arterial blood gas analysis)  \\\n",
       "0                               -1.703704e-09   \n",
       "1                               -1.703704e-09   \n",
       "2                               -1.703704e-09   \n",
       "3                               -1.703704e-09   \n",
       "4                               -1.703704e-09   \n",
       "5                               -1.703704e-09   \n",
       "6                               -1.703704e-09   \n",
       "7                               -1.703704e-09   \n",
       "8                               -1.703704e-09   \n",
       "9                               -1.703704e-09   \n",
       "10                              -1.703704e-09   \n",
       "11                              -1.703704e-09   \n",
       "12                              -1.703704e-09   \n",
       "13                              -1.703704e-09   \n",
       "14                              -1.703704e-09   \n",
       "15                              -1.703704e-09   \n",
       "16                              -1.703704e-09   \n",
       "17                              -1.703704e-09   \n",
       "18                              -1.703704e-09   \n",
       "19                              -1.703704e-09   \n",
       "\n",
       "    pH (arterial blood gas analysis)  Total CO2 (arterial blood gas analysis)  \\\n",
       "0                       3.333333e-10                            -7.444444e-09   \n",
       "1                       3.333333e-10                            -7.444444e-09   \n",
       "2                       3.333333e-10                            -7.444444e-09   \n",
       "3                       3.333333e-10                            -7.444444e-09   \n",
       "4                       3.333333e-10                            -7.444444e-09   \n",
       "5                       3.333333e-10                            -7.444444e-09   \n",
       "6                       3.333333e-10                            -7.444444e-09   \n",
       "7                       3.333333e-10                            -7.444444e-09   \n",
       "8                       3.333333e-10                            -7.444444e-09   \n",
       "9                       3.333333e-10                            -7.444444e-09   \n",
       "10                      3.333333e-10                            -7.444444e-09   \n",
       "11                      3.333333e-10                            -7.444444e-09   \n",
       "12                      3.333333e-10                            -7.444444e-09   \n",
       "13                      3.333333e-10                            -7.444444e-09   \n",
       "14                      3.333333e-10                            -7.444444e-09   \n",
       "15                      3.333333e-10                            -7.444444e-09   \n",
       "16                      3.333333e-10                            -7.444444e-09   \n",
       "17                      3.333333e-10                            -7.444444e-09   \n",
       "18                      3.333333e-10                            -7.444444e-09   \n",
       "19                      3.333333e-10                            -7.444444e-09   \n",
       "\n",
       "    HCO3 (arterial blood gas analysis)  pO2 (arterial blood gas analysis)  \\\n",
       "0                         6.000000e-09                      -2.481481e-08   \n",
       "1                         6.000000e-09                      -2.481481e-08   \n",
       "2                         6.000000e-09                      -2.481481e-08   \n",
       "3                         6.000000e-09                      -2.481481e-08   \n",
       "4                         6.000000e-09                      -2.481481e-08   \n",
       "5                         6.000000e-09                      -2.481481e-08   \n",
       "6                         6.000000e-09                      -2.481481e-08   \n",
       "7                         6.000000e-09                      -2.481481e-08   \n",
       "8                         6.000000e-09                      -2.481481e-08   \n",
       "9                         6.000000e-09                      -2.481481e-08   \n",
       "10                        6.000000e-09                      -2.481481e-08   \n",
       "11                        6.000000e-09                      -2.481481e-08   \n",
       "12                        6.000000e-09                      -2.481481e-08   \n",
       "13                        6.000000e-09                      -2.481481e-08   \n",
       "14                        6.000000e-09                      -2.481481e-08   \n",
       "15                        6.000000e-09                      -2.481481e-08   \n",
       "16                        6.000000e-09                      -2.481481e-08   \n",
       "17                        6.000000e-09                      -2.481481e-08   \n",
       "18                        6.000000e-09                      -2.481481e-08   \n",
       "19                        6.000000e-09                      -2.481481e-08   \n",
       "\n",
       "    Arteiral Fio2      Phosphor  ctO2 (arterial blood gas analysis)  \\\n",
       "0    4.650000e-09  6.250000e-09                        5.185185e-09   \n",
       "1    4.650000e-09  6.250000e-09                        5.185185e-09   \n",
       "2    4.650000e-09  6.250000e-09                        5.185185e-09   \n",
       "3    4.650000e-09  6.250000e-09                        5.185185e-09   \n",
       "4    4.650000e-09  6.250000e-09                        5.185185e-09   \n",
       "5    4.650000e-09  6.250000e-09                        5.185185e-09   \n",
       "6    4.650000e-09  6.250000e-09                        5.185185e-09   \n",
       "7    4.650000e-09  6.250000e-09                        5.185185e-09   \n",
       "8    4.650000e-09  7.303929e-01                        5.185185e-09   \n",
       "9    4.650000e-09  6.250000e-09                        5.185185e-09   \n",
       "10   4.650000e-09  6.250000e-09                        5.185185e-09   \n",
       "11   4.650000e-09  6.250000e-09                        5.185185e-09   \n",
       "12   4.650000e-09  6.250000e-09                        5.185185e-09   \n",
       "13   4.650000e-09  6.250000e-09                        5.185185e-09   \n",
       "14   4.650000e-09  6.250000e-09                        5.185185e-09   \n",
       "15   4.650000e-09  6.250000e-09                        5.185185e-09   \n",
       "16   4.650000e-09  6.250000e-09                        5.185185e-09   \n",
       "17   4.650000e-09  6.250000e-09                        5.185185e-09   \n",
       "18   4.650000e-09  6.250000e-09                        5.185185e-09   \n",
       "19   4.650000e-09  6.250000e-09                        5.185185e-09   \n",
       "\n",
       "    Ward (Regular=1 Semi Intensive=2 Intenssive Care =3)  \n",
       "0                                                 0.0     \n",
       "1                                                 0.0     \n",
       "2                                                 0.0     \n",
       "3                                                 0.0     \n",
       "4                                                 0.0     \n",
       "5                                                 0.0     \n",
       "6                                                 0.0     \n",
       "7                                                 0.0     \n",
       "8                                                 2.0     \n",
       "9                                                 0.0     \n",
       "10                                                0.0     \n",
       "11                                                0.0     \n",
       "12                                                0.0     \n",
       "13                                                0.0     \n",
       "14                                                0.0     \n",
       "15                                                0.0     \n",
       "16                                                0.0     \n",
       "17                                                0.0     \n",
       "18                                                0.0     \n",
       "19                                                0.0     \n",
       "\n",
       "[20 rows x 112 columns]"
      ]
     },
     "execution_count": 302,
     "metadata": {},
     "output_type": "execute_result"
    }
   ],
   "source": [
    "ds.head(20)"
   ]
  },
  {
   "cell_type": "code",
   "execution_count": 303,
   "metadata": {},
   "outputs": [
    {
     "data": {
      "text/plain": [
       "Patient ID                                               0\n",
       "Patient age quantile                                     0\n",
       "SARS-Cov-2 exam result                                   0\n",
       "Patient addmited to regular ward (1=yes, 0=no)           0\n",
       "Patient addmited to semi-intensive unit (1=yes, 0=no)    0\n",
       "                                                        ..\n",
       "pO2 (arterial blood gas analysis)                        0\n",
       "Arteiral Fio2                                            0\n",
       "Phosphor                                                 0\n",
       "ctO2 (arterial blood gas analysis)                       0\n",
       "Ward (Regular=1 Semi Intensive=2 Intenssive Care =3)     0\n",
       "Length: 112, dtype: int64"
      ]
     },
     "execution_count": 303,
     "metadata": {},
     "output_type": "execute_result"
    }
   ],
   "source": [
    "ds.isnull().sum()"
   ]
  },
  {
   "cell_type": "code",
   "execution_count": 304,
   "metadata": {},
   "outputs": [
    {
     "data": {
      "text/plain": [
       "Index(['Patient ID', 'Patient age quantile', 'SARS-Cov-2 exam result',\n",
       "       'Patient addmited to regular ward (1=yes, 0=no)',\n",
       "       'Patient addmited to semi-intensive unit (1=yes, 0=no)',\n",
       "       'Patient addmited to intensive care unit (1=yes, 0=no)', 'Hematocrit',\n",
       "       'Hemoglobin', 'Platelets', 'Mean platelet volume ',\n",
       "       ...\n",
       "       'pCO2 (arterial blood gas analysis)',\n",
       "       'Base excess (arterial blood gas analysis)',\n",
       "       'pH (arterial blood gas analysis)',\n",
       "       'Total CO2 (arterial blood gas analysis)',\n",
       "       'HCO3 (arterial blood gas analysis)',\n",
       "       'pO2 (arterial blood gas analysis)', 'Arteiral Fio2', 'Phosphor',\n",
       "       'ctO2 (arterial blood gas analysis)',\n",
       "       'Ward (Regular=1 Semi Intensive=2 Intenssive Care =3)'],\n",
       "      dtype='object', length=112)"
      ]
     },
     "execution_count": 304,
     "metadata": {},
     "output_type": "execute_result"
    }
   ],
   "source": [
    "ds.columns"
   ]
  },
  {
   "cell_type": "code",
   "execution_count": 305,
   "metadata": {},
   "outputs": [],
   "source": [
    "ds_cut = ds[['Patient age quantile', 'SARS-Cov-2 exam result','Ward (Regular=1 Semi Intensive=2 Intenssive Care =3)','Leukocytes', 'Lymphocytes']].copy()"
   ]
  },
  {
   "cell_type": "code",
   "execution_count": 306,
   "metadata": {},
   "outputs": [
    {
     "data": {
      "text/html": [
       "<div>\n",
       "<style scoped>\n",
       "    .dataframe tbody tr th:only-of-type {\n",
       "        vertical-align: middle;\n",
       "    }\n",
       "\n",
       "    .dataframe tbody tr th {\n",
       "        vertical-align: top;\n",
       "    }\n",
       "\n",
       "    .dataframe thead th {\n",
       "        text-align: right;\n",
       "    }\n",
       "</style>\n",
       "<table border=\"1\" class=\"dataframe\">\n",
       "  <thead>\n",
       "    <tr style=\"text-align: right;\">\n",
       "      <th></th>\n",
       "      <th>Patient age quantile</th>\n",
       "      <th>SARS-Cov-2 exam result</th>\n",
       "      <th>Ward (Regular=1 Semi Intensive=2 Intenssive Care =3)</th>\n",
       "      <th>Leukocytes</th>\n",
       "      <th>Lymphocytes</th>\n",
       "    </tr>\n",
       "  </thead>\n",
       "  <tbody>\n",
       "    <tr>\n",
       "      <th>0</th>\n",
       "      <td>13</td>\n",
       "      <td>negative</td>\n",
       "      <td>0.0</td>\n",
       "      <td>6.220930e-09</td>\n",
       "      <td>-7.863787e-09</td>\n",
       "    </tr>\n",
       "    <tr>\n",
       "      <th>1</th>\n",
       "      <td>17</td>\n",
       "      <td>negative</td>\n",
       "      <td>0.0</td>\n",
       "      <td>-9.461035e-02</td>\n",
       "      <td>3.183658e-01</td>\n",
       "    </tr>\n",
       "    <tr>\n",
       "      <th>2</th>\n",
       "      <td>8</td>\n",
       "      <td>negative</td>\n",
       "      <td>0.0</td>\n",
       "      <td>6.220930e-09</td>\n",
       "      <td>-7.863787e-09</td>\n",
       "    </tr>\n",
       "    <tr>\n",
       "      <th>3</th>\n",
       "      <td>5</td>\n",
       "      <td>negative</td>\n",
       "      <td>0.0</td>\n",
       "      <td>6.220930e-09</td>\n",
       "      <td>-7.863787e-09</td>\n",
       "    </tr>\n",
       "    <tr>\n",
       "      <th>4</th>\n",
       "      <td>15</td>\n",
       "      <td>negative</td>\n",
       "      <td>0.0</td>\n",
       "      <td>6.220930e-09</td>\n",
       "      <td>-7.863787e-09</td>\n",
       "    </tr>\n",
       "  </tbody>\n",
       "</table>\n",
       "</div>"
      ],
      "text/plain": [
       "   Patient age quantile SARS-Cov-2 exam result  \\\n",
       "0                    13               negative   \n",
       "1                    17               negative   \n",
       "2                     8               negative   \n",
       "3                     5               negative   \n",
       "4                    15               negative   \n",
       "\n",
       "   Ward (Regular=1 Semi Intensive=2 Intenssive Care =3)    Leukocytes  \\\n",
       "0                                                0.0     6.220930e-09   \n",
       "1                                                0.0    -9.461035e-02   \n",
       "2                                                0.0     6.220930e-09   \n",
       "3                                                0.0     6.220930e-09   \n",
       "4                                                0.0     6.220930e-09   \n",
       "\n",
       "    Lymphocytes  \n",
       "0 -7.863787e-09  \n",
       "1  3.183658e-01  \n",
       "2 -7.863787e-09  \n",
       "3 -7.863787e-09  \n",
       "4 -7.863787e-09  "
      ]
     },
     "execution_count": 306,
     "metadata": {},
     "output_type": "execute_result"
    }
   ],
   "source": [
    "ds_cut.head()"
   ]
  },
  {
   "cell_type": "markdown",
   "metadata": {},
   "source": [
    "# Check correlation"
   ]
  },
  {
   "cell_type": "code",
   "execution_count": 307,
   "metadata": {},
   "outputs": [
    {
     "data": {
      "text/plain": [
       "<matplotlib.axes._subplots.AxesSubplot at 0x1b788c2ab48>"
      ]
     },
     "execution_count": 307,
     "metadata": {},
     "output_type": "execute_result"
    },
    {
     "data": {
      "image/png": "[encoded data removed]",
      "text/plain": [
       "<Figure size 432x288 with 2 Axes>"
      ]
     },
     "metadata": {
      "needs_background": "light"
     },
     "output_type": "display_data"
    }
   ],
   "source": [
    "dscor=ds.corr()\n",
    "sns.heatmap(dscor)"
   ]
  },
  {
   "cell_type": "markdown",
   "metadata": {},
   "source": [
    "# Summary statistics"
   ]
  },
  {
   "cell_type": "code",
   "execution_count": 308,
   "metadata": {},
   "outputs": [
    {
     "data": {
      "text/html": [
       "<div>\n",
       "<style scoped>\n",
       "    .dataframe tbody tr th:only-of-type {\n",
       "        vertical-align: middle;\n",
       "    }\n",
       "\n",
       "    .dataframe tbody tr th {\n",
       "        vertical-align: top;\n",
       "    }\n",
       "\n",
       "    .dataframe thead th {\n",
       "        text-align: right;\n",
       "    }\n",
       "</style>\n",
       "<table border=\"1\" class=\"dataframe\">\n",
       "  <thead>\n",
       "    <tr style=\"text-align: right;\">\n",
       "      <th></th>\n",
       "      <th>Patient age quantile</th>\n",
       "      <th>Patient addmited to regular ward (1=yes, 0=no)</th>\n",
       "      <th>Patient addmited to semi-intensive unit (1=yes, 0=no)</th>\n",
       "      <th>Patient addmited to intensive care unit (1=yes, 0=no)</th>\n",
       "      <th>Hematocrit</th>\n",
       "      <th>Hemoglobin</th>\n",
       "      <th>Platelets</th>\n",
       "      <th>Mean platelet volume</th>\n",
       "      <th>Red blood Cells</th>\n",
       "      <th>Lymphocytes</th>\n",
       "      <th>...</th>\n",
       "      <th>pCO2 (arterial blood gas analysis)</th>\n",
       "      <th>Base excess (arterial blood gas analysis)</th>\n",
       "      <th>pH (arterial blood gas analysis)</th>\n",
       "      <th>Total CO2 (arterial blood gas analysis)</th>\n",
       "      <th>HCO3 (arterial blood gas analysis)</th>\n",
       "      <th>pO2 (arterial blood gas analysis)</th>\n",
       "      <th>Arteiral Fio2</th>\n",
       "      <th>Phosphor</th>\n",
       "      <th>ctO2 (arterial blood gas analysis)</th>\n",
       "      <th>Ward (Regular=1 Semi Intensive=2 Intenssive Care =3)</th>\n",
       "    </tr>\n",
       "  </thead>\n",
       "  <tbody>\n",
       "    <tr>\n",
       "      <th>count</th>\n",
       "      <td>5644.000000</td>\n",
       "      <td>5644.000000</td>\n",
       "      <td>5644.000000</td>\n",
       "      <td>5644.000000</td>\n",
       "      <td>5.644000e+03</td>\n",
       "      <td>5.644000e+03</td>\n",
       "      <td>5.644000e+03</td>\n",
       "      <td>5.644000e+03</td>\n",
       "      <td>5.644000e+03</td>\n",
       "      <td>5.644000e+03</td>\n",
       "      <td>...</td>\n",
       "      <td>5.644000e+03</td>\n",
       "      <td>5.644000e+03</td>\n",
       "      <td>5.644000e+03</td>\n",
       "      <td>5.644000e+03</td>\n",
       "      <td>5.644000e+03</td>\n",
       "      <td>5.644000e+03</td>\n",
       "      <td>5.644000e+03</td>\n",
       "      <td>5.644000e+03</td>\n",
       "      <td>5.644000e+03</td>\n",
       "      <td>5644.000000</td>\n",
       "    </tr>\n",
       "    <tr>\n",
       "      <th>mean</th>\n",
       "      <td>9.318391</td>\n",
       "      <td>0.013997</td>\n",
       "      <td>0.008859</td>\n",
       "      <td>0.007264</td>\n",
       "      <td>-2.187398e-09</td>\n",
       "      <td>-1.598342e-08</td>\n",
       "      <td>-3.820600e-10</td>\n",
       "      <td>7.373957e-09</td>\n",
       "      <td>8.416942e-09</td>\n",
       "      <td>-7.863787e-09</td>\n",
       "      <td>...</td>\n",
       "      <td>8.370370e-09</td>\n",
       "      <td>-1.703704e-09</td>\n",
       "      <td>3.333333e-10</td>\n",
       "      <td>-7.444444e-09</td>\n",
       "      <td>6.000000e-09</td>\n",
       "      <td>-2.481481e-08</td>\n",
       "      <td>4.650000e-09</td>\n",
       "      <td>6.250000e-09</td>\n",
       "      <td>5.185185e-09</td>\n",
       "      <td>0.053508</td>\n",
       "    </tr>\n",
       "    <tr>\n",
       "      <th>std</th>\n",
       "      <td>5.777903</td>\n",
       "      <td>0.117489</td>\n",
       "      <td>0.093713</td>\n",
       "      <td>0.084929</td>\n",
       "      <td>3.268915e-01</td>\n",
       "      <td>3.268915e-01</td>\n",
       "      <td>3.266203e-01</td>\n",
       "      <td>3.258055e-01</td>\n",
       "      <td>3.266203e-01</td>\n",
       "      <td>3.266203e-01</td>\n",
       "      <td>...</td>\n",
       "      <td>6.917145e-02</td>\n",
       "      <td>6.917145e-02</td>\n",
       "      <td>6.917145e-02</td>\n",
       "      <td>6.917145e-02</td>\n",
       "      <td>6.917145e-02</td>\n",
       "      <td>6.917145e-02</td>\n",
       "      <td>5.953330e-02</td>\n",
       "      <td>5.953330e-02</td>\n",
       "      <td>6.917145e-02</td>\n",
       "      <td>0.334618</td>\n",
       "    </tr>\n",
       "    <tr>\n",
       "      <th>min</th>\n",
       "      <td>0.000000</td>\n",
       "      <td>0.000000</td>\n",
       "      <td>0.000000</td>\n",
       "      <td>0.000000</td>\n",
       "      <td>-4.501420e+00</td>\n",
       "      <td>-4.345603e+00</td>\n",
       "      <td>-2.552426e+00</td>\n",
       "      <td>-2.457575e+00</td>\n",
       "      <td>-3.970608e+00</td>\n",
       "      <td>-1.865070e+00</td>\n",
       "      <td>...</td>\n",
       "      <td>-1.244817e+00</td>\n",
       "      <td>-3.082674e+00</td>\n",
       "      <td>-3.568877e+00</td>\n",
       "      <td>-2.925618e+00</td>\n",
       "      <td>-2.985592e+00</td>\n",
       "      <td>-1.175907e+00</td>\n",
       "      <td>-1.532932e+00</td>\n",
       "      <td>-1.480526e+00</td>\n",
       "      <td>-2.900254e+00</td>\n",
       "      <td>0.000000</td>\n",
       "    </tr>\n",
       "    <tr>\n",
       "      <th>25%</th>\n",
       "      <td>4.000000</td>\n",
       "      <td>0.000000</td>\n",
       "      <td>0.000000</td>\n",
       "      <td>0.000000</td>\n",
       "      <td>-2.187396e-09</td>\n",
       "      <td>-1.598342e-08</td>\n",
       "      <td>-3.820598e-10</td>\n",
       "      <td>7.373957e-09</td>\n",
       "      <td>8.416943e-09</td>\n",
       "      <td>-7.863787e-09</td>\n",
       "      <td>...</td>\n",
       "      <td>8.370370e-09</td>\n",
       "      <td>-1.703704e-09</td>\n",
       "      <td>3.333333e-10</td>\n",
       "      <td>-7.444444e-09</td>\n",
       "      <td>6.000000e-09</td>\n",
       "      <td>-2.481481e-08</td>\n",
       "      <td>4.650000e-09</td>\n",
       "      <td>6.250000e-09</td>\n",
       "      <td>5.185185e-09</td>\n",
       "      <td>0.000000</td>\n",
       "    </tr>\n",
       "    <tr>\n",
       "      <th>50%</th>\n",
       "      <td>9.000000</td>\n",
       "      <td>0.000000</td>\n",
       "      <td>0.000000</td>\n",
       "      <td>0.000000</td>\n",
       "      <td>-2.187396e-09</td>\n",
       "      <td>-1.598342e-08</td>\n",
       "      <td>-3.820598e-10</td>\n",
       "      <td>7.373957e-09</td>\n",
       "      <td>8.416943e-09</td>\n",
       "      <td>-7.863787e-09</td>\n",
       "      <td>...</td>\n",
       "      <td>8.370370e-09</td>\n",
       "      <td>-1.703704e-09</td>\n",
       "      <td>3.333333e-10</td>\n",
       "      <td>-7.444444e-09</td>\n",
       "      <td>6.000000e-09</td>\n",
       "      <td>-2.481481e-08</td>\n",
       "      <td>4.650000e-09</td>\n",
       "      <td>6.250000e-09</td>\n",
       "      <td>5.185185e-09</td>\n",
       "      <td>0.000000</td>\n",
       "    </tr>\n",
       "    <tr>\n",
       "      <th>75%</th>\n",
       "      <td>14.000000</td>\n",
       "      <td>0.000000</td>\n",
       "      <td>0.000000</td>\n",
       "      <td>0.000000</td>\n",
       "      <td>-2.187396e-09</td>\n",
       "      <td>-1.598342e-08</td>\n",
       "      <td>-3.820598e-10</td>\n",
       "      <td>7.373957e-09</td>\n",
       "      <td>8.416943e-09</td>\n",
       "      <td>-7.863787e-09</td>\n",
       "      <td>...</td>\n",
       "      <td>8.370370e-09</td>\n",
       "      <td>-1.703704e-09</td>\n",
       "      <td>3.333333e-10</td>\n",
       "      <td>-7.444444e-09</td>\n",
       "      <td>6.000000e-09</td>\n",
       "      <td>-2.481481e-08</td>\n",
       "      <td>4.650000e-09</td>\n",
       "      <td>6.250000e-09</td>\n",
       "      <td>5.185185e-09</td>\n",
       "      <td>0.000000</td>\n",
       "    </tr>\n",
       "    <tr>\n",
       "      <th>max</th>\n",
       "      <td>19.000000</td>\n",
       "      <td>1.000000</td>\n",
       "      <td>1.000000</td>\n",
       "      <td>1.000000</td>\n",
       "      <td>2.662704e+00</td>\n",
       "      <td>2.671868e+00</td>\n",
       "      <td>9.532034e+00</td>\n",
       "      <td>3.713052e+00</td>\n",
       "      <td>3.645706e+00</td>\n",
       "      <td>3.764100e+00</td>\n",
       "      <td>...</td>\n",
       "      <td>3.236524e+00</td>\n",
       "      <td>1.703078e+00</td>\n",
       "      <td>1.042674e+00</td>\n",
       "      <td>1.940087e+00</td>\n",
       "      <td>2.029471e+00</td>\n",
       "      <td>2.205371e+00</td>\n",
       "      <td>2.841856e+00</td>\n",
       "      <td>2.862350e+00</td>\n",
       "      <td>1.826932e+00</td>\n",
       "      <td>3.000000</td>\n",
       "    </tr>\n",
       "  </tbody>\n",
       "</table>\n",
       "<p>8 rows × 75 columns</p>\n",
       "</div>"
      ],
      "text/plain": [
       "       Patient age quantile  Patient addmited to regular ward (1=yes, 0=no)  \\\n",
       "count           5644.000000                                     5644.000000   \n",
       "mean               9.318391                                        0.013997   \n",
       "std                5.777903                                        0.117489   \n",
       "min                0.000000                                        0.000000   \n",
       "25%                4.000000                                        0.000000   \n",
       "50%                9.000000                                        0.000000   \n",
       "75%               14.000000                                        0.000000   \n",
       "max               19.000000                                        1.000000   \n",
       "\n",
       "       Patient addmited to semi-intensive unit (1=yes, 0=no)  \\\n",
       "count                                        5644.000000       \n",
       "mean                                            0.008859       \n",
       "std                                             0.093713       \n",
       "min                                             0.000000       \n",
       "25%                                             0.000000       \n",
       "50%                                             0.000000       \n",
       "75%                                             0.000000       \n",
       "max                                             1.000000       \n",
       "\n",
       "       Patient addmited to intensive care unit (1=yes, 0=no)    Hematocrit  \\\n",
       "count                                        5644.000000      5.644000e+03   \n",
       "mean                                            0.007264     -2.187398e-09   \n",
       "std                                             0.084929      3.268915e-01   \n",
       "min                                             0.000000     -4.501420e+00   \n",
       "25%                                             0.000000     -2.187396e-09   \n",
       "50%                                             0.000000     -2.187396e-09   \n",
       "75%                                             0.000000     -2.187396e-09   \n",
       "max                                             1.000000      2.662704e+00   \n",
       "\n",
       "         Hemoglobin     Platelets  Mean platelet volume   Red blood Cells  \\\n",
       "count  5.644000e+03  5.644000e+03           5.644000e+03     5.644000e+03   \n",
       "mean  -1.598342e-08 -3.820600e-10           7.373957e-09     8.416942e-09   \n",
       "std    3.268915e-01  3.266203e-01           3.258055e-01     3.266203e-01   \n",
       "min   -4.345603e+00 -2.552426e+00          -2.457575e+00    -3.970608e+00   \n",
       "25%   -1.598342e-08 -3.820598e-10           7.373957e-09     8.416943e-09   \n",
       "50%   -1.598342e-08 -3.820598e-10           7.373957e-09     8.416943e-09   \n",
       "75%   -1.598342e-08 -3.820598e-10           7.373957e-09     8.416943e-09   \n",
       "max    2.671868e+00  9.532034e+00           3.713052e+00     3.645706e+00   \n",
       "\n",
       "        Lymphocytes  ...  pCO2 (arterial blood gas analysis)  \\\n",
       "count  5.644000e+03  ...                        5.644000e+03   \n",
       "mean  -7.863787e-09  ...                        8.370370e-09   \n",
       "std    3.266203e-01  ...                        6.917145e-02   \n",
       "min   -1.865070e+00  ...                       -1.244817e+00   \n",
       "25%   -7.863787e-09  ...                        8.370370e-09   \n",
       "50%   -7.863787e-09  ...                        8.370370e-09   \n",
       "75%   -7.863787e-09  ...                        8.370370e-09   \n",
       "max    3.764100e+00  ...                        3.236524e+00   \n",
       "\n",
       "       Base excess (arterial blood gas analysis)  \\\n",
       "count                               5.644000e+03   \n",
       "mean                               -1.703704e-09   \n",
       "std                                 6.917145e-02   \n",
       "min                                -3.082674e+00   \n",
       "25%                                -1.703704e-09   \n",
       "50%                                -1.703704e-09   \n",
       "75%                                -1.703704e-09   \n",
       "max                                 1.703078e+00   \n",
       "\n",
       "       pH (arterial blood gas analysis)  \\\n",
       "count                      5.644000e+03   \n",
       "mean                       3.333333e-10   \n",
       "std                        6.917145e-02   \n",
       "min                       -3.568877e+00   \n",
       "25%                        3.333333e-10   \n",
       "50%                        3.333333e-10   \n",
       "75%                        3.333333e-10   \n",
       "max                        1.042674e+00   \n",
       "\n",
       "       Total CO2 (arterial blood gas analysis)  \\\n",
       "count                             5.644000e+03   \n",
       "mean                             -7.444444e-09   \n",
       "std                               6.917145e-02   \n",
       "min                              -2.925618e+00   \n",
       "25%                              -7.444444e-09   \n",
       "50%                              -7.444444e-09   \n",
       "75%                              -7.444444e-09   \n",
       "max                               1.940087e+00   \n",
       "\n",
       "       HCO3 (arterial blood gas analysis)  pO2 (arterial blood gas analysis)  \\\n",
       "count                        5.644000e+03                       5.644000e+03   \n",
       "mean                         6.000000e-09                      -2.481481e-08   \n",
       "std                          6.917145e-02                       6.917145e-02   \n",
       "min                         -2.985592e+00                      -1.175907e+00   \n",
       "25%                          6.000000e-09                      -2.481481e-08   \n",
       "50%                          6.000000e-09                      -2.481481e-08   \n",
       "75%                          6.000000e-09                      -2.481481e-08   \n",
       "max                          2.029471e+00                       2.205371e+00   \n",
       "\n",
       "       Arteiral Fio2      Phosphor  ctO2 (arterial blood gas analysis)  \\\n",
       "count   5.644000e+03  5.644000e+03                        5.644000e+03   \n",
       "mean    4.650000e-09  6.250000e-09                        5.185185e-09   \n",
       "std     5.953330e-02  5.953330e-02                        6.917145e-02   \n",
       "min    -1.532932e+00 -1.480526e+00                       -2.900254e+00   \n",
       "25%     4.650000e-09  6.250000e-09                        5.185185e-09   \n",
       "50%     4.650000e-09  6.250000e-09                        5.185185e-09   \n",
       "75%     4.650000e-09  6.250000e-09                        5.185185e-09   \n",
       "max     2.841856e+00  2.862350e+00                        1.826932e+00   \n",
       "\n",
       "       Ward (Regular=1 Semi Intensive=2 Intenssive Care =3)  \n",
       "count                                        5644.000000     \n",
       "mean                                            0.053508     \n",
       "std                                             0.334618     \n",
       "min                                             0.000000     \n",
       "25%                                             0.000000     \n",
       "50%                                             0.000000     \n",
       "75%                                             0.000000     \n",
       "max                                             3.000000     \n",
       "\n",
       "[8 rows x 75 columns]"
      ]
     },
     "execution_count": 308,
     "metadata": {},
     "output_type": "execute_result"
    }
   ],
   "source": [
    "ds.describe()"
   ]
  },
  {
   "cell_type": "markdown",
   "metadata": {},
   "source": [
    "# Data visualizations"
   ]
  },
  {
   "cell_type": "code",
   "execution_count": 309,
   "metadata": {},
   "outputs": [
    {
     "data": {
      "text/plain": [
       "Index(['Patient ID', 'Patient age quantile', 'SARS-Cov-2 exam result',\n",
       "       'Patient addmited to regular ward (1=yes, 0=no)',\n",
       "       'Patient addmited to semi-intensive unit (1=yes, 0=no)',\n",
       "       'Patient addmited to intensive care unit (1=yes, 0=no)', 'Hematocrit',\n",
       "       'Hemoglobin', 'Platelets', 'Mean platelet volume ',\n",
       "       ...\n",
       "       'pCO2 (arterial blood gas analysis)',\n",
       "       'Base excess (arterial blood gas analysis)',\n",
       "       'pH (arterial blood gas analysis)',\n",
       "       'Total CO2 (arterial blood gas analysis)',\n",
       "       'HCO3 (arterial blood gas analysis)',\n",
       "       'pO2 (arterial blood gas analysis)', 'Arteiral Fio2', 'Phosphor',\n",
       "       'ctO2 (arterial blood gas analysis)',\n",
       "       'Ward (Regular=1 Semi Intensive=2 Intenssive Care =3)'],\n",
       "      dtype='object', length=112)"
      ]
     },
     "execution_count": 309,
     "metadata": {},
     "output_type": "execute_result"
    }
   ],
   "source": [
    "ds.columns"
   ]
  },
  {
   "cell_type": "code",
   "execution_count": 310,
   "metadata": {},
   "outputs": [
    {
     "data": {
      "text/plain": [
       "Ward (Regular=1 Semi Intensive=2 Intenssive Care =3)\n",
       "0.0    5474\n",
       "1.0      79\n",
       "2.0      50\n",
       "3.0      41\n",
       "Name: Ward (Regular=1 Semi Intensive=2 Intenssive Care =3), dtype: int64"
      ]
     },
     "execution_count": 310,
     "metadata": {},
     "output_type": "execute_result"
    }
   ],
   "source": [
    "ds.groupby('Ward (Regular=1 Semi Intensive=2 Intenssive Care =3)')['Ward (Regular=1 Semi Intensive=2 Intenssive Care =3)'].count()"
   ]
  },
  {
   "cell_type": "code",
   "execution_count": 311,
   "metadata": {},
   "outputs": [
    {
     "data": {
      "text/plain": [
       "<matplotlib.axes._subplots.AxesSubplot at 0x1b78225d4c8>"
      ]
     },
     "execution_count": 311,
     "metadata": {},
     "output_type": "execute_result"
    },
    {
     "data": {
      "image/png": "[encoded data removed]",
      "text/plain": [
       "<Figure size 432x288 with 1 Axes>"
      ]
     },
     "metadata": {
      "needs_background": "light"
     },
     "output_type": "display_data"
    }
   ],
   "source": [
    "sns.countplot(ds['Ward (Regular=1 Semi Intensive=2 Intenssive Care =3)'])"
   ]
  },
  {
   "cell_type": "markdown",
   "metadata": {},
   "source": [
    "Only a very small amount of patients were admitted to the hospital of these a decreasing amount of patients are admitted as the seriousness of the ward increases."
   ]
  },
  {
   "cell_type": "code",
   "execution_count": 312,
   "metadata": {},
   "outputs": [
    {
     "data": {
      "text/plain": [
       "<matplotlib.axes._subplots.AxesSubplot at 0x1b7875a2b48>"
      ]
     },
     "execution_count": 312,
     "metadata": {},
     "output_type": "execute_result"
    },
    {
     "data": {
      "image/png": "[encoded data removed]",
      "text/plain": [
       "<Figure size 432x288 with 1 Axes>"
      ]
     },
     "metadata": {
      "needs_background": "light"
     },
     "output_type": "display_data"
    }
   ],
   "source": [
    "sns.countplot(ds['SARS-Cov-2 exam result'])"
   ]
  },
  {
   "cell_type": "markdown",
   "metadata": {},
   "source": [
    "The vast majority of cases were negative."
   ]
  },
  {
   "cell_type": "code",
   "execution_count": 313,
   "metadata": {},
   "outputs": [
    {
     "data": {
      "text/plain": [
       "<seaborn.axisgrid.FacetGrid at 0x1b788d2b708>"
      ]
     },
     "execution_count": 313,
     "metadata": {},
     "output_type": "execute_result"
    },
    {
     "data": {
      "image/png": "[encoded data removed]",
      "text/plain": [
       "<Figure size 489.25x360 with 1 Axes>"
      ]
     },
     "metadata": {
      "needs_background": "light"
     },
     "output_type": "display_data"
    }
   ],
   "source": [
    "sns.catplot(x='Ward (Regular=1 Semi Intensive=2 Intenssive Care =3)', y= 'Patient age quantile', hue='SARS-Cov-2 exam result', data=ds, kind='bar')"
   ]
  },
  {
   "cell_type": "markdown",
   "metadata": {},
   "source": [
    "Younger people are fare less likely to be admitted to any ward when testing positive for Covid."
   ]
  },
  {
   "cell_type": "code",
   "execution_count": 314,
   "metadata": {
    "scrolled": true
   },
   "outputs": [
    {
     "data": {
      "text/plain": [
       "<matplotlib.axes._subplots.AxesSubplot at 0x1b784eb4d08>"
      ]
     },
     "execution_count": 314,
     "metadata": {},
     "output_type": "execute_result"
    },
    {
     "data": {
      "image/png": "[encoded data removed]",
      "text/plain": [
       "<Figure size 432x288 with 1 Axes>"
      ]
     },
     "metadata": {
      "needs_background": "light"
     },
     "output_type": "display_data"
    }
   ],
   "source": [
    "sns.boxplot(x='SARS-Cov-2 exam result',y='Patient age quantile',data=ds)"
   ]
  },
  {
   "cell_type": "markdown",
   "metadata": {},
   "source": [
    "Older people are more likely to test positive for covid."
   ]
  },
  {
   "cell_type": "code",
   "execution_count": 315,
   "metadata": {},
   "outputs": [
    {
     "data": {
      "text/plain": [
       "<matplotlib.axes._subplots.AxesSubplot at 0x1b784e8cac8>"
      ]
     },
     "execution_count": 315,
     "metadata": {},
     "output_type": "execute_result"
    },
    {
     "data": {
      "image/png": "[encoded data removed]",
      "text/plain": [
       "<Figure size 432x288 with 1 Axes>"
      ]
     },
     "metadata": {
      "needs_background": "light"
     },
     "output_type": "display_data"
    }
   ],
   "source": [
    "sns.boxplot(x='SARS-Cov-2 exam result',y='Leukocytes',data=ds)"
   ]
  },
  {
   "cell_type": "markdown",
   "metadata": {},
   "source": [
    "Leucocytes are generally lower in patients who tested positive."
   ]
  },
  {
   "cell_type": "code",
   "execution_count": null,
   "metadata": {},
   "outputs": [],
   "source": []
  },
  {
   "cell_type": "code",
   "execution_count": 316,
   "metadata": {},
   "outputs": [
    {
     "data": {
      "text/plain": [
       "<matplotlib.axes._subplots.AxesSubplot at 0x1b78273df08>"
      ]
     },
     "execution_count": 316,
     "metadata": {},
     "output_type": "execute_result"
    },
    {
     "data": {
      "image/png": "[encoded data removed]",
      "text/plain": [
       "<Figure size 432x288 with 1 Axes>"
      ]
     },
     "metadata": {
      "needs_background": "light"
     },
     "output_type": "display_data"
    }
   ],
   "source": [
    "sns.boxplot(x='SARS-Cov-2 exam result',y='Ferritin',data=ds)"
   ]
  },
  {
   "cell_type": "markdown",
   "metadata": {},
   "source": [
    "Not enough data to draw a conclusion"
   ]
  },
  {
   "cell_type": "code",
   "execution_count": 317,
   "metadata": {},
   "outputs": [
    {
     "data": {
      "text/plain": [
       "<matplotlib.axes._subplots.AxesSubplot at 0x1b784121d48>"
      ]
     },
     "execution_count": 317,
     "metadata": {},
     "output_type": "execute_result"
    },
    {
     "data": {
      "image/png": "[encoded data removed]",
      "text/plain": [
       "<Figure size 432x288 with 1 Axes>"
      ]
     },
     "metadata": {
      "needs_background": "light"
     },
     "output_type": "display_data"
    }
   ],
   "source": [
    "sns.boxplot(x='SARS-Cov-2 exam result',y='Lymphocytes',data=ds)"
   ]
  },
  {
   "cell_type": "markdown",
   "metadata": {},
   "source": [
    "Lymphocytes alo trend lower for patients who test positive."
   ]
  },
  {
   "cell_type": "code",
   "execution_count": 318,
   "metadata": {},
   "outputs": [
    {
     "data": {
      "text/plain": [
       "<matplotlib.axes._subplots.AxesSubplot at 0x1b784e870c8>"
      ]
     },
     "execution_count": 318,
     "metadata": {},
     "output_type": "execute_result"
    },
    {
     "data": {
      "image/png": "[encoded data removed]",
      "text/plain": [
       "<Figure size 432x288 with 1 Axes>"
      ]
     },
     "metadata": {
      "needs_background": "light"
     },
     "output_type": "display_data"
    }
   ],
   "source": [
    "sns.boxplot(x='SARS-Cov-2 exam result',y='Monocytes',data=ds)"
   ]
  },
  {
   "cell_type": "markdown",
   "metadata": {},
   "source": [
    "# Check eveness of dataset"
   ]
  },
  {
   "cell_type": "code",
   "execution_count": 319,
   "metadata": {},
   "outputs": [
    {
     "data": {
      "text/plain": [
       "Index(['Patient ID', 'Patient age quantile', 'SARS-Cov-2 exam result',\n",
       "       'Patient addmited to regular ward (1=yes, 0=no)',\n",
       "       'Patient addmited to semi-intensive unit (1=yes, 0=no)',\n",
       "       'Patient addmited to intensive care unit (1=yes, 0=no)', 'Hematocrit',\n",
       "       'Hemoglobin', 'Platelets', 'Mean platelet volume ',\n",
       "       ...\n",
       "       'pCO2 (arterial blood gas analysis)',\n",
       "       'Base excess (arterial blood gas analysis)',\n",
       "       'pH (arterial blood gas analysis)',\n",
       "       'Total CO2 (arterial blood gas analysis)',\n",
       "       'HCO3 (arterial blood gas analysis)',\n",
       "       'pO2 (arterial blood gas analysis)', 'Arteiral Fio2', 'Phosphor',\n",
       "       'ctO2 (arterial blood gas analysis)',\n",
       "       'Ward (Regular=1 Semi Intensive=2 Intenssive Care =3)'],\n",
       "      dtype='object', length=112)"
      ]
     },
     "execution_count": 319,
     "metadata": {},
     "output_type": "execute_result"
    }
   ],
   "source": [
    "ds.columns"
   ]
  },
  {
   "cell_type": "code",
   "execution_count": 320,
   "metadata": {},
   "outputs": [
    {
     "data": {
      "text/plain": [
       "negative    5086\n",
       "positive     558\n",
       "Name: SARS-Cov-2 exam result, dtype: int64"
      ]
     },
     "execution_count": 320,
     "metadata": {},
     "output_type": "execute_result"
    }
   ],
   "source": [
    "covid_counts = ds['SARS-Cov-2 exam result'].value_counts()\n",
    "covid_counts"
   ]
  },
  {
   "cell_type": "code",
   "execution_count": 321,
   "metadata": {},
   "outputs": [
    {
     "data": {
      "text/plain": [
       "negative    90.1%\n",
       "positive     9.9%\n",
       "Name: SARS-Cov-2 exam result, dtype: object"
      ]
     },
     "execution_count": 321,
     "metadata": {},
     "output_type": "execute_result"
    }
   ],
   "source": [
    "covid_percentage = ds['SARS-Cov-2 exam result'].value_counts(normalize=True).mul(100).round(1).astype(str) + '%'\n",
    "covid_percentage"
   ]
  },
  {
   "cell_type": "markdown",
   "metadata": {},
   "source": [
    "The data is not distributed evenly over the target column and the split will need to be stratified."
   ]
  },
  {
   "cell_type": "code",
   "execution_count": 322,
   "metadata": {},
   "outputs": [
    {
     "data": {
      "text/plain": [
       "0.0    5474\n",
       "1.0      79\n",
       "2.0      50\n",
       "3.0      41\n",
       "Name: Ward (Regular=1 Semi Intensive=2 Intenssive Care =3), dtype: int64"
      ]
     },
     "execution_count": 322,
     "metadata": {},
     "output_type": "execute_result"
    }
   ],
   "source": [
    "ward_counts = ds['Ward (Regular=1 Semi Intensive=2 Intenssive Care =3)'].value_counts()\n",
    "ward_counts"
   ]
  },
  {
   "cell_type": "code",
   "execution_count": 323,
   "metadata": {},
   "outputs": [
    {
     "data": {
      "text/plain": [
       "0.0    97.0%\n",
       "1.0     1.4%\n",
       "2.0     0.9%\n",
       "3.0     0.7%\n",
       "Name: Ward (Regular=1 Semi Intensive=2 Intenssive Care =3), dtype: object"
      ]
     },
     "execution_count": 323,
     "metadata": {},
     "output_type": "execute_result"
    }
   ],
   "source": [
    "ward_percentage = ds['Ward (Regular=1 Semi Intensive=2 Intenssive Care =3)'].value_counts(normalize=True).mul(100).round(1).astype(str) + '%'\n",
    "ward_percentage"
   ]
  },
  {
   "cell_type": "markdown",
   "metadata": {},
   "source": [
    "The data is not distributed evenly over the target column and the split will need to be stratified."
   ]
  },
  {
   "cell_type": "markdown",
   "metadata": {},
   "source": [
    "# Encode categorical columns to numeric values"
   ]
  },
  {
   "cell_type": "code",
   "execution_count": 324,
   "metadata": {},
   "outputs": [],
   "source": [
    "eds=ds_cut"
   ]
  },
  {
   "cell_type": "code",
   "execution_count": 325,
   "metadata": {},
   "outputs": [
    {
     "data": {
      "text/plain": [
       "Index(['Patient age quantile', 'SARS-Cov-2 exam result',\n",
       "       'Ward (Regular=1 Semi Intensive=2 Intenssive Care =3)', 'Leukocytes',\n",
       "       'Lymphocytes'],\n",
       "      dtype='object')"
      ]
     },
     "execution_count": 325,
     "metadata": {},
     "output_type": "execute_result"
    }
   ],
   "source": [
    "ds_cut.columns"
   ]
  },
  {
   "cell_type": "code",
   "execution_count": 326,
   "metadata": {},
   "outputs": [
    {
     "data": {
      "text/plain": [
       "Patient age quantile                                      int64\n",
       "SARS-Cov-2 exam result                                   object\n",
       "Ward (Regular=1 Semi Intensive=2 Intenssive Care =3)    float64\n",
       "Leukocytes                                              float64\n",
       "Lymphocytes                                             float64\n",
       "dtype: object"
      ]
     },
     "execution_count": 326,
     "metadata": {},
     "output_type": "execute_result"
    }
   ],
   "source": [
    "ds_cut.dtypes"
   ]
  },
  {
   "cell_type": "code",
   "execution_count": 327,
   "metadata": {},
   "outputs": [],
   "source": [
    "# Encode one or specific columns in a dataset\n",
    "from sklearn.preprocessing import LabelEncoder\n",
    "\n",
    "Encoderds = LabelEncoder() \n",
    "eds['SARS-Cov-2 exam result'] = Encoderds.fit_transform(eds['SARS-Cov-2 exam result'])"
   ]
  },
  {
   "cell_type": "code",
   "execution_count": 328,
   "metadata": {},
   "outputs": [
    {
     "data": {
      "text/html": [
       "<div>\n",
       "<style scoped>\n",
       "    .dataframe tbody tr th:only-of-type {\n",
       "        vertical-align: middle;\n",
       "    }\n",
       "\n",
       "    .dataframe tbody tr th {\n",
       "        vertical-align: top;\n",
       "    }\n",
       "\n",
       "    .dataframe thead th {\n",
       "        text-align: right;\n",
       "    }\n",
       "</style>\n",
       "<table border=\"1\" class=\"dataframe\">\n",
       "  <thead>\n",
       "    <tr style=\"text-align: right;\">\n",
       "      <th></th>\n",
       "      <th>Patient age quantile</th>\n",
       "      <th>SARS-Cov-2 exam result</th>\n",
       "      <th>Ward (Regular=1 Semi Intensive=2 Intenssive Care =3)</th>\n",
       "      <th>Leukocytes</th>\n",
       "      <th>Lymphocytes</th>\n",
       "    </tr>\n",
       "  </thead>\n",
       "  <tbody>\n",
       "    <tr>\n",
       "      <th>0</th>\n",
       "      <td>13</td>\n",
       "      <td>0</td>\n",
       "      <td>0.0</td>\n",
       "      <td>6.220930e-09</td>\n",
       "      <td>-7.863787e-09</td>\n",
       "    </tr>\n",
       "    <tr>\n",
       "      <th>1</th>\n",
       "      <td>17</td>\n",
       "      <td>0</td>\n",
       "      <td>0.0</td>\n",
       "      <td>-9.461035e-02</td>\n",
       "      <td>3.183658e-01</td>\n",
       "    </tr>\n",
       "    <tr>\n",
       "      <th>2</th>\n",
       "      <td>8</td>\n",
       "      <td>0</td>\n",
       "      <td>0.0</td>\n",
       "      <td>6.220930e-09</td>\n",
       "      <td>-7.863787e-09</td>\n",
       "    </tr>\n",
       "    <tr>\n",
       "      <th>3</th>\n",
       "      <td>5</td>\n",
       "      <td>0</td>\n",
       "      <td>0.0</td>\n",
       "      <td>6.220930e-09</td>\n",
       "      <td>-7.863787e-09</td>\n",
       "    </tr>\n",
       "    <tr>\n",
       "      <th>4</th>\n",
       "      <td>15</td>\n",
       "      <td>0</td>\n",
       "      <td>0.0</td>\n",
       "      <td>6.220930e-09</td>\n",
       "      <td>-7.863787e-09</td>\n",
       "    </tr>\n",
       "  </tbody>\n",
       "</table>\n",
       "</div>"
      ],
      "text/plain": [
       "   Patient age quantile  SARS-Cov-2 exam result  \\\n",
       "0                    13                       0   \n",
       "1                    17                       0   \n",
       "2                     8                       0   \n",
       "3                     5                       0   \n",
       "4                    15                       0   \n",
       "\n",
       "   Ward (Regular=1 Semi Intensive=2 Intenssive Care =3)    Leukocytes  \\\n",
       "0                                                0.0     6.220930e-09   \n",
       "1                                                0.0    -9.461035e-02   \n",
       "2                                                0.0     6.220930e-09   \n",
       "3                                                0.0     6.220930e-09   \n",
       "4                                                0.0     6.220930e-09   \n",
       "\n",
       "    Lymphocytes  \n",
       "0 -7.863787e-09  \n",
       "1  3.183658e-01  \n",
       "2 -7.863787e-09  \n",
       "3 -7.863787e-09  \n",
       "4 -7.863787e-09  "
      ]
     },
     "execution_count": 328,
     "metadata": {},
     "output_type": "execute_result"
    }
   ],
   "source": [
    "eds.head()"
   ]
  },
  {
   "cell_type": "markdown",
   "metadata": {},
   "source": [
    "# Check correlation after encoding"
   ]
  },
  {
   "cell_type": "code",
   "execution_count": 329,
   "metadata": {},
   "outputs": [
    {
     "data": {
      "text/plain": [
       "<matplotlib.axes._subplots.AxesSubplot at 0x1b784e22248>"
      ]
     },
     "execution_count": 329,
     "metadata": {},
     "output_type": "execute_result"
    },
    {
     "data": {
      "image/png": "[encoded data removed]",
      "text/plain": [
       "<Figure size 432x288 with 2 Axes>"
      ]
     },
     "metadata": {
      "needs_background": "light"
     },
     "output_type": "display_data"
    }
   ],
   "source": [
    "dscor=eds.corr()\n",
    "sns.heatmap(dscor, annot=True)"
   ]
  },
  {
   "cell_type": "markdown",
   "metadata": {},
   "source": [
    "# Drop irrelevant columns"
   ]
  },
  {
   "cell_type": "code",
   "execution_count": 330,
   "metadata": {},
   "outputs": [],
   "source": [
    "# Drop irrelevant (poorly correlated) columns - dataset renamed to nds (new dataset)\n",
    "nds=eds"
   ]
  },
  {
   "cell_type": "markdown",
   "metadata": {},
   "source": [
    "# Find and remove outliers"
   ]
  },
  {
   "cell_type": "code",
   "execution_count": 331,
   "metadata": {},
   "outputs": [
    {
     "data": {
      "text/plain": [
       "(5644, 5)"
      ]
     },
     "execution_count": 331,
     "metadata": {},
     "output_type": "execute_result"
    }
   ],
   "source": [
    "nds.shape"
   ]
  },
  {
   "cell_type": "code",
   "execution_count": 332,
   "metadata": {},
   "outputs": [
    {
     "data": {
      "image/png": "[encoded data removed]",
      "text/plain": [
       "<Figure size 360x1800 with 4 Axes>"
      ]
     },
     "metadata": {
      "needs_background": "light"
     },
     "output_type": "display_data"
    }
   ],
   "source": [
    "# Show boxplots for all columns, check outliers\n",
    "collist=nds.columns.values\n",
    "ncol=5\n",
    "nrows=10\n",
    "\n",
    "plt.figure(figsize=(ncol,5*ncol))\n",
    "for i in range(1, len(collist)):\n",
    "    plt.subplot(nrows,ncol,i+1)\n",
    "    sns.boxplot(nds[collist[i]], color='red', orient='v')\n",
    "    plt.tight_layout()"
   ]
  },
  {
   "cell_type": "markdown",
   "metadata": {},
   "source": [
    "Not removing outliers because then all differentiation is lost."
   ]
  },
  {
   "cell_type": "markdown",
   "metadata": {},
   "source": [
    "# Check and adjust skewness"
   ]
  },
  {
   "cell_type": "code",
   "execution_count": 333,
   "metadata": {},
   "outputs": [
    {
     "data": {
      "image/png": "[encoded data removed]",
      "text/plain": [
       "<Figure size 900x900 with 30 Axes>"
      ]
     },
     "metadata": {
      "needs_background": "light"
     },
     "output_type": "display_data"
    }
   ],
   "source": [
    "# Checking pairplots\n",
    "sns.pairplot(nds)\n",
    "plt.show()"
   ]
  },
  {
   "cell_type": "code",
   "execution_count": 334,
   "metadata": {},
   "outputs": [
    {
     "data": {
      "text/plain": [
       "Patient age quantile                                    0.034623\n",
       "SARS-Cov-2 exam result                                  2.688541\n",
       "Ward (Regular=1 Semi Intensive=2 Intenssive Care =3)    7.020153\n",
       "Leukocytes                                              4.365807\n",
       "Lymphocytes                                             1.452355\n",
       "dtype: float64"
      ]
     },
     "execution_count": 334,
     "metadata": {},
     "output_type": "execute_result"
    }
   ],
   "source": [
    "# Show skewness (less than 0.55 is ok)\n",
    "nds.skew()"
   ]
  },
  {
   "cell_type": "markdown",
   "metadata": {},
   "source": [
    "# Split data into x and y for ward classification"
   ]
  },
  {
   "cell_type": "code",
   "execution_count": 335,
   "metadata": {},
   "outputs": [
    {
     "data": {
      "text/plain": [
       "Index(['Patient age quantile', 'SARS-Cov-2 exam result',\n",
       "       'Ward (Regular=1 Semi Intensive=2 Intenssive Care =3)', 'Leukocytes',\n",
       "       'Lymphocytes'],\n",
       "      dtype='object')"
      ]
     },
     "execution_count": 335,
     "metadata": {},
     "output_type": "execute_result"
    }
   ],
   "source": [
    "nds.columns"
   ]
  },
  {
   "cell_type": "code",
   "execution_count": 340,
   "metadata": {},
   "outputs": [
    {
     "data": {
      "text/plain": [
       "(5644, 5)"
      ]
     },
     "execution_count": 340,
     "metadata": {},
     "output_type": "execute_result"
    }
   ],
   "source": [
    "nds.shape"
   ]
  },
  {
   "cell_type": "code",
   "execution_count": 341,
   "metadata": {},
   "outputs": [],
   "source": [
    "# Lineup target and input values\n",
    "nds_x=nds.drop(columns=['Ward (Regular=1 Semi Intensive=2 Intenssive Care =3)'])\n",
    "y=nds[['Ward (Regular=1 Semi Intensive=2 Intenssive Care =3)']]"
   ]
  },
  {
   "cell_type": "code",
   "execution_count": 345,
   "metadata": {},
   "outputs": [
    {
     "data": {
      "text/plain": [
       "(5644, 1)"
      ]
     },
     "execution_count": 345,
     "metadata": {},
     "output_type": "execute_result"
    }
   ],
   "source": [
    "y.shape"
   ]
  },
  {
   "cell_type": "markdown",
   "metadata": {},
   "source": [
    "# Apply scaler"
   ]
  },
  {
   "cell_type": "code",
   "execution_count": 365,
   "metadata": {},
   "outputs": [],
   "source": [
    "from sklearn.preprocessing import MinMaxScaler\n",
    "# define min max scaler\n",
    "scaler = MinMaxScaler()\n",
    "# transform data\n",
    "x = scaler.fit_transform(nds_x)\n",
    "x =pd.DataFrame(x,columns=nds_x.columns)"
   ]
  },
  {
   "cell_type": "code",
   "execution_count": 344,
   "metadata": {},
   "outputs": [
    {
     "data": {
      "text/plain": [
       "(5644, 4)"
      ]
     },
     "execution_count": 344,
     "metadata": {},
     "output_type": "execute_result"
    }
   ],
   "source": [
    "x.shape"
   ]
  },
  {
   "cell_type": "code",
   "execution_count": 338,
   "metadata": {},
   "outputs": [
    {
     "data": {
      "text/plain": [
       "Patient age quantile      0.034623\n",
       "SARS-Cov-2 exam result    2.688541\n",
       "Leukocytes                4.365807\n",
       "Lymphocytes               1.452355\n",
       "dtype: float64"
      ]
     },
     "execution_count": 338,
     "metadata": {},
     "output_type": "execute_result"
    }
   ],
   "source": [
    "x.skew()"
   ]
  },
  {
   "cell_type": "markdown",
   "metadata": {},
   "source": [
    "# Train-Test split"
   ]
  },
  {
   "cell_type": "code",
   "execution_count": 346,
   "metadata": {},
   "outputs": [],
   "source": [
    "# Train test split\n",
    "from sklearn.model_selection import train_test_split\n",
    "x_train,x_test, y_train, y_test = train_test_split(x,y, random_state=55, test_size=0.20, stratify=nds['Ward (Regular=1 Semi Intensive=2 Intenssive Care =3)'])"
   ]
  },
  {
   "cell_type": "markdown",
   "metadata": {},
   "source": [
    "# Model"
   ]
  },
  {
   "cell_type": "code",
   "execution_count": 347,
   "metadata": {},
   "outputs": [],
   "source": [
    "# Using GridSearchCV to select the best parameter"
   ]
  },
  {
   "cell_type": "code",
   "execution_count": 348,
   "metadata": {},
   "outputs": [],
   "source": [
    "from sklearn.neighbors import KNeighborsClassifier\n",
    "from sklearn.svm import SVC\n",
    "from sklearn.tree import DecisionTreeClassifier\n",
    "from sklearn.naive_bayes import MultinomialNB"
   ]
  },
  {
   "cell_type": "code",
   "execution_count": 349,
   "metadata": {},
   "outputs": [
    {
     "data": {
      "text/plain": [
       "{'kernel': 'poly'}"
      ]
     },
     "execution_count": 349,
     "metadata": {},
     "output_type": "execute_result"
    }
   ],
   "source": [
    "# Best parameters for SVC\n",
    "from sklearn.model_selection import GridSearchCV\n",
    "\n",
    "sv=SVC()\n",
    "parameters={'kernel':('poly','rbf','linear')}\n",
    "gd=GridSearchCV(sv,parameters)\n",
    "gd.fit(x_train,y_train)\n",
    "gd.best_params_"
   ]
  },
  {
   "cell_type": "code",
   "execution_count": 350,
   "metadata": {},
   "outputs": [
    {
     "data": {
      "text/plain": [
       "{'criterion': 'gini'}"
      ]
     },
     "execution_count": 350,
     "metadata": {},
     "output_type": "execute_result"
    }
   ],
   "source": [
    "# Best parameters for DecisionTree\n",
    "\n",
    "dt=DecisionTreeClassifier()\n",
    "parameters={'criterion':('gini','entropy')}\n",
    "gd=GridSearchCV(dt,parameters)\n",
    "gd.fit(x_train,y_train)\n",
    "gd.best_params_"
   ]
  },
  {
   "cell_type": "code",
   "execution_count": 351,
   "metadata": {},
   "outputs": [
    {
     "data": {
      "text/plain": [
       "{'n_neighbors': 10}"
      ]
     },
     "execution_count": 351,
     "metadata": {},
     "output_type": "execute_result"
    }
   ],
   "source": [
    "# Best parameters for KNeighborsClassifier\n",
    "\n",
    "kn=KNeighborsClassifier()\n",
    "parameters={'n_neighbors':(1,10)}\n",
    "gd=GridSearchCV(kn,parameters)\n",
    "gd.fit(x_train,y_train)\n",
    "gd.best_params_"
   ]
  },
  {
   "cell_type": "markdown",
   "metadata": {},
   "source": [
    "# Comparing classification algorithm results"
   ]
  },
  {
   "cell_type": "code",
   "execution_count": 352,
   "metadata": {},
   "outputs": [],
   "source": [
    "from sklearn.metrics import accuracy_score,confusion_matrix,classification_report,roc_curve,auc"
   ]
  },
  {
   "cell_type": "code",
   "execution_count": 353,
   "metadata": {},
   "outputs": [],
   "source": [
    "from sklearn.model_selection import cross_val_score"
   ]
  },
  {
   "cell_type": "code",
   "execution_count": 354,
   "metadata": {},
   "outputs": [],
   "source": [
    "KNN=KNeighborsClassifier(n_neighbors= 10)\n",
    "SV=SVC(kernel='poly')# check c parameter?\n",
    "DT=DecisionTreeClassifier(criterion='gini')# check random_state?\n",
    "MNB=MultinomialNB()"
   ]
  },
  {
   "cell_type": "code",
   "execution_count": 355,
   "metadata": {},
   "outputs": [],
   "source": [
    "models=[]\n",
    "models.append(('KneighborsClassifier',KNN))\n",
    "models.append(('SVC',SV))\n",
    "models.append(('DecisionTreeClassifier',DT))\n",
    "models.append(('MultinomialNB',MNB))"
   ]
  },
  {
   "cell_type": "code",
   "execution_count": 356,
   "metadata": {},
   "outputs": [
    {
     "name": "stdout",
     "output_type": "stream",
     "text": [
      "************************* KneighborsClassifier *************************\n",
      "\n",
      "KNeighborsClassifier(algorithm='auto', leaf_size=30, metric='minkowski',\n",
      "                     metric_params=None, n_jobs=None, n_neighbors=10, p=2,\n",
      "                     weights='uniform')\n",
      "\n",
      "\n",
      "\n",
      "Accuracy score = 0.9672276350752879\n",
      "\n",
      "\n",
      "cross validation score = 0.9684623109270069\n",
      "\n",
      "\n",
      "classification_report\n",
      "               precision    recall  f1-score   support\n",
      "\n",
      "         0.0       0.97      1.00      0.98      1095\n",
      "         1.0       0.25      0.12      0.17        16\n",
      "         2.0       0.00      0.00      0.00        10\n",
      "         3.0       0.00      0.00      0.00         8\n",
      "\n",
      "    accuracy                           0.97      1129\n",
      "   macro avg       0.31      0.28      0.29      1129\n",
      "weighted avg       0.95      0.97      0.96      1129\n",
      "\n",
      "\n",
      "\n",
      "[[1090    4    1    0]\n",
      " [  14    2    0    0]\n",
      " [  10    0    0    0]\n",
      " [   6    2    0    0]]\n",
      "\n",
      "\n",
      "AxesSubplot(0.125,0.808774;0.62x0.0712264)\n",
      "\n",
      "\n",
      "\n",
      "************************* SVC *************************\n",
      "\n",
      "SVC(C=1.0, break_ties=False, cache_size=200, class_weight=None, coef0=0.0,\n",
      "    decision_function_shape='ovr', degree=3, gamma='scale', kernel='poly',\n",
      "    max_iter=-1, probability=False, random_state=None, shrinking=True,\n",
      "    tol=0.001, verbose=False)\n",
      "\n",
      "\n",
      "\n",
      "Accuracy score = 0.9672276350752879\n",
      "\n",
      "\n",
      "cross validation score = 0.9705884014309923\n",
      "\n",
      "\n",
      "classification_report\n",
      "               precision    recall  f1-score   support\n",
      "\n",
      "         0.0       0.97      1.00      0.98      1095\n",
      "         1.0       0.17      0.06      0.09        16\n",
      "         2.0       0.00      0.00      0.00        10\n",
      "         3.0       0.50      0.12      0.20         8\n",
      "\n",
      "    accuracy                           0.97      1129\n",
      "   macro avg       0.41      0.30      0.32      1129\n",
      "weighted avg       0.95      0.97      0.96      1129\n",
      "\n",
      "\n",
      "\n",
      "[[1090    4    0    1]\n",
      " [  15    1    0    0]\n",
      " [  10    0    0    0]\n",
      " [   6    1    0    1]]\n",
      "\n",
      "\n",
      "AxesSubplot(0.125,0.808774;0.62x0.0712264)\n",
      "\n",
      "\n",
      "\n",
      "************************* DecisionTreeClassifier *************************\n",
      "\n",
      "DecisionTreeClassifier(ccp_alpha=0.0, class_weight=None, criterion='gini',\n",
      "                       max_depth=None, max_features=None, max_leaf_nodes=None,\n",
      "                       min_impurity_decrease=0.0, min_impurity_split=None,\n",
      "                       min_samples_leaf=1, min_samples_split=2,\n",
      "                       min_weight_fraction_leaf=0.0, presort='deprecated',\n",
      "                       random_state=None, splitter='best')\n",
      "\n",
      "\n",
      "\n",
      "Accuracy score = 0.953941541186891\n",
      "\n",
      "\n",
      "cross validation score = 0.9585401368229463\n",
      "\n",
      "\n",
      "classification_report\n",
      "               precision    recall  f1-score   support\n",
      "\n",
      "         0.0       0.98      0.98      0.98      1095\n",
      "         1.0       0.07      0.06      0.07        16\n",
      "         2.0       0.00      0.00      0.00        10\n",
      "         3.0       0.17      0.12      0.14         8\n",
      "\n",
      "    accuracy                           0.95      1129\n",
      "   macro avg       0.30      0.29      0.30      1129\n",
      "weighted avg       0.95      0.95      0.95      1129\n",
      "\n",
      "\n",
      "\n",
      "[[1075    9    9    2]\n",
      " [  10    1    4    1]\n",
      " [   6    2    0    2]\n",
      " [   5    2    0    1]]\n",
      "\n",
      "\n",
      "AxesSubplot(0.125,0.808774;0.62x0.0712264)\n",
      "\n",
      "\n",
      "\n",
      "************************* MultinomialNB *************************\n",
      "\n",
      "MultinomialNB(alpha=1.0, class_prior=None, fit_prior=True)\n",
      "\n",
      "\n",
      "\n",
      "Accuracy score = 0.9698848538529672\n",
      "\n",
      "\n",
      "cross validation score = 0.9698794953869327\n",
      "\n",
      "\n",
      "classification_report\n",
      "               precision    recall  f1-score   support\n",
      "\n",
      "         0.0       0.97      1.00      0.98      1095\n",
      "         1.0       0.00      0.00      0.00        16\n",
      "         2.0       0.00      0.00      0.00        10\n",
      "         3.0       0.00      0.00      0.00         8\n",
      "\n",
      "    accuracy                           0.97      1129\n",
      "   macro avg       0.24      0.25      0.25      1129\n",
      "weighted avg       0.94      0.97      0.96      1129\n",
      "\n",
      "\n",
      "\n",
      "[[1095    0    0    0]\n",
      " [  16    0    0    0]\n",
      " [  10    0    0    0]\n",
      " [   8    0    0    0]]\n",
      "\n",
      "\n",
      "AxesSubplot(0.125,0.808774;0.62x0.0712264)\n",
      "\n",
      "\n",
      "\n"
     ]
    },
    {
     "data": {
      "image/png": "[encoded data removed]",
      "text/plain": [
       "<Figure size 720x2880 with 2 Axes>"
      ]
     },
     "metadata": {
      "needs_background": "light"
     },
     "output_type": "display_data"
    },
    {
     "data": {
      "image/png": "[encoded data removed]",
      "text/plain": [
       "<Figure size 720x2880 with 2 Axes>"
      ]
     },
     "metadata": {
      "needs_background": "light"
     },
     "output_type": "display_data"
    },
    {
     "data": {
      "image/png": "[encoded data removed]",
      "text/plain": [
       "<Figure size 720x2880 with 2 Axes>"
      ]
     },
     "metadata": {
      "needs_background": "light"
     },
     "output_type": "display_data"
    },
    {
     "data": {
      "image/png": "[encoded data removed]",
      "text/plain": [
       "<Figure size 720x2880 with 2 Axes>"
      ]
     },
     "metadata": {
      "needs_background": "light"
     },
     "output_type": "display_data"
    }
   ],
   "source": [
    "model_list=[]\n",
    "score=[]\n",
    "cvs=[]\n",
    "\n",
    "\n",
    "for name, model in models:\n",
    "    print('*************************',name,'*************************',end='\\n\\n')\n",
    "   \n",
    "    model_list.append(name)\n",
    "    model.fit(x_train,y_train)\n",
    "    print(model,end='\\n\\n')\n",
    "    pre=model.predict(x_test)\n",
    "    print('\\n')\n",
    "    AS=accuracy_score(y_test,pre)\n",
    "    print('Accuracy score =',AS)\n",
    "    score.append(AS*100)\n",
    "    print('\\n')\n",
    "    sc=cross_val_score(model,x,y, cv=10, scoring='accuracy').mean()\n",
    "    print('cross validation score =',sc)\n",
    "    cvs.append(sc*100)\n",
    "    print('\\n')\n",
    "    \n",
    "    print('classification_report\\n',classification_report(y_test,pre))\n",
    "    print('\\n')\n",
    "    cm=confusion_matrix(y_test,pre)\n",
    "    print(cm)\n",
    "    print('\\n')\n",
    "    plt.figure(figsize=(10,40))\n",
    "    plt.subplot(911)\n",
    "    plt.title(name)\n",
    "    print(sns.heatmap(cm,annot=True))\n",
    "  \n",
    "    print('\\n\\n')"
   ]
  },
  {
   "cell_type": "code",
   "execution_count": 357,
   "metadata": {},
   "outputs": [
    {
     "data": {
      "text/html": [
       "<div>\n",
       "<style scoped>\n",
       "    .dataframe tbody tr th:only-of-type {\n",
       "        vertical-align: middle;\n",
       "    }\n",
       "\n",
       "    .dataframe tbody tr th {\n",
       "        vertical-align: top;\n",
       "    }\n",
       "\n",
       "    .dataframe thead th {\n",
       "        text-align: right;\n",
       "    }\n",
       "</style>\n",
       "<table border=\"1\" class=\"dataframe\">\n",
       "  <thead>\n",
       "    <tr style=\"text-align: right;\">\n",
       "      <th></th>\n",
       "      <th>Model</th>\n",
       "      <th>Accuracy_score</th>\n",
       "      <th>Cross_val_score</th>\n",
       "    </tr>\n",
       "  </thead>\n",
       "  <tbody>\n",
       "    <tr>\n",
       "      <th>0</th>\n",
       "      <td>KneighborsClassifier</td>\n",
       "      <td>96.722764</td>\n",
       "      <td>96.846231</td>\n",
       "    </tr>\n",
       "    <tr>\n",
       "      <th>1</th>\n",
       "      <td>SVC</td>\n",
       "      <td>96.722764</td>\n",
       "      <td>97.058840</td>\n",
       "    </tr>\n",
       "    <tr>\n",
       "      <th>2</th>\n",
       "      <td>DecisionTreeClassifier</td>\n",
       "      <td>95.394154</td>\n",
       "      <td>95.854014</td>\n",
       "    </tr>\n",
       "    <tr>\n",
       "      <th>3</th>\n",
       "      <td>MultinomialNB</td>\n",
       "      <td>96.988485</td>\n",
       "      <td>96.987950</td>\n",
       "    </tr>\n",
       "  </tbody>\n",
       "</table>\n",
       "</div>"
      ],
      "text/plain": [
       "                    Model  Accuracy_score  Cross_val_score\n",
       "0    KneighborsClassifier       96.722764        96.846231\n",
       "1                     SVC       96.722764        97.058840\n",
       "2  DecisionTreeClassifier       95.394154        95.854014\n",
       "3           MultinomialNB       96.988485        96.987950"
      ]
     },
     "execution_count": 357,
     "metadata": {},
     "output_type": "execute_result"
    }
   ],
   "source": [
    "# Show the results of the models above in a table\n",
    "result=pd.DataFrame({'Model': model_list, 'Accuracy_score': score, 'Cross_val_score':cvs})\n",
    "result"
   ]
  },
  {
   "cell_type": "code",
   "execution_count": 358,
   "metadata": {},
   "outputs": [
    {
     "name": "stdout",
     "output_type": "stream",
     "text": [
      "0.9636846767050488\n",
      "[[1086    5    3    1]\n",
      " [  13    1    2    0]\n",
      " [   9    1    0    0]\n",
      " [   6    1    0    1]]\n",
      "              precision    recall  f1-score   support\n",
      "\n",
      "         0.0       0.97      0.99      0.98      1095\n",
      "         1.0       0.12      0.06      0.08        16\n",
      "         2.0       0.00      0.00      0.00        10\n",
      "         3.0       0.50      0.12      0.20         8\n",
      "\n",
      "    accuracy                           0.96      1129\n",
      "   macro avg       0.40      0.29      0.32      1129\n",
      "weighted avg       0.95      0.96      0.96      1129\n",
      "\n"
     ]
    }
   ],
   "source": [
    "from sklearn.ensemble import RandomForestClassifier\n",
    "\n",
    "rf= RandomForestClassifier(n_estimators=100,random_state=42)#100 is defualt\n",
    "rf.fit(x_train,y_train)\n",
    "predrf=rf.predict(x_test)\n",
    "print(accuracy_score(y_test,predrf))\n",
    "print(confusion_matrix(y_test,predrf))\n",
    "print(classification_report(y_test,predrf))"
   ]
  },
  {
   "cell_type": "code",
   "execution_count": 359,
   "metadata": {},
   "outputs": [
    {
     "name": "stdout",
     "output_type": "stream",
     "text": [
      "0.9592559787422498\n",
      "[[1080    7    7    1]\n",
      " [  12    2    2    0]\n",
      " [  10    0    0    0]\n",
      " [   5    2    0    1]]\n",
      "              precision    recall  f1-score   support\n",
      "\n",
      "         0.0       0.98      0.99      0.98      1095\n",
      "         1.0       0.18      0.12      0.15        16\n",
      "         2.0       0.00      0.00      0.00        10\n",
      "         3.0       0.50      0.12      0.20         8\n",
      "\n",
      "    accuracy                           0.96      1129\n",
      "   macro avg       0.41      0.31      0.33      1129\n",
      "weighted avg       0.95      0.96      0.95      1129\n",
      "\n"
     ]
    }
   ],
   "source": [
    "from sklearn.ensemble import AdaBoostClassifier\n",
    "# AdaBoostClassifier(base_estimator=DecisionTreeClassifier()\n",
    "#,n_estimators=50,Learning_rate=1.0)\n",
    "ad= AdaBoostClassifier()\n",
    "ad.fit(x_train,y_train)\n",
    "predad=ad.predict(x_test)\n",
    "print(accuracy_score(y_test,predad))\n",
    "print(confusion_matrix(y_test,predad))\n",
    "print(classification_report(y_test,predad))"
   ]
  },
  {
   "cell_type": "code",
   "execution_count": 361,
   "metadata": {},
   "outputs": [
    {
     "data": {
      "text/plain": [
       "{'learning_rate': 0.001, 'n_estimators': 500}"
      ]
     },
     "execution_count": 361,
     "metadata": {},
     "output_type": "execute_result"
    }
   ],
   "source": [
    "# Use Gradient Boosting technique with GridSearchCV\n",
    "from sklearn.ensemble import GradientBoostingClassifier\n",
    "\n",
    "gbr=GradientBoostingClassifier()\n",
    "parameters={'learning_rate':[0.001,0.01,0.1,1],'n_estimators':[10,100,500,1000]}\n",
    "clf=GridSearchCV(gbr,parameters, cv=5)\n",
    "clf.fit(x,y)\n",
    "clf.best_params_"
   ]
  },
  {
   "cell_type": "code",
   "execution_count": 362,
   "metadata": {},
   "outputs": [
    {
     "name": "stdout",
     "output_type": "stream",
     "text": [
      "0.9698848538529672\n",
      "[[1095    0    0    0]\n",
      " [  16    0    0    0]\n",
      " [  10    0    0    0]\n",
      " [   8    0    0    0]]\n",
      "              precision    recall  f1-score   support\n",
      "\n",
      "         0.0       0.97      1.00      0.98      1095\n",
      "         1.0       0.00      0.00      0.00        16\n",
      "         2.0       0.00      0.00      0.00        10\n",
      "         3.0       0.00      0.00      0.00         8\n",
      "\n",
      "    accuracy                           0.97      1129\n",
      "   macro avg       0.24      0.25      0.25      1129\n",
      "weighted avg       0.94      0.97      0.96      1129\n",
      "\n"
     ]
    }
   ],
   "source": [
    "gbr=GradientBoostingClassifier(learning_rate= 0.001, n_estimators= 500,random_state=42)\n",
    "gbr.fit(x_train,y_train)\n",
    "predgbr=gbr.predict(x_test)\n",
    "print(accuracy_score(y_test,predgbr))\n",
    "print(confusion_matrix(y_test,predgbr))\n",
    "print(classification_report(y_test,predgbr))"
   ]
  },
  {
   "cell_type": "markdown",
   "metadata": {},
   "source": [
    "I choose the RandomForestClassifiermodel but many of the models have the same results\n",
    "\n",
    "accuracy score = 97\n",
    "\n",
    "precision =97\n",
    "\n",
    "recall = 100"
   ]
  },
  {
   "cell_type": "markdown",
   "metadata": {},
   "source": [
    "# Save the model"
   ]
  },
  {
   "cell_type": "code",
   "execution_count": 363,
   "metadata": {},
   "outputs": [
    {
     "data": {
      "text/plain": [
       "['Ward.pkl']"
      ]
     },
     "execution_count": 363,
     "metadata": {},
     "output_type": "execute_result"
    }
   ],
   "source": [
    "#save model as a pickle file\n",
    "from sklearn.externals import joblib\n",
    "joblib.dump(gbr,'Ward.pkl')"
   ]
  },
  {
   "cell_type": "code",
   "execution_count": 366,
   "metadata": {},
   "outputs": [
    {
     "data": {
      "text/plain": [
       "array([0., 0., 0., ..., 0., 0., 0.])"
      ]
     },
     "execution_count": 366,
     "metadata": {},
     "output_type": "execute_result"
    }
   ],
   "source": [
    "# Load and use model to make a prediction\n",
    "model=joblib.load('Ward.pkl')\n",
    "model.predict(x_test)"
   ]
  },
  {
   "cell_type": "markdown",
   "metadata": {},
   "source": [
    "Since the vast majority of results would be 0 it is hard to tell, but the model might still be inaccurate."
   ]
  },
  {
   "cell_type": "markdown",
   "metadata": {},
   "source": [
    "# Split data into x and y for Covid test"
   ]
  },
  {
   "cell_type": "code",
   "execution_count": 367,
   "metadata": {},
   "outputs": [],
   "source": [
    "# Lineup target and input values\n",
    "nds_x=nds.drop(columns=['SARS-Cov-2 exam result'])\n",
    "y=nds[['SARS-Cov-2 exam result']]"
   ]
  },
  {
   "cell_type": "markdown",
   "metadata": {},
   "source": [
    "# Train-Test split"
   ]
  },
  {
   "cell_type": "code",
   "execution_count": 368,
   "metadata": {},
   "outputs": [],
   "source": [
    "# Train test split\n",
    "from sklearn.model_selection import train_test_split\n",
    "x_train,x_test, y_train, y_test = train_test_split(nds_x,y, random_state=55, test_size=0.20, stratify=nds['SARS-Cov-2 exam result'])"
   ]
  },
  {
   "cell_type": "markdown",
   "metadata": {},
   "source": [
    "# Models"
   ]
  },
  {
   "cell_type": "code",
   "execution_count": 369,
   "metadata": {},
   "outputs": [
    {
     "name": "stdout",
     "output_type": "stream",
     "text": [
      "0.9078830823737821\n",
      "[[1014    3]\n",
      " [ 101   11]]\n",
      "              precision    recall  f1-score   support\n",
      "\n",
      "           0       0.91      1.00      0.95      1017\n",
      "           1       0.79      0.10      0.17       112\n",
      "\n",
      "    accuracy                           0.91      1129\n",
      "   macro avg       0.85      0.55      0.56      1129\n",
      "weighted avg       0.90      0.91      0.87      1129\n",
      "\n"
     ]
    }
   ],
   "source": [
    "from sklearn.ensemble import RandomForestClassifier\n",
    "\n",
    "rf= RandomForestClassifier(n_estimators=100,random_state=42)#100 is defualt\n",
    "rf.fit(x_train,y_train)\n",
    "predrf=rf.predict(x_test)\n",
    "print(accuracy_score(y_test,predrf))\n",
    "print(confusion_matrix(y_test,predrf))\n",
    "print(classification_report(y_test,predrf))"
   ]
  },
  {
   "cell_type": "code",
   "execution_count": null,
   "metadata": {},
   "outputs": [],
   "source": []
  },
  {
   "cell_type": "code",
   "execution_count": 370,
   "metadata": {},
   "outputs": [
    {
     "name": "stdout",
     "output_type": "stream",
     "text": [
      "0.9016829052258636\n",
      "[[1010    7]\n",
      " [ 104    8]]\n",
      "              precision    recall  f1-score   support\n",
      "\n",
      "           0       0.91      0.99      0.95      1017\n",
      "           1       0.53      0.07      0.13       112\n",
      "\n",
      "    accuracy                           0.90      1129\n",
      "   macro avg       0.72      0.53      0.54      1129\n",
      "weighted avg       0.87      0.90      0.87      1129\n",
      "\n"
     ]
    }
   ],
   "source": [
    "from sklearn.ensemble import AdaBoostClassifier\n",
    "# AdaBoostClassifier(base_estimator=DecisionTreeClassifier()\n",
    "#,n_estimators=50,Learning_rate=1.0)\n",
    "ad= AdaBoostClassifier()\n",
    "ad.fit(x_train,y_train)\n",
    "predad=ad.predict(x_test)\n",
    "print(accuracy_score(y_test,predad))\n",
    "print(confusion_matrix(y_test,predad))\n",
    "print(classification_report(y_test,predad))"
   ]
  },
  {
   "cell_type": "code",
   "execution_count": 371,
   "metadata": {},
   "outputs": [
    {
     "data": {
      "text/plain": [
       "{'learning_rate': 0.001, 'n_estimators': 1000}"
      ]
     },
     "execution_count": 371,
     "metadata": {},
     "output_type": "execute_result"
    }
   ],
   "source": [
    "# Use Gradient Boosting technique with GridSearchCV\n",
    "from sklearn.ensemble import GradientBoostingClassifier\n",
    "\n",
    "gbr=GradientBoostingClassifier()\n",
    "parameters={'learning_rate':[0.001,0.01,0.1,1],'n_estimators':[10,100,500,1000]}\n",
    "clf=GridSearchCV(gbr,parameters, cv=5)\n",
    "clf.fit(x,y)\n",
    "clf.best_params_"
   ]
  },
  {
   "cell_type": "code",
   "execution_count": 372,
   "metadata": {},
   "outputs": [
    {
     "name": "stdout",
     "output_type": "stream",
     "text": [
      "0.9034543844109831\n",
      "[[1017    0]\n",
      " [ 109    3]]\n",
      "              precision    recall  f1-score   support\n",
      "\n",
      "           0       0.90      1.00      0.95      1017\n",
      "           1       1.00      0.03      0.05       112\n",
      "\n",
      "    accuracy                           0.90      1129\n",
      "   macro avg       0.95      0.51      0.50      1129\n",
      "weighted avg       0.91      0.90      0.86      1129\n",
      "\n"
     ]
    }
   ],
   "source": [
    "gbr=GradientBoostingClassifier(learning_rate= 0.001, n_estimators= 1000,random_state=42)\n",
    "gbr.fit(x_train,y_train)\n",
    "predgbr=gbr.predict(x_test)\n",
    "print(accuracy_score(y_test,predgbr))\n",
    "print(confusion_matrix(y_test,predgbr))\n",
    "print(classification_report(y_test,predgbr))"
   ]
  },
  {
   "cell_type": "markdown",
   "metadata": {},
   "source": [
    "I choose the RandomForestClassifiermodel but many of the models have the same results\n",
    "\n",
    "accuracy score = 90.3\n",
    "\n",
    "precision =90\n",
    "\n",
    "recall = 100"
   ]
  },
  {
   "cell_type": "markdown",
   "metadata": {},
   "source": [
    "# Save Model"
   ]
  },
  {
   "cell_type": "code",
   "execution_count": 373,
   "metadata": {},
   "outputs": [
    {
     "data": {
      "text/plain": [
       "['Pos_Neg.pkl']"
      ]
     },
     "execution_count": 373,
     "metadata": {},
     "output_type": "execute_result"
    }
   ],
   "source": [
    "#save model as a pickle file\n",
    "from sklearn.externals import joblib\n",
    "joblib.dump(gbr,'Pos_Neg.pkl')"
   ]
  },
  {
   "cell_type": "code",
   "execution_count": 374,
   "metadata": {},
   "outputs": [
    {
     "data": {
      "text/plain": [
       "array([0, 0, 0, ..., 0, 0, 0])"
      ]
     },
     "execution_count": 374,
     "metadata": {},
     "output_type": "execute_result"
    }
   ],
   "source": [
    "# Load and use model to make a prediction\n",
    "model=joblib.load('Pos_Neg.pkl')\n",
    "model.predict(x_test)"
   ]
  },
  {
   "cell_type": "markdown",
   "metadata": {},
   "source": [
    "Unfortunately I suspect that there is a great chance that all predictions will be 0. Need more positive test results to do a better analysis."
   ]
  }
 ],
 "metadata": {
  "kernelspec": {
   "display_name": "Python 3",
   "language": "python",
   "name": "python3"
  },
  "language_info": {
   "codemirror_mode": {
    "name": "ipython",
    "version": 3
   },
   "file_extension": ".py",
   "mimetype": "text/x-python",
   "name": "python",
   "nbconvert_exporter": "python",
   "pygments_lexer": "ipython3",
   "version": "3.7.6"
  }
 },
 "nbformat": 4,
 "nbformat_minor": 4
}
