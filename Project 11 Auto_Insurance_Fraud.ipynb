{
 "cells": [
  {
   "cell_type": "markdown",
   "metadata": {},
   "source": [
    "# Predict occurences of fraud"
   ]
  },
  {
   "cell_type": "markdown",
   "metadata": {},
   "source": [
    "# Load and take a look at the data"
   ]
  },
  {
   "cell_type": "code",
   "execution_count": 100,
   "metadata": {},
   "outputs": [],
   "source": [
    "# Load relevant libraries\n",
    "import pandas as pd\n",
    "import numpy as np\n",
    "import matplotlib.pyplot as plt\n",
    "import seaborn as sns\n",
    "import scipy\n",
    "from scipy import stats\n",
    "import warnings\n",
    "warnings.filterwarnings('ignore')"
   ]
  },
  {
   "cell_type": "code",
   "execution_count": 101,
   "metadata": {},
   "outputs": [],
   "source": [
    "# Load data\n",
    "ds=pd.read_csv('Automobile_insurance_fraud.csv')"
   ]
  },
  {
   "cell_type": "code",
   "execution_count": 102,
   "metadata": {},
   "outputs": [
    {
     "data": {
      "text/html": [
       "<div>\n",
       "<style scoped>\n",
       "    .dataframe tbody tr th:only-of-type {\n",
       "        vertical-align: middle;\n",
       "    }\n",
       "\n",
       "    .dataframe tbody tr th {\n",
       "        vertical-align: top;\n",
       "    }\n",
       "\n",
       "    .dataframe thead th {\n",
       "        text-align: right;\n",
       "    }\n",
       "</style>\n",
       "<table border=\"1\" class=\"dataframe\">\n",
       "  <thead>\n",
       "    <tr style=\"text-align: right;\">\n",
       "      <th></th>\n",
       "      <th>months_as_customer</th>\n",
       "      <th>age</th>\n",
       "      <th>policy_number</th>\n",
       "      <th>policy_bind_date</th>\n",
       "      <th>policy_state</th>\n",
       "      <th>policy_csl</th>\n",
       "      <th>policy_deductable</th>\n",
       "      <th>policy_annual_premium</th>\n",
       "      <th>umbrella_limit</th>\n",
       "      <th>insured_zip</th>\n",
       "      <th>...</th>\n",
       "      <th>police_report_available</th>\n",
       "      <th>total_claim_amount</th>\n",
       "      <th>injury_claim</th>\n",
       "      <th>property_claim</th>\n",
       "      <th>vehicle_claim</th>\n",
       "      <th>auto_make</th>\n",
       "      <th>auto_model</th>\n",
       "      <th>auto_year</th>\n",
       "      <th>fraud_reported</th>\n",
       "      <th>_c39</th>\n",
       "    </tr>\n",
       "  </thead>\n",
       "  <tbody>\n",
       "    <tr>\n",
       "      <th>0</th>\n",
       "      <td>328</td>\n",
       "      <td>48</td>\n",
       "      <td>521585</td>\n",
       "      <td>17-10-2014</td>\n",
       "      <td>OH</td>\n",
       "      <td>250/500</td>\n",
       "      <td>1000</td>\n",
       "      <td>1406.91</td>\n",
       "      <td>0</td>\n",
       "      <td>466132</td>\n",
       "      <td>...</td>\n",
       "      <td>YES</td>\n",
       "      <td>71610</td>\n",
       "      <td>6510</td>\n",
       "      <td>13020</td>\n",
       "      <td>52080</td>\n",
       "      <td>Saab</td>\n",
       "      <td>92x</td>\n",
       "      <td>2004</td>\n",
       "      <td>Y</td>\n",
       "      <td>NaN</td>\n",
       "    </tr>\n",
       "    <tr>\n",
       "      <th>1</th>\n",
       "      <td>228</td>\n",
       "      <td>42</td>\n",
       "      <td>342868</td>\n",
       "      <td>27-06-2006</td>\n",
       "      <td>IN</td>\n",
       "      <td>250/500</td>\n",
       "      <td>2000</td>\n",
       "      <td>1197.22</td>\n",
       "      <td>5000000</td>\n",
       "      <td>468176</td>\n",
       "      <td>...</td>\n",
       "      <td>?</td>\n",
       "      <td>5070</td>\n",
       "      <td>780</td>\n",
       "      <td>780</td>\n",
       "      <td>3510</td>\n",
       "      <td>Mercedes</td>\n",
       "      <td>E400</td>\n",
       "      <td>2007</td>\n",
       "      <td>Y</td>\n",
       "      <td>NaN</td>\n",
       "    </tr>\n",
       "    <tr>\n",
       "      <th>2</th>\n",
       "      <td>134</td>\n",
       "      <td>29</td>\n",
       "      <td>687698</td>\n",
       "      <td>06-09-2000</td>\n",
       "      <td>OH</td>\n",
       "      <td>100/300</td>\n",
       "      <td>2000</td>\n",
       "      <td>1413.14</td>\n",
       "      <td>5000000</td>\n",
       "      <td>430632</td>\n",
       "      <td>...</td>\n",
       "      <td>NO</td>\n",
       "      <td>34650</td>\n",
       "      <td>7700</td>\n",
       "      <td>3850</td>\n",
       "      <td>23100</td>\n",
       "      <td>Dodge</td>\n",
       "      <td>RAM</td>\n",
       "      <td>2007</td>\n",
       "      <td>N</td>\n",
       "      <td>NaN</td>\n",
       "    </tr>\n",
       "    <tr>\n",
       "      <th>3</th>\n",
       "      <td>256</td>\n",
       "      <td>41</td>\n",
       "      <td>227811</td>\n",
       "      <td>25-05-1990</td>\n",
       "      <td>IL</td>\n",
       "      <td>250/500</td>\n",
       "      <td>2000</td>\n",
       "      <td>1415.74</td>\n",
       "      <td>6000000</td>\n",
       "      <td>608117</td>\n",
       "      <td>...</td>\n",
       "      <td>NO</td>\n",
       "      <td>63400</td>\n",
       "      <td>6340</td>\n",
       "      <td>6340</td>\n",
       "      <td>50720</td>\n",
       "      <td>Chevrolet</td>\n",
       "      <td>Tahoe</td>\n",
       "      <td>2014</td>\n",
       "      <td>Y</td>\n",
       "      <td>NaN</td>\n",
       "    </tr>\n",
       "    <tr>\n",
       "      <th>4</th>\n",
       "      <td>228</td>\n",
       "      <td>44</td>\n",
       "      <td>367455</td>\n",
       "      <td>06-06-2014</td>\n",
       "      <td>IL</td>\n",
       "      <td>500/1000</td>\n",
       "      <td>1000</td>\n",
       "      <td>1583.91</td>\n",
       "      <td>6000000</td>\n",
       "      <td>610706</td>\n",
       "      <td>...</td>\n",
       "      <td>NO</td>\n",
       "      <td>6500</td>\n",
       "      <td>1300</td>\n",
       "      <td>650</td>\n",
       "      <td>4550</td>\n",
       "      <td>Accura</td>\n",
       "      <td>RSX</td>\n",
       "      <td>2009</td>\n",
       "      <td>N</td>\n",
       "      <td>NaN</td>\n",
       "    </tr>\n",
       "    <tr>\n",
       "      <th>5</th>\n",
       "      <td>256</td>\n",
       "      <td>39</td>\n",
       "      <td>104594</td>\n",
       "      <td>12-10-2006</td>\n",
       "      <td>OH</td>\n",
       "      <td>250/500</td>\n",
       "      <td>1000</td>\n",
       "      <td>1351.10</td>\n",
       "      <td>0</td>\n",
       "      <td>478456</td>\n",
       "      <td>...</td>\n",
       "      <td>NO</td>\n",
       "      <td>64100</td>\n",
       "      <td>6410</td>\n",
       "      <td>6410</td>\n",
       "      <td>51280</td>\n",
       "      <td>Saab</td>\n",
       "      <td>95</td>\n",
       "      <td>2003</td>\n",
       "      <td>Y</td>\n",
       "      <td>NaN</td>\n",
       "    </tr>\n",
       "    <tr>\n",
       "      <th>6</th>\n",
       "      <td>137</td>\n",
       "      <td>34</td>\n",
       "      <td>413978</td>\n",
       "      <td>04-06-2000</td>\n",
       "      <td>IN</td>\n",
       "      <td>250/500</td>\n",
       "      <td>1000</td>\n",
       "      <td>1333.35</td>\n",
       "      <td>0</td>\n",
       "      <td>441716</td>\n",
       "      <td>...</td>\n",
       "      <td>?</td>\n",
       "      <td>78650</td>\n",
       "      <td>21450</td>\n",
       "      <td>7150</td>\n",
       "      <td>50050</td>\n",
       "      <td>Nissan</td>\n",
       "      <td>Pathfinder</td>\n",
       "      <td>2012</td>\n",
       "      <td>N</td>\n",
       "      <td>NaN</td>\n",
       "    </tr>\n",
       "    <tr>\n",
       "      <th>7</th>\n",
       "      <td>165</td>\n",
       "      <td>37</td>\n",
       "      <td>429027</td>\n",
       "      <td>03-02-1990</td>\n",
       "      <td>IL</td>\n",
       "      <td>100/300</td>\n",
       "      <td>1000</td>\n",
       "      <td>1137.03</td>\n",
       "      <td>0</td>\n",
       "      <td>603195</td>\n",
       "      <td>...</td>\n",
       "      <td>YES</td>\n",
       "      <td>51590</td>\n",
       "      <td>9380</td>\n",
       "      <td>9380</td>\n",
       "      <td>32830</td>\n",
       "      <td>Audi</td>\n",
       "      <td>A5</td>\n",
       "      <td>2015</td>\n",
       "      <td>N</td>\n",
       "      <td>NaN</td>\n",
       "    </tr>\n",
       "    <tr>\n",
       "      <th>8</th>\n",
       "      <td>27</td>\n",
       "      <td>33</td>\n",
       "      <td>485665</td>\n",
       "      <td>05-02-1997</td>\n",
       "      <td>IL</td>\n",
       "      <td>100/300</td>\n",
       "      <td>500</td>\n",
       "      <td>1442.99</td>\n",
       "      <td>0</td>\n",
       "      <td>601734</td>\n",
       "      <td>...</td>\n",
       "      <td>YES</td>\n",
       "      <td>27700</td>\n",
       "      <td>2770</td>\n",
       "      <td>2770</td>\n",
       "      <td>22160</td>\n",
       "      <td>Toyota</td>\n",
       "      <td>Camry</td>\n",
       "      <td>2012</td>\n",
       "      <td>N</td>\n",
       "      <td>NaN</td>\n",
       "    </tr>\n",
       "    <tr>\n",
       "      <th>9</th>\n",
       "      <td>212</td>\n",
       "      <td>42</td>\n",
       "      <td>636550</td>\n",
       "      <td>25-07-2011</td>\n",
       "      <td>IL</td>\n",
       "      <td>100/300</td>\n",
       "      <td>500</td>\n",
       "      <td>1315.68</td>\n",
       "      <td>0</td>\n",
       "      <td>600983</td>\n",
       "      <td>...</td>\n",
       "      <td>?</td>\n",
       "      <td>42300</td>\n",
       "      <td>4700</td>\n",
       "      <td>4700</td>\n",
       "      <td>32900</td>\n",
       "      <td>Saab</td>\n",
       "      <td>92x</td>\n",
       "      <td>1996</td>\n",
       "      <td>N</td>\n",
       "      <td>NaN</td>\n",
       "    </tr>\n",
       "    <tr>\n",
       "      <th>10</th>\n",
       "      <td>235</td>\n",
       "      <td>42</td>\n",
       "      <td>543610</td>\n",
       "      <td>26-05-2002</td>\n",
       "      <td>OH</td>\n",
       "      <td>100/300</td>\n",
       "      <td>500</td>\n",
       "      <td>1253.12</td>\n",
       "      <td>4000000</td>\n",
       "      <td>462283</td>\n",
       "      <td>...</td>\n",
       "      <td>?</td>\n",
       "      <td>87010</td>\n",
       "      <td>7910</td>\n",
       "      <td>15820</td>\n",
       "      <td>63280</td>\n",
       "      <td>Ford</td>\n",
       "      <td>F150</td>\n",
       "      <td>2002</td>\n",
       "      <td>N</td>\n",
       "      <td>NaN</td>\n",
       "    </tr>\n",
       "    <tr>\n",
       "      <th>11</th>\n",
       "      <td>447</td>\n",
       "      <td>61</td>\n",
       "      <td>214618</td>\n",
       "      <td>29-05-1999</td>\n",
       "      <td>OH</td>\n",
       "      <td>100/300</td>\n",
       "      <td>2000</td>\n",
       "      <td>1137.16</td>\n",
       "      <td>0</td>\n",
       "      <td>615561</td>\n",
       "      <td>...</td>\n",
       "      <td>YES</td>\n",
       "      <td>114920</td>\n",
       "      <td>17680</td>\n",
       "      <td>17680</td>\n",
       "      <td>79560</td>\n",
       "      <td>Audi</td>\n",
       "      <td>A3</td>\n",
       "      <td>2006</td>\n",
       "      <td>N</td>\n",
       "      <td>NaN</td>\n",
       "    </tr>\n",
       "    <tr>\n",
       "      <th>12</th>\n",
       "      <td>60</td>\n",
       "      <td>23</td>\n",
       "      <td>842643</td>\n",
       "      <td>20-11-1997</td>\n",
       "      <td>OH</td>\n",
       "      <td>500/1000</td>\n",
       "      <td>500</td>\n",
       "      <td>1215.36</td>\n",
       "      <td>3000000</td>\n",
       "      <td>432220</td>\n",
       "      <td>...</td>\n",
       "      <td>NO</td>\n",
       "      <td>56520</td>\n",
       "      <td>4710</td>\n",
       "      <td>9420</td>\n",
       "      <td>42390</td>\n",
       "      <td>Saab</td>\n",
       "      <td>95</td>\n",
       "      <td>2000</td>\n",
       "      <td>N</td>\n",
       "      <td>NaN</td>\n",
       "    </tr>\n",
       "    <tr>\n",
       "      <th>13</th>\n",
       "      <td>121</td>\n",
       "      <td>34</td>\n",
       "      <td>626808</td>\n",
       "      <td>26-10-2012</td>\n",
       "      <td>OH</td>\n",
       "      <td>100/300</td>\n",
       "      <td>1000</td>\n",
       "      <td>936.61</td>\n",
       "      <td>0</td>\n",
       "      <td>464652</td>\n",
       "      <td>...</td>\n",
       "      <td>NO</td>\n",
       "      <td>7280</td>\n",
       "      <td>1120</td>\n",
       "      <td>1120</td>\n",
       "      <td>5040</td>\n",
       "      <td>Toyota</td>\n",
       "      <td>Highlander</td>\n",
       "      <td>2010</td>\n",
       "      <td>N</td>\n",
       "      <td>NaN</td>\n",
       "    </tr>\n",
       "    <tr>\n",
       "      <th>14</th>\n",
       "      <td>180</td>\n",
       "      <td>38</td>\n",
       "      <td>644081</td>\n",
       "      <td>28-12-1998</td>\n",
       "      <td>OH</td>\n",
       "      <td>250/500</td>\n",
       "      <td>2000</td>\n",
       "      <td>1301.13</td>\n",
       "      <td>0</td>\n",
       "      <td>476685</td>\n",
       "      <td>...</td>\n",
       "      <td>YES</td>\n",
       "      <td>46200</td>\n",
       "      <td>4200</td>\n",
       "      <td>8400</td>\n",
       "      <td>33600</td>\n",
       "      <td>Dodge</td>\n",
       "      <td>Neon</td>\n",
       "      <td>2003</td>\n",
       "      <td>Y</td>\n",
       "      <td>NaN</td>\n",
       "    </tr>\n",
       "    <tr>\n",
       "      <th>15</th>\n",
       "      <td>473</td>\n",
       "      <td>58</td>\n",
       "      <td>892874</td>\n",
       "      <td>19-10-1992</td>\n",
       "      <td>IN</td>\n",
       "      <td>100/300</td>\n",
       "      <td>2000</td>\n",
       "      <td>1131.40</td>\n",
       "      <td>0</td>\n",
       "      <td>458733</td>\n",
       "      <td>...</td>\n",
       "      <td>NO</td>\n",
       "      <td>63120</td>\n",
       "      <td>10520</td>\n",
       "      <td>10520</td>\n",
       "      <td>42080</td>\n",
       "      <td>Accura</td>\n",
       "      <td>MDX</td>\n",
       "      <td>1999</td>\n",
       "      <td>Y</td>\n",
       "      <td>NaN</td>\n",
       "    </tr>\n",
       "    <tr>\n",
       "      <th>16</th>\n",
       "      <td>70</td>\n",
       "      <td>26</td>\n",
       "      <td>558938</td>\n",
       "      <td>08-06-2005</td>\n",
       "      <td>OH</td>\n",
       "      <td>500/1000</td>\n",
       "      <td>1000</td>\n",
       "      <td>1199.44</td>\n",
       "      <td>5000000</td>\n",
       "      <td>619884</td>\n",
       "      <td>...</td>\n",
       "      <td>YES</td>\n",
       "      <td>52110</td>\n",
       "      <td>5790</td>\n",
       "      <td>5790</td>\n",
       "      <td>40530</td>\n",
       "      <td>Nissan</td>\n",
       "      <td>Maxima</td>\n",
       "      <td>2012</td>\n",
       "      <td>N</td>\n",
       "      <td>NaN</td>\n",
       "    </tr>\n",
       "    <tr>\n",
       "      <th>17</th>\n",
       "      <td>140</td>\n",
       "      <td>31</td>\n",
       "      <td>275265</td>\n",
       "      <td>15-11-2004</td>\n",
       "      <td>IN</td>\n",
       "      <td>500/1000</td>\n",
       "      <td>500</td>\n",
       "      <td>708.64</td>\n",
       "      <td>6000000</td>\n",
       "      <td>470610</td>\n",
       "      <td>...</td>\n",
       "      <td>YES</td>\n",
       "      <td>77880</td>\n",
       "      <td>14160</td>\n",
       "      <td>7080</td>\n",
       "      <td>56640</td>\n",
       "      <td>Suburu</td>\n",
       "      <td>Legacy</td>\n",
       "      <td>2015</td>\n",
       "      <td>N</td>\n",
       "      <td>NaN</td>\n",
       "    </tr>\n",
       "    <tr>\n",
       "      <th>18</th>\n",
       "      <td>160</td>\n",
       "      <td>37</td>\n",
       "      <td>921202</td>\n",
       "      <td>28-12-2014</td>\n",
       "      <td>OH</td>\n",
       "      <td>500/1000</td>\n",
       "      <td>500</td>\n",
       "      <td>1374.22</td>\n",
       "      <td>0</td>\n",
       "      <td>472135</td>\n",
       "      <td>...</td>\n",
       "      <td>NO</td>\n",
       "      <td>72930</td>\n",
       "      <td>6630</td>\n",
       "      <td>13260</td>\n",
       "      <td>53040</td>\n",
       "      <td>Accura</td>\n",
       "      <td>TL</td>\n",
       "      <td>2015</td>\n",
       "      <td>N</td>\n",
       "      <td>NaN</td>\n",
       "    </tr>\n",
       "    <tr>\n",
       "      <th>19</th>\n",
       "      <td>196</td>\n",
       "      <td>39</td>\n",
       "      <td>143972</td>\n",
       "      <td>02-08-1992</td>\n",
       "      <td>IN</td>\n",
       "      <td>500/1000</td>\n",
       "      <td>2000</td>\n",
       "      <td>1475.73</td>\n",
       "      <td>0</td>\n",
       "      <td>477670</td>\n",
       "      <td>...</td>\n",
       "      <td>NO</td>\n",
       "      <td>60400</td>\n",
       "      <td>6040</td>\n",
       "      <td>6040</td>\n",
       "      <td>48320</td>\n",
       "      <td>Nissan</td>\n",
       "      <td>Pathfinder</td>\n",
       "      <td>2014</td>\n",
       "      <td>N</td>\n",
       "      <td>NaN</td>\n",
       "    </tr>\n",
       "    <tr>\n",
       "      <th>20</th>\n",
       "      <td>460</td>\n",
       "      <td>62</td>\n",
       "      <td>183430</td>\n",
       "      <td>25-06-2002</td>\n",
       "      <td>IN</td>\n",
       "      <td>250/500</td>\n",
       "      <td>1000</td>\n",
       "      <td>1187.96</td>\n",
       "      <td>4000000</td>\n",
       "      <td>618845</td>\n",
       "      <td>...</td>\n",
       "      <td>?</td>\n",
       "      <td>47160</td>\n",
       "      <td>0</td>\n",
       "      <td>5240</td>\n",
       "      <td>41920</td>\n",
       "      <td>Suburu</td>\n",
       "      <td>Impreza</td>\n",
       "      <td>2011</td>\n",
       "      <td>N</td>\n",
       "      <td>NaN</td>\n",
       "    </tr>\n",
       "    <tr>\n",
       "      <th>21</th>\n",
       "      <td>217</td>\n",
       "      <td>41</td>\n",
       "      <td>431876</td>\n",
       "      <td>27-11-2005</td>\n",
       "      <td>IL</td>\n",
       "      <td>500/1000</td>\n",
       "      <td>2000</td>\n",
       "      <td>875.15</td>\n",
       "      <td>0</td>\n",
       "      <td>442479</td>\n",
       "      <td>...</td>\n",
       "      <td>?</td>\n",
       "      <td>37840</td>\n",
       "      <td>0</td>\n",
       "      <td>4730</td>\n",
       "      <td>33110</td>\n",
       "      <td>Accura</td>\n",
       "      <td>RSX</td>\n",
       "      <td>1996</td>\n",
       "      <td>N</td>\n",
       "      <td>NaN</td>\n",
       "    </tr>\n",
       "    <tr>\n",
       "      <th>22</th>\n",
       "      <td>370</td>\n",
       "      <td>55</td>\n",
       "      <td>285496</td>\n",
       "      <td>27-05-1994</td>\n",
       "      <td>IL</td>\n",
       "      <td>100/300</td>\n",
       "      <td>2000</td>\n",
       "      <td>972.18</td>\n",
       "      <td>0</td>\n",
       "      <td>443920</td>\n",
       "      <td>...</td>\n",
       "      <td>YES</td>\n",
       "      <td>71520</td>\n",
       "      <td>17880</td>\n",
       "      <td>5960</td>\n",
       "      <td>47680</td>\n",
       "      <td>Suburu</td>\n",
       "      <td>Forrestor</td>\n",
       "      <td>2000</td>\n",
       "      <td>Y</td>\n",
       "      <td>NaN</td>\n",
       "    </tr>\n",
       "    <tr>\n",
       "      <th>23</th>\n",
       "      <td>413</td>\n",
       "      <td>55</td>\n",
       "      <td>115399</td>\n",
       "      <td>08-02-1991</td>\n",
       "      <td>IN</td>\n",
       "      <td>100/300</td>\n",
       "      <td>2000</td>\n",
       "      <td>1268.79</td>\n",
       "      <td>0</td>\n",
       "      <td>453148</td>\n",
       "      <td>...</td>\n",
       "      <td>?</td>\n",
       "      <td>98160</td>\n",
       "      <td>8180</td>\n",
       "      <td>16360</td>\n",
       "      <td>73620</td>\n",
       "      <td>Dodge</td>\n",
       "      <td>RAM</td>\n",
       "      <td>2011</td>\n",
       "      <td>Y</td>\n",
       "      <td>NaN</td>\n",
       "    </tr>\n",
       "    <tr>\n",
       "      <th>24</th>\n",
       "      <td>237</td>\n",
       "      <td>40</td>\n",
       "      <td>736882</td>\n",
       "      <td>02-02-1996</td>\n",
       "      <td>IN</td>\n",
       "      <td>100/300</td>\n",
       "      <td>1000</td>\n",
       "      <td>883.31</td>\n",
       "      <td>0</td>\n",
       "      <td>434733</td>\n",
       "      <td>...</td>\n",
       "      <td>NO</td>\n",
       "      <td>77880</td>\n",
       "      <td>7080</td>\n",
       "      <td>14160</td>\n",
       "      <td>56640</td>\n",
       "      <td>Ford</td>\n",
       "      <td>Escape</td>\n",
       "      <td>2005</td>\n",
       "      <td>N</td>\n",
       "      <td>NaN</td>\n",
       "    </tr>\n",
       "    <tr>\n",
       "      <th>25</th>\n",
       "      <td>8</td>\n",
       "      <td>35</td>\n",
       "      <td>699044</td>\n",
       "      <td>05-12-2013</td>\n",
       "      <td>OH</td>\n",
       "      <td>100/300</td>\n",
       "      <td>2000</td>\n",
       "      <td>1266.92</td>\n",
       "      <td>0</td>\n",
       "      <td>613982</td>\n",
       "      <td>...</td>\n",
       "      <td>YES</td>\n",
       "      <td>71500</td>\n",
       "      <td>16500</td>\n",
       "      <td>11000</td>\n",
       "      <td>44000</td>\n",
       "      <td>Ford</td>\n",
       "      <td>Escape</td>\n",
       "      <td>2006</td>\n",
       "      <td>Y</td>\n",
       "      <td>NaN</td>\n",
       "    </tr>\n",
       "    <tr>\n",
       "      <th>26</th>\n",
       "      <td>257</td>\n",
       "      <td>43</td>\n",
       "      <td>863236</td>\n",
       "      <td>20-09-1990</td>\n",
       "      <td>IN</td>\n",
       "      <td>100/300</td>\n",
       "      <td>2000</td>\n",
       "      <td>1322.10</td>\n",
       "      <td>0</td>\n",
       "      <td>436984</td>\n",
       "      <td>...</td>\n",
       "      <td>YES</td>\n",
       "      <td>9020</td>\n",
       "      <td>1640</td>\n",
       "      <td>820</td>\n",
       "      <td>6560</td>\n",
       "      <td>Toyota</td>\n",
       "      <td>Camry</td>\n",
       "      <td>2005</td>\n",
       "      <td>N</td>\n",
       "      <td>NaN</td>\n",
       "    </tr>\n",
       "    <tr>\n",
       "      <th>27</th>\n",
       "      <td>202</td>\n",
       "      <td>34</td>\n",
       "      <td>608513</td>\n",
       "      <td>18-07-2002</td>\n",
       "      <td>IN</td>\n",
       "      <td>100/300</td>\n",
       "      <td>500</td>\n",
       "      <td>848.07</td>\n",
       "      <td>3000000</td>\n",
       "      <td>607730</td>\n",
       "      <td>...</td>\n",
       "      <td>?</td>\n",
       "      <td>5720</td>\n",
       "      <td>1040</td>\n",
       "      <td>520</td>\n",
       "      <td>4160</td>\n",
       "      <td>Suburu</td>\n",
       "      <td>Forrestor</td>\n",
       "      <td>2003</td>\n",
       "      <td>Y</td>\n",
       "      <td>NaN</td>\n",
       "    </tr>\n",
       "    <tr>\n",
       "      <th>28</th>\n",
       "      <td>224</td>\n",
       "      <td>40</td>\n",
       "      <td>914088</td>\n",
       "      <td>08-02-1990</td>\n",
       "      <td>OH</td>\n",
       "      <td>100/300</td>\n",
       "      <td>2000</td>\n",
       "      <td>1291.70</td>\n",
       "      <td>0</td>\n",
       "      <td>609837</td>\n",
       "      <td>...</td>\n",
       "      <td>YES</td>\n",
       "      <td>69840</td>\n",
       "      <td>7760</td>\n",
       "      <td>15520</td>\n",
       "      <td>46560</td>\n",
       "      <td>Dodge</td>\n",
       "      <td>Neon</td>\n",
       "      <td>2009</td>\n",
       "      <td>N</td>\n",
       "      <td>NaN</td>\n",
       "    </tr>\n",
       "    <tr>\n",
       "      <th>29</th>\n",
       "      <td>241</td>\n",
       "      <td>45</td>\n",
       "      <td>596785</td>\n",
       "      <td>04-03-2014</td>\n",
       "      <td>IL</td>\n",
       "      <td>500/1000</td>\n",
       "      <td>2000</td>\n",
       "      <td>1104.50</td>\n",
       "      <td>0</td>\n",
       "      <td>432211</td>\n",
       "      <td>...</td>\n",
       "      <td>NO</td>\n",
       "      <td>91650</td>\n",
       "      <td>14100</td>\n",
       "      <td>14100</td>\n",
       "      <td>63450</td>\n",
       "      <td>Accura</td>\n",
       "      <td>TL</td>\n",
       "      <td>2011</td>\n",
       "      <td>N</td>\n",
       "      <td>NaN</td>\n",
       "    </tr>\n",
       "  </tbody>\n",
       "</table>\n",
       "<p>30 rows × 40 columns</p>\n",
       "</div>"
      ],
      "text/plain": [
       "    months_as_customer  age  policy_number policy_bind_date policy_state  \\\n",
       "0                  328   48         521585       17-10-2014           OH   \n",
       "1                  228   42         342868       27-06-2006           IN   \n",
       "2                  134   29         687698       06-09-2000           OH   \n",
       "3                  256   41         227811       25-05-1990           IL   \n",
       "4                  228   44         367455       06-06-2014           IL   \n",
       "5                  256   39         104594       12-10-2006           OH   \n",
       "6                  137   34         413978       04-06-2000           IN   \n",
       "7                  165   37         429027       03-02-1990           IL   \n",
       "8                   27   33         485665       05-02-1997           IL   \n",
       "9                  212   42         636550       25-07-2011           IL   \n",
       "10                 235   42         543610       26-05-2002           OH   \n",
       "11                 447   61         214618       29-05-1999           OH   \n",
       "12                  60   23         842643       20-11-1997           OH   \n",
       "13                 121   34         626808       26-10-2012           OH   \n",
       "14                 180   38         644081       28-12-1998           OH   \n",
       "15                 473   58         892874       19-10-1992           IN   \n",
       "16                  70   26         558938       08-06-2005           OH   \n",
       "17                 140   31         275265       15-11-2004           IN   \n",
       "18                 160   37         921202       28-12-2014           OH   \n",
       "19                 196   39         143972       02-08-1992           IN   \n",
       "20                 460   62         183430       25-06-2002           IN   \n",
       "21                 217   41         431876       27-11-2005           IL   \n",
       "22                 370   55         285496       27-05-1994           IL   \n",
       "23                 413   55         115399       08-02-1991           IN   \n",
       "24                 237   40         736882       02-02-1996           IN   \n",
       "25                   8   35         699044       05-12-2013           OH   \n",
       "26                 257   43         863236       20-09-1990           IN   \n",
       "27                 202   34         608513       18-07-2002           IN   \n",
       "28                 224   40         914088       08-02-1990           OH   \n",
       "29                 241   45         596785       04-03-2014           IL   \n",
       "\n",
       "   policy_csl  policy_deductable  policy_annual_premium  umbrella_limit  \\\n",
       "0     250/500               1000                1406.91               0   \n",
       "1     250/500               2000                1197.22         5000000   \n",
       "2     100/300               2000                1413.14         5000000   \n",
       "3     250/500               2000                1415.74         6000000   \n",
       "4    500/1000               1000                1583.91         6000000   \n",
       "5     250/500               1000                1351.10               0   \n",
       "6     250/500               1000                1333.35               0   \n",
       "7     100/300               1000                1137.03               0   \n",
       "8     100/300                500                1442.99               0   \n",
       "9     100/300                500                1315.68               0   \n",
       "10    100/300                500                1253.12         4000000   \n",
       "11    100/300               2000                1137.16               0   \n",
       "12   500/1000                500                1215.36         3000000   \n",
       "13    100/300               1000                 936.61               0   \n",
       "14    250/500               2000                1301.13               0   \n",
       "15    100/300               2000                1131.40               0   \n",
       "16   500/1000               1000                1199.44         5000000   \n",
       "17   500/1000                500                 708.64         6000000   \n",
       "18   500/1000                500                1374.22               0   \n",
       "19   500/1000               2000                1475.73               0   \n",
       "20    250/500               1000                1187.96         4000000   \n",
       "21   500/1000               2000                 875.15               0   \n",
       "22    100/300               2000                 972.18               0   \n",
       "23    100/300               2000                1268.79               0   \n",
       "24    100/300               1000                 883.31               0   \n",
       "25    100/300               2000                1266.92               0   \n",
       "26    100/300               2000                1322.10               0   \n",
       "27    100/300                500                 848.07         3000000   \n",
       "28    100/300               2000                1291.70               0   \n",
       "29   500/1000               2000                1104.50               0   \n",
       "\n",
       "    insured_zip  ... police_report_available total_claim_amount injury_claim  \\\n",
       "0        466132  ...                     YES              71610         6510   \n",
       "1        468176  ...                       ?               5070          780   \n",
       "2        430632  ...                      NO              34650         7700   \n",
       "3        608117  ...                      NO              63400         6340   \n",
       "4        610706  ...                      NO               6500         1300   \n",
       "5        478456  ...                      NO              64100         6410   \n",
       "6        441716  ...                       ?              78650        21450   \n",
       "7        603195  ...                     YES              51590         9380   \n",
       "8        601734  ...                     YES              27700         2770   \n",
       "9        600983  ...                       ?              42300         4700   \n",
       "10       462283  ...                       ?              87010         7910   \n",
       "11       615561  ...                     YES             114920        17680   \n",
       "12       432220  ...                      NO              56520         4710   \n",
       "13       464652  ...                      NO               7280         1120   \n",
       "14       476685  ...                     YES              46200         4200   \n",
       "15       458733  ...                      NO              63120        10520   \n",
       "16       619884  ...                     YES              52110         5790   \n",
       "17       470610  ...                     YES              77880        14160   \n",
       "18       472135  ...                      NO              72930         6630   \n",
       "19       477670  ...                      NO              60400         6040   \n",
       "20       618845  ...                       ?              47160            0   \n",
       "21       442479  ...                       ?              37840            0   \n",
       "22       443920  ...                     YES              71520        17880   \n",
       "23       453148  ...                       ?              98160         8180   \n",
       "24       434733  ...                      NO              77880         7080   \n",
       "25       613982  ...                     YES              71500        16500   \n",
       "26       436984  ...                     YES               9020         1640   \n",
       "27       607730  ...                       ?               5720         1040   \n",
       "28       609837  ...                     YES              69840         7760   \n",
       "29       432211  ...                      NO              91650        14100   \n",
       "\n",
       "   property_claim vehicle_claim  auto_make  auto_model auto_year  \\\n",
       "0           13020         52080       Saab         92x      2004   \n",
       "1             780          3510   Mercedes        E400      2007   \n",
       "2            3850         23100      Dodge         RAM      2007   \n",
       "3            6340         50720  Chevrolet       Tahoe      2014   \n",
       "4             650          4550     Accura         RSX      2009   \n",
       "5            6410         51280       Saab          95      2003   \n",
       "6            7150         50050     Nissan  Pathfinder      2012   \n",
       "7            9380         32830       Audi          A5      2015   \n",
       "8            2770         22160     Toyota       Camry      2012   \n",
       "9            4700         32900       Saab         92x      1996   \n",
       "10          15820         63280       Ford        F150      2002   \n",
       "11          17680         79560       Audi          A3      2006   \n",
       "12           9420         42390       Saab          95      2000   \n",
       "13           1120          5040     Toyota  Highlander      2010   \n",
       "14           8400         33600      Dodge        Neon      2003   \n",
       "15          10520         42080     Accura         MDX      1999   \n",
       "16           5790         40530     Nissan      Maxima      2012   \n",
       "17           7080         56640     Suburu      Legacy      2015   \n",
       "18          13260         53040     Accura          TL      2015   \n",
       "19           6040         48320     Nissan  Pathfinder      2014   \n",
       "20           5240         41920     Suburu     Impreza      2011   \n",
       "21           4730         33110     Accura         RSX      1996   \n",
       "22           5960         47680     Suburu   Forrestor      2000   \n",
       "23          16360         73620      Dodge         RAM      2011   \n",
       "24          14160         56640       Ford      Escape      2005   \n",
       "25          11000         44000       Ford      Escape      2006   \n",
       "26            820          6560     Toyota       Camry      2005   \n",
       "27            520          4160     Suburu   Forrestor      2003   \n",
       "28          15520         46560      Dodge        Neon      2009   \n",
       "29          14100         63450     Accura          TL      2011   \n",
       "\n",
       "   fraud_reported _c39  \n",
       "0               Y  NaN  \n",
       "1               Y  NaN  \n",
       "2               N  NaN  \n",
       "3               Y  NaN  \n",
       "4               N  NaN  \n",
       "5               Y  NaN  \n",
       "6               N  NaN  \n",
       "7               N  NaN  \n",
       "8               N  NaN  \n",
       "9               N  NaN  \n",
       "10              N  NaN  \n",
       "11              N  NaN  \n",
       "12              N  NaN  \n",
       "13              N  NaN  \n",
       "14              Y  NaN  \n",
       "15              Y  NaN  \n",
       "16              N  NaN  \n",
       "17              N  NaN  \n",
       "18              N  NaN  \n",
       "19              N  NaN  \n",
       "20              N  NaN  \n",
       "21              N  NaN  \n",
       "22              Y  NaN  \n",
       "23              Y  NaN  \n",
       "24              N  NaN  \n",
       "25              Y  NaN  \n",
       "26              N  NaN  \n",
       "27              Y  NaN  \n",
       "28              N  NaN  \n",
       "29              N  NaN  \n",
       "\n",
       "[30 rows x 40 columns]"
      ]
     },
     "execution_count": 102,
     "metadata": {},
     "output_type": "execute_result"
    }
   ],
   "source": [
    "ds.head(30)"
   ]
  },
  {
   "cell_type": "code",
   "execution_count": 103,
   "metadata": {},
   "outputs": [
    {
     "data": {
      "text/plain": [
       "(1000, 40)"
      ]
     },
     "execution_count": 103,
     "metadata": {},
     "output_type": "execute_result"
    }
   ],
   "source": [
    "ds.shape"
   ]
  },
  {
   "cell_type": "code",
   "execution_count": 104,
   "metadata": {},
   "outputs": [
    {
     "data": {
      "text/plain": [
       "months_as_customer               int64\n",
       "age                              int64\n",
       "policy_number                    int64\n",
       "policy_bind_date                object\n",
       "policy_state                    object\n",
       "policy_csl                      object\n",
       "policy_deductable                int64\n",
       "policy_annual_premium          float64\n",
       "umbrella_limit                   int64\n",
       "insured_zip                      int64\n",
       "insured_sex                     object\n",
       "insured_education_level         object\n",
       "insured_occupation              object\n",
       "insured_hobbies                 object\n",
       "insured_relationship            object\n",
       "capital-gains                    int64\n",
       "capital-loss                     int64\n",
       "incident_date                   object\n",
       "incident_type                   object\n",
       "collision_type                  object\n",
       "incident_severity               object\n",
       "authorities_contacted           object\n",
       "incident_state                  object\n",
       "incident_city                   object\n",
       "incident_location               object\n",
       "incident_hour_of_the_day         int64\n",
       "number_of_vehicles_involved      int64\n",
       "property_damage                 object\n",
       "bodily_injuries                  int64\n",
       "witnesses                        int64\n",
       "police_report_available         object\n",
       "total_claim_amount               int64\n",
       "injury_claim                     int64\n",
       "property_claim                   int64\n",
       "vehicle_claim                    int64\n",
       "auto_make                       object\n",
       "auto_model                      object\n",
       "auto_year                        int64\n",
       "fraud_reported                  object\n",
       "_c39                           float64\n",
       "dtype: object"
      ]
     },
     "execution_count": 104,
     "metadata": {},
     "output_type": "execute_result"
    }
   ],
   "source": [
    "ds.dtypes"
   ]
  },
  {
   "cell_type": "markdown",
   "metadata": {},
   "source": [
    "# Check and treat null values"
   ]
  },
  {
   "cell_type": "code",
   "execution_count": 105,
   "metadata": {},
   "outputs": [
    {
     "data": {
      "text/plain": [
       "<matplotlib.axes._subplots.AxesSubplot at 0x19bd31c8d48>"
      ]
     },
     "execution_count": 105,
     "metadata": {},
     "output_type": "execute_result"
    },
    {
     "data": {
      "image/png": "[encoded data removed]",
      "text/plain": [
       "<Figure size 432x288 with 2 Axes>"
      ]
     },
     "metadata": {
      "needs_background": "light"
     },
     "output_type": "display_data"
    }
   ],
   "source": [
    "sns.heatmap(ds.isnull())"
   ]
  },
  {
   "cell_type": "markdown",
   "metadata": {},
   "source": [
    "No null values but there are unknown values in the property_damage, collision_type and police_report columns."
   ]
  },
  {
   "cell_type": "markdown",
   "metadata": {},
   "source": [
    "# Replace unknown values with the most common value per column"
   ]
  },
  {
   "cell_type": "code",
   "execution_count": 106,
   "metadata": {},
   "outputs": [
    {
     "data": {
      "text/plain": [
       "Index(['months_as_customer', 'age', 'policy_number', 'policy_bind_date',\n",
       "       'policy_state', 'policy_csl', 'policy_deductable',\n",
       "       'policy_annual_premium', 'umbrella_limit', 'insured_zip', 'insured_sex',\n",
       "       'insured_education_level', 'insured_occupation', 'insured_hobbies',\n",
       "       'insured_relationship', 'capital-gains', 'capital-loss',\n",
       "       'incident_date', 'incident_type', 'collision_type', 'incident_severity',\n",
       "       'authorities_contacted', 'incident_state', 'incident_city',\n",
       "       'incident_location', 'incident_hour_of_the_day',\n",
       "       'number_of_vehicles_involved', 'property_damage', 'bodily_injuries',\n",
       "       'witnesses', 'police_report_available', 'total_claim_amount',\n",
       "       'injury_claim', 'property_claim', 'vehicle_claim', 'auto_make',\n",
       "       'auto_model', 'auto_year', 'fraud_reported', '_c39'],\n",
       "      dtype='object')"
      ]
     },
     "execution_count": 106,
     "metadata": {},
     "output_type": "execute_result"
    }
   ],
   "source": [
    "ds.columns"
   ]
  },
  {
   "cell_type": "code",
   "execution_count": 107,
   "metadata": {},
   "outputs": [
    {
     "data": {
      "text/plain": [
       "?      360\n",
       "NO     338\n",
       "YES    302\n",
       "Name: property_damage, dtype: int64"
      ]
     },
     "execution_count": 107,
     "metadata": {},
     "output_type": "execute_result"
    }
   ],
   "source": [
    "# count the amounts of given entries in a column\n",
    "ds['property_damage'].value_counts()"
   ]
  },
  {
   "cell_type": "markdown",
   "metadata": {},
   "source": [
    "Checked the y/n rows separately and there is no distinguishable way to assign different values to the unknown values. Will encode it as it is so that the unknown value becomes a separate variable."
   ]
  },
  {
   "cell_type": "code",
   "execution_count": 108,
   "metadata": {},
   "outputs": [
    {
     "data": {
      "text/plain": [
       "Rear Collision     292\n",
       "Side Collision     276\n",
       "Front Collision    254\n",
       "?                  178\n",
       "Name: collision_type, dtype: int64"
      ]
     },
     "execution_count": 108,
     "metadata": {},
     "output_type": "execute_result"
    }
   ],
   "source": [
    "# count the amounts of given entries in a column\n",
    "ds['collision_type'].value_counts()"
   ]
  },
  {
   "cell_type": "markdown",
   "metadata": {},
   "source": [
    "Checked the y/n rows separately and there is no distinguishable way to assign different values to the unknown values. Will encode it as it is so that the unknown value becomes a separate variable."
   ]
  },
  {
   "cell_type": "code",
   "execution_count": 109,
   "metadata": {},
   "outputs": [
    {
     "data": {
      "text/plain": [
       "?      343\n",
       "NO     343\n",
       "YES    314\n",
       "Name: police_report_available, dtype: int64"
      ]
     },
     "execution_count": 109,
     "metadata": {},
     "output_type": "execute_result"
    }
   ],
   "source": [
    "# count the amounts of given entries in a column\n",
    "ds['police_report_available'].value_counts()"
   ]
  },
  {
   "cell_type": "markdown",
   "metadata": {},
   "source": [
    "Checked the y/n rows separately and there is no distinguishable way to assign different values to the unknown values. Will encode it as it is so that the unknown value becomes a separate variable."
   ]
  },
  {
   "cell_type": "markdown",
   "metadata": {},
   "source": [
    "Split dataset and check again"
   ]
  },
  {
   "cell_type": "markdown",
   "metadata": {},
   "source": [
    "# Check correlation"
   ]
  },
  {
   "cell_type": "code",
   "execution_count": 110,
   "metadata": {},
   "outputs": [
    {
     "data": {
      "text/plain": [
       "<matplotlib.axes._subplots.AxesSubplot at 0x19bd3381bc8>"
      ]
     },
     "execution_count": 110,
     "metadata": {},
     "output_type": "execute_result"
    },
    {
     "data": {
      "image/png": "[encoded data removed]",
      "text/plain": [
       "<Figure size 432x288 with 2 Axes>"
      ]
     },
     "metadata": {
      "needs_background": "light"
     },
     "output_type": "display_data"
    }
   ],
   "source": [
    "dscor=ds.corr()\n",
    "sns.heatmap(dscor)"
   ]
  },
  {
   "cell_type": "markdown",
   "metadata": {},
   "source": [
    "Possibility of using PCA, will check again after encoding."
   ]
  },
  {
   "cell_type": "markdown",
   "metadata": {},
   "source": [
    "# Summary statistics"
   ]
  },
  {
   "cell_type": "code",
   "execution_count": 111,
   "metadata": {},
   "outputs": [
    {
     "data": {
      "text/html": [
       "<div>\n",
       "<style scoped>\n",
       "    .dataframe tbody tr th:only-of-type {\n",
       "        vertical-align: middle;\n",
       "    }\n",
       "\n",
       "    .dataframe tbody tr th {\n",
       "        vertical-align: top;\n",
       "    }\n",
       "\n",
       "    .dataframe thead th {\n",
       "        text-align: right;\n",
       "    }\n",
       "</style>\n",
       "<table border=\"1\" class=\"dataframe\">\n",
       "  <thead>\n",
       "    <tr style=\"text-align: right;\">\n",
       "      <th></th>\n",
       "      <th>months_as_customer</th>\n",
       "      <th>age</th>\n",
       "      <th>policy_number</th>\n",
       "      <th>policy_deductable</th>\n",
       "      <th>policy_annual_premium</th>\n",
       "      <th>umbrella_limit</th>\n",
       "      <th>insured_zip</th>\n",
       "      <th>capital-gains</th>\n",
       "      <th>capital-loss</th>\n",
       "      <th>incident_hour_of_the_day</th>\n",
       "      <th>number_of_vehicles_involved</th>\n",
       "      <th>bodily_injuries</th>\n",
       "      <th>witnesses</th>\n",
       "      <th>total_claim_amount</th>\n",
       "      <th>injury_claim</th>\n",
       "      <th>property_claim</th>\n",
       "      <th>vehicle_claim</th>\n",
       "      <th>auto_year</th>\n",
       "      <th>_c39</th>\n",
       "    </tr>\n",
       "  </thead>\n",
       "  <tbody>\n",
       "    <tr>\n",
       "      <th>count</th>\n",
       "      <td>1000.000000</td>\n",
       "      <td>1000.000000</td>\n",
       "      <td>1000.000000</td>\n",
       "      <td>1000.000000</td>\n",
       "      <td>1000.000000</td>\n",
       "      <td>1.000000e+03</td>\n",
       "      <td>1000.000000</td>\n",
       "      <td>1000.000000</td>\n",
       "      <td>1000.000000</td>\n",
       "      <td>1000.000000</td>\n",
       "      <td>1000.00000</td>\n",
       "      <td>1000.000000</td>\n",
       "      <td>1000.000000</td>\n",
       "      <td>1000.00000</td>\n",
       "      <td>1000.000000</td>\n",
       "      <td>1000.000000</td>\n",
       "      <td>1000.000000</td>\n",
       "      <td>1000.000000</td>\n",
       "      <td>0.0</td>\n",
       "    </tr>\n",
       "    <tr>\n",
       "      <th>mean</th>\n",
       "      <td>203.954000</td>\n",
       "      <td>38.948000</td>\n",
       "      <td>546238.648000</td>\n",
       "      <td>1136.000000</td>\n",
       "      <td>1256.406150</td>\n",
       "      <td>1.101000e+06</td>\n",
       "      <td>501214.488000</td>\n",
       "      <td>25126.100000</td>\n",
       "      <td>-26793.700000</td>\n",
       "      <td>11.644000</td>\n",
       "      <td>1.83900</td>\n",
       "      <td>0.992000</td>\n",
       "      <td>1.487000</td>\n",
       "      <td>52761.94000</td>\n",
       "      <td>7433.420000</td>\n",
       "      <td>7399.570000</td>\n",
       "      <td>37928.950000</td>\n",
       "      <td>2005.103000</td>\n",
       "      <td>NaN</td>\n",
       "    </tr>\n",
       "    <tr>\n",
       "      <th>std</th>\n",
       "      <td>115.113174</td>\n",
       "      <td>9.140287</td>\n",
       "      <td>257063.005276</td>\n",
       "      <td>611.864673</td>\n",
       "      <td>244.167395</td>\n",
       "      <td>2.297407e+06</td>\n",
       "      <td>71701.610941</td>\n",
       "      <td>27872.187708</td>\n",
       "      <td>28104.096686</td>\n",
       "      <td>6.951373</td>\n",
       "      <td>1.01888</td>\n",
       "      <td>0.820127</td>\n",
       "      <td>1.111335</td>\n",
       "      <td>26401.53319</td>\n",
       "      <td>4880.951853</td>\n",
       "      <td>4824.726179</td>\n",
       "      <td>18886.252893</td>\n",
       "      <td>6.015861</td>\n",
       "      <td>NaN</td>\n",
       "    </tr>\n",
       "    <tr>\n",
       "      <th>min</th>\n",
       "      <td>0.000000</td>\n",
       "      <td>19.000000</td>\n",
       "      <td>100804.000000</td>\n",
       "      <td>500.000000</td>\n",
       "      <td>433.330000</td>\n",
       "      <td>-1.000000e+06</td>\n",
       "      <td>430104.000000</td>\n",
       "      <td>0.000000</td>\n",
       "      <td>-111100.000000</td>\n",
       "      <td>0.000000</td>\n",
       "      <td>1.00000</td>\n",
       "      <td>0.000000</td>\n",
       "      <td>0.000000</td>\n",
       "      <td>100.00000</td>\n",
       "      <td>0.000000</td>\n",
       "      <td>0.000000</td>\n",
       "      <td>70.000000</td>\n",
       "      <td>1995.000000</td>\n",
       "      <td>NaN</td>\n",
       "    </tr>\n",
       "    <tr>\n",
       "      <th>25%</th>\n",
       "      <td>115.750000</td>\n",
       "      <td>32.000000</td>\n",
       "      <td>335980.250000</td>\n",
       "      <td>500.000000</td>\n",
       "      <td>1089.607500</td>\n",
       "      <td>0.000000e+00</td>\n",
       "      <td>448404.500000</td>\n",
       "      <td>0.000000</td>\n",
       "      <td>-51500.000000</td>\n",
       "      <td>6.000000</td>\n",
       "      <td>1.00000</td>\n",
       "      <td>0.000000</td>\n",
       "      <td>1.000000</td>\n",
       "      <td>41812.50000</td>\n",
       "      <td>4295.000000</td>\n",
       "      <td>4445.000000</td>\n",
       "      <td>30292.500000</td>\n",
       "      <td>2000.000000</td>\n",
       "      <td>NaN</td>\n",
       "    </tr>\n",
       "    <tr>\n",
       "      <th>50%</th>\n",
       "      <td>199.500000</td>\n",
       "      <td>38.000000</td>\n",
       "      <td>533135.000000</td>\n",
       "      <td>1000.000000</td>\n",
       "      <td>1257.200000</td>\n",
       "      <td>0.000000e+00</td>\n",
       "      <td>466445.500000</td>\n",
       "      <td>0.000000</td>\n",
       "      <td>-23250.000000</td>\n",
       "      <td>12.000000</td>\n",
       "      <td>1.00000</td>\n",
       "      <td>1.000000</td>\n",
       "      <td>1.000000</td>\n",
       "      <td>58055.00000</td>\n",
       "      <td>6775.000000</td>\n",
       "      <td>6750.000000</td>\n",
       "      <td>42100.000000</td>\n",
       "      <td>2005.000000</td>\n",
       "      <td>NaN</td>\n",
       "    </tr>\n",
       "    <tr>\n",
       "      <th>75%</th>\n",
       "      <td>276.250000</td>\n",
       "      <td>44.000000</td>\n",
       "      <td>759099.750000</td>\n",
       "      <td>2000.000000</td>\n",
       "      <td>1415.695000</td>\n",
       "      <td>0.000000e+00</td>\n",
       "      <td>603251.000000</td>\n",
       "      <td>51025.000000</td>\n",
       "      <td>0.000000</td>\n",
       "      <td>17.000000</td>\n",
       "      <td>3.00000</td>\n",
       "      <td>2.000000</td>\n",
       "      <td>2.000000</td>\n",
       "      <td>70592.50000</td>\n",
       "      <td>11305.000000</td>\n",
       "      <td>10885.000000</td>\n",
       "      <td>50822.500000</td>\n",
       "      <td>2010.000000</td>\n",
       "      <td>NaN</td>\n",
       "    </tr>\n",
       "    <tr>\n",
       "      <th>max</th>\n",
       "      <td>479.000000</td>\n",
       "      <td>64.000000</td>\n",
       "      <td>999435.000000</td>\n",
       "      <td>2000.000000</td>\n",
       "      <td>2047.590000</td>\n",
       "      <td>1.000000e+07</td>\n",
       "      <td>620962.000000</td>\n",
       "      <td>100500.000000</td>\n",
       "      <td>0.000000</td>\n",
       "      <td>23.000000</td>\n",
       "      <td>4.00000</td>\n",
       "      <td>2.000000</td>\n",
       "      <td>3.000000</td>\n",
       "      <td>114920.00000</td>\n",
       "      <td>21450.000000</td>\n",
       "      <td>23670.000000</td>\n",
       "      <td>79560.000000</td>\n",
       "      <td>2015.000000</td>\n",
       "      <td>NaN</td>\n",
       "    </tr>\n",
       "  </tbody>\n",
       "</table>\n",
       "</div>"
      ],
      "text/plain": [
       "       months_as_customer          age  policy_number  policy_deductable  \\\n",
       "count         1000.000000  1000.000000    1000.000000        1000.000000   \n",
       "mean           203.954000    38.948000  546238.648000        1136.000000   \n",
       "std            115.113174     9.140287  257063.005276         611.864673   \n",
       "min              0.000000    19.000000  100804.000000         500.000000   \n",
       "25%            115.750000    32.000000  335980.250000         500.000000   \n",
       "50%            199.500000    38.000000  533135.000000        1000.000000   \n",
       "75%            276.250000    44.000000  759099.750000        2000.000000   \n",
       "max            479.000000    64.000000  999435.000000        2000.000000   \n",
       "\n",
       "       policy_annual_premium  umbrella_limit    insured_zip  capital-gains  \\\n",
       "count            1000.000000    1.000000e+03    1000.000000    1000.000000   \n",
       "mean             1256.406150    1.101000e+06  501214.488000   25126.100000   \n",
       "std               244.167395    2.297407e+06   71701.610941   27872.187708   \n",
       "min               433.330000   -1.000000e+06  430104.000000       0.000000   \n",
       "25%              1089.607500    0.000000e+00  448404.500000       0.000000   \n",
       "50%              1257.200000    0.000000e+00  466445.500000       0.000000   \n",
       "75%              1415.695000    0.000000e+00  603251.000000   51025.000000   \n",
       "max              2047.590000    1.000000e+07  620962.000000  100500.000000   \n",
       "\n",
       "        capital-loss  incident_hour_of_the_day  number_of_vehicles_involved  \\\n",
       "count    1000.000000               1000.000000                   1000.00000   \n",
       "mean   -26793.700000                 11.644000                      1.83900   \n",
       "std     28104.096686                  6.951373                      1.01888   \n",
       "min   -111100.000000                  0.000000                      1.00000   \n",
       "25%    -51500.000000                  6.000000                      1.00000   \n",
       "50%    -23250.000000                 12.000000                      1.00000   \n",
       "75%         0.000000                 17.000000                      3.00000   \n",
       "max         0.000000                 23.000000                      4.00000   \n",
       "\n",
       "       bodily_injuries    witnesses  total_claim_amount  injury_claim  \\\n",
       "count      1000.000000  1000.000000          1000.00000   1000.000000   \n",
       "mean          0.992000     1.487000         52761.94000   7433.420000   \n",
       "std           0.820127     1.111335         26401.53319   4880.951853   \n",
       "min           0.000000     0.000000           100.00000      0.000000   \n",
       "25%           0.000000     1.000000         41812.50000   4295.000000   \n",
       "50%           1.000000     1.000000         58055.00000   6775.000000   \n",
       "75%           2.000000     2.000000         70592.50000  11305.000000   \n",
       "max           2.000000     3.000000        114920.00000  21450.000000   \n",
       "\n",
       "       property_claim  vehicle_claim    auto_year  _c39  \n",
       "count     1000.000000    1000.000000  1000.000000   0.0  \n",
       "mean      7399.570000   37928.950000  2005.103000   NaN  \n",
       "std       4824.726179   18886.252893     6.015861   NaN  \n",
       "min          0.000000      70.000000  1995.000000   NaN  \n",
       "25%       4445.000000   30292.500000  2000.000000   NaN  \n",
       "50%       6750.000000   42100.000000  2005.000000   NaN  \n",
       "75%      10885.000000   50822.500000  2010.000000   NaN  \n",
       "max      23670.000000   79560.000000  2015.000000   NaN  "
      ]
     },
     "execution_count": 111,
     "metadata": {},
     "output_type": "execute_result"
    }
   ],
   "source": [
    "ds.describe()"
   ]
  },
  {
   "cell_type": "markdown",
   "metadata": {},
   "source": [
    "# Data visualizations"
   ]
  },
  {
   "cell_type": "code",
   "execution_count": 112,
   "metadata": {},
   "outputs": [
    {
     "data": {
      "text/plain": [
       "Index(['months_as_customer', 'age', 'policy_number', 'policy_bind_date',\n",
       "       'policy_state', 'policy_csl', 'policy_deductable',\n",
       "       'policy_annual_premium', 'umbrella_limit', 'insured_zip', 'insured_sex',\n",
       "       'insured_education_level', 'insured_occupation', 'insured_hobbies',\n",
       "       'insured_relationship', 'capital-gains', 'capital-loss',\n",
       "       'incident_date', 'incident_type', 'collision_type', 'incident_severity',\n",
       "       'authorities_contacted', 'incident_state', 'incident_city',\n",
       "       'incident_location', 'incident_hour_of_the_day',\n",
       "       'number_of_vehicles_involved', 'property_damage', 'bodily_injuries',\n",
       "       'witnesses', 'police_report_available', 'total_claim_amount',\n",
       "       'injury_claim', 'property_claim', 'vehicle_claim', 'auto_make',\n",
       "       'auto_model', 'auto_year', 'fraud_reported', '_c39'],\n",
       "      dtype='object')"
      ]
     },
     "execution_count": 112,
     "metadata": {},
     "output_type": "execute_result"
    }
   ],
   "source": [
    "ds.columns"
   ]
  },
  {
   "cell_type": "code",
   "execution_count": 113,
   "metadata": {},
   "outputs": [
    {
     "data": {
      "text/plain": [
       "<matplotlib.axes._subplots.AxesSubplot at 0x19bc952ac88>"
      ]
     },
     "execution_count": 113,
     "metadata": {},
     "output_type": "execute_result"
    },
    {
     "data": {
      "image/png": "[encoded data removed]",
      "text/plain": [
       "<Figure size 432x288 with 1 Axes>"
      ]
     },
     "metadata": {
      "needs_background": "light"
     },
     "output_type": "display_data"
    }
   ],
   "source": [
    "# Show amounts of fraudulent vs non-fraudulent incidents reported\n",
    "sns.countplot(ds['fraud_reported'])"
   ]
  },
  {
   "cell_type": "markdown",
   "metadata": {},
   "source": [
    "Incidents of reported fraud are roughly 1:3 fraud to non-fraudulent."
   ]
  },
  {
   "cell_type": "code",
   "execution_count": 114,
   "metadata": {},
   "outputs": [
    {
     "data": {
      "text/plain": [
       "<seaborn.axisgrid.FacetGrid at 0x19bc8d9f0c8>"
      ]
     },
     "execution_count": 114,
     "metadata": {},
     "output_type": "execute_result"
    },
    {
     "data": {
      "image/png": "[encoded data removed]",
      "text/plain": [
       "<Figure size 511.875x360 with 1 Axes>"
      ]
     },
     "metadata": {
      "needs_background": "light"
     },
     "output_type": "display_data"
    }
   ],
   "source": [
    "# Show the mean total claims per incident type, grouped by whether it was fraudulent or not.\n",
    "sns.catplot(x='fraud_reported', y= 'total_claim_amount', hue='incident_type', data=ds, kind='bar')"
   ]
  },
  {
   "cell_type": "markdown",
   "metadata": {},
   "source": [
    "Single and multiple vehicle collisions are most commonly claimed on and used to attempt fraud.  Single vehicle collisions are most commonly used in the case of fraudulent claims.  "
   ]
  },
  {
   "cell_type": "code",
   "execution_count": 115,
   "metadata": {},
   "outputs": [
    {
     "data": {
      "text/plain": [
       "<matplotlib.axes._subplots.AxesSubplot at 0x19bc8d81b88>"
      ]
     },
     "execution_count": 115,
     "metadata": {},
     "output_type": "execute_result"
    },
    {
     "data": {
      "image/png": "[encoded data removed]",
      "text/plain": [
       "<Figure size 432x288 with 1 Axes>"
      ]
     },
     "metadata": {
      "needs_background": "light"
     },
     "output_type": "display_data"
    }
   ],
   "source": [
    "# show boxplots for the spread over injury claims for fraudulent and non-fraudulent claims\n",
    "sns.boxplot(x='fraud_reported',y='injury_claim',data=ds)"
   ]
  },
  {
   "cell_type": "markdown",
   "metadata": {},
   "source": [
    "Fraud seems to be more likely in the case of a higher injury claim."
   ]
  },
  {
   "cell_type": "code",
   "execution_count": 116,
   "metadata": {},
   "outputs": [
    {
     "data": {
      "text/plain": [
       "<matplotlib.axes._subplots.AxesSubplot at 0x19bd3379c48>"
      ]
     },
     "execution_count": 116,
     "metadata": {},
     "output_type": "execute_result"
    },
    {
     "data": {
      "image/png": "[encoded data removed]",
      "text/plain": [
       "<Figure size 432x288 with 1 Axes>"
      ]
     },
     "metadata": {
      "needs_background": "light"
     },
     "output_type": "display_data"
    }
   ],
   "source": [
    "# show boxplots for the spread over property claims for fraudulent and non-fraudulent claims\n",
    "sns.boxplot(x='fraud_reported',y='property_claim',data=ds)"
   ]
  },
  {
   "cell_type": "markdown",
   "metadata": {},
   "source": [
    "Instances of fraud are also more common with higher property claims. Real claims have a wider spread. Both contain outliers."
   ]
  },
  {
   "cell_type": "code",
   "execution_count": 117,
   "metadata": {},
   "outputs": [
    {
     "data": {
      "text/plain": [
       "<matplotlib.axes._subplots.AxesSubplot at 0x19bc947f148>"
      ]
     },
     "execution_count": 117,
     "metadata": {},
     "output_type": "execute_result"
    },
    {
     "data": {
      "image/png": "[encoded data removed]",
      "text/plain": [
       "<Figure size 432x288 with 1 Axes>"
      ]
     },
     "metadata": {
      "needs_background": "light"
     },
     "output_type": "display_data"
    }
   ],
   "source": [
    "# show boxplots for the spread over vehicle claims for fraudulent and non-fraudulent claims\n",
    "sns.boxplot(x='fraud_reported',y='vehicle_claim',data=ds)"
   ]
  },
  {
   "cell_type": "markdown",
   "metadata": {},
   "source": [
    "Fraud is also more common with higher vehicle claims although fraudulent claims have a number of outliers."
   ]
  },
  {
   "cell_type": "markdown",
   "metadata": {},
   "source": [
    "# Check eveness of dataset"
   ]
  },
  {
   "cell_type": "code",
   "execution_count": 118,
   "metadata": {},
   "outputs": [
    {
     "data": {
      "text/plain": [
       "Index(['months_as_customer', 'age', 'policy_number', 'policy_bind_date',\n",
       "       'policy_state', 'policy_csl', 'policy_deductable',\n",
       "       'policy_annual_premium', 'umbrella_limit', 'insured_zip', 'insured_sex',\n",
       "       'insured_education_level', 'insured_occupation', 'insured_hobbies',\n",
       "       'insured_relationship', 'capital-gains', 'capital-loss',\n",
       "       'incident_date', 'incident_type', 'collision_type', 'incident_severity',\n",
       "       'authorities_contacted', 'incident_state', 'incident_city',\n",
       "       'incident_location', 'incident_hour_of_the_day',\n",
       "       'number_of_vehicles_involved', 'property_damage', 'bodily_injuries',\n",
       "       'witnesses', 'police_report_available', 'total_claim_amount',\n",
       "       'injury_claim', 'property_claim', 'vehicle_claim', 'auto_make',\n",
       "       'auto_model', 'auto_year', 'fraud_reported', '_c39'],\n",
       "      dtype='object')"
      ]
     },
     "execution_count": 118,
     "metadata": {},
     "output_type": "execute_result"
    }
   ],
   "source": [
    "ds.columns"
   ]
  },
  {
   "cell_type": "code",
   "execution_count": 119,
   "metadata": {},
   "outputs": [
    {
     "data": {
      "text/plain": [
       "N    753\n",
       "Y    247\n",
       "Name: fraud_reported, dtype: int64"
      ]
     },
     "execution_count": 119,
     "metadata": {},
     "output_type": "execute_result"
    }
   ],
   "source": [
    "# Count the amounts of variables in the target column\n",
    "fraud_counts = ds['fraud_reported'].value_counts()\n",
    "fraud_counts"
   ]
  },
  {
   "cell_type": "code",
   "execution_count": 120,
   "metadata": {},
   "outputs": [
    {
     "data": {
      "text/plain": [
       "N    75.3%\n",
       "Y    24.7%\n",
       "Name: fraud_reported, dtype: object"
      ]
     },
     "execution_count": 120,
     "metadata": {},
     "output_type": "execute_result"
    }
   ],
   "source": [
    "# Percentage of value counts in the target column\n",
    "fraud_percentage = ds['fraud_reported'].value_counts(normalize=True).mul(100).round(1).astype(str) + '%'\n",
    "fraud_percentage"
   ]
  },
  {
   "cell_type": "markdown",
   "metadata": {},
   "source": [
    "The data is not distributed evenly over the target column, the accuracy scores of classification models will be affected."
   ]
  },
  {
   "cell_type": "markdown",
   "metadata": {},
   "source": [
    "# Encode categorical columns to numeric values"
   ]
  },
  {
   "cell_type": "code",
   "execution_count": 121,
   "metadata": {},
   "outputs": [],
   "source": [
    "eds=ds"
   ]
  },
  {
   "cell_type": "code",
   "execution_count": 122,
   "metadata": {},
   "outputs": [
    {
     "data": {
      "text/plain": [
       "Index(['months_as_customer', 'age', 'policy_number', 'policy_bind_date',\n",
       "       'policy_state', 'policy_csl', 'policy_deductable',\n",
       "       'policy_annual_premium', 'umbrella_limit', 'insured_zip', 'insured_sex',\n",
       "       'insured_education_level', 'insured_occupation', 'insured_hobbies',\n",
       "       'insured_relationship', 'capital-gains', 'capital-loss',\n",
       "       'incident_date', 'incident_type', 'collision_type', 'incident_severity',\n",
       "       'authorities_contacted', 'incident_state', 'incident_city',\n",
       "       'incident_location', 'incident_hour_of_the_day',\n",
       "       'number_of_vehicles_involved', 'property_damage', 'bodily_injuries',\n",
       "       'witnesses', 'police_report_available', 'total_claim_amount',\n",
       "       'injury_claim', 'property_claim', 'vehicle_claim', 'auto_make',\n",
       "       'auto_model', 'auto_year', 'fraud_reported', '_c39'],\n",
       "      dtype='object')"
      ]
     },
     "execution_count": 122,
     "metadata": {},
     "output_type": "execute_result"
    }
   ],
   "source": [
    "eds.columns"
   ]
  },
  {
   "cell_type": "code",
   "execution_count": 123,
   "metadata": {},
   "outputs": [
    {
     "data": {
      "text/plain": [
       "months_as_customer               int64\n",
       "age                              int64\n",
       "policy_number                    int64\n",
       "policy_bind_date                object\n",
       "policy_state                    object\n",
       "policy_csl                      object\n",
       "policy_deductable                int64\n",
       "policy_annual_premium          float64\n",
       "umbrella_limit                   int64\n",
       "insured_zip                      int64\n",
       "insured_sex                     object\n",
       "insured_education_level         object\n",
       "insured_occupation              object\n",
       "insured_hobbies                 object\n",
       "insured_relationship            object\n",
       "capital-gains                    int64\n",
       "capital-loss                     int64\n",
       "incident_date                   object\n",
       "incident_type                   object\n",
       "collision_type                  object\n",
       "incident_severity               object\n",
       "authorities_contacted           object\n",
       "incident_state                  object\n",
       "incident_city                   object\n",
       "incident_location               object\n",
       "incident_hour_of_the_day         int64\n",
       "number_of_vehicles_involved      int64\n",
       "property_damage                 object\n",
       "bodily_injuries                  int64\n",
       "witnesses                        int64\n",
       "police_report_available         object\n",
       "total_claim_amount               int64\n",
       "injury_claim                     int64\n",
       "property_claim                   int64\n",
       "vehicle_claim                    int64\n",
       "auto_make                       object\n",
       "auto_model                      object\n",
       "auto_year                        int64\n",
       "fraud_reported                  object\n",
       "_c39                           float64\n",
       "dtype: object"
      ]
     },
     "execution_count": 123,
     "metadata": {},
     "output_type": "execute_result"
    }
   ],
   "source": [
    "eds.dtypes"
   ]
  },
  {
   "cell_type": "code",
   "execution_count": 124,
   "metadata": {},
   "outputs": [],
   "source": [
    "# Change categorical data to numerical data for 2 categoriacl columns\n",
    "\n",
    "from sklearn.preprocessing import LabelEncoder\n",
    "le=LabelEncoder()\n",
    "cols=['policy_bind_date','policy_state', 'policy_csl','insured_sex','insured_education_level', 'insured_occupation', \n",
    "      'insured_hobbies','insured_relationship', 'incident_date', 'incident_type', 'collision_type', 'incident_severity',\n",
    "       'authorities_contacted', 'incident_state', 'incident_city','incident_location', 'property_damage', \n",
    "      'police_report_available',  'auto_make','auto_model', 'fraud_reported']\n",
    "for col in cols:\n",
    "    eds[col] = le.fit_transform(eds[col])"
   ]
  },
  {
   "cell_type": "code",
   "execution_count": 125,
   "metadata": {},
   "outputs": [
    {
     "data": {
      "text/html": [
       "<div>\n",
       "<style scoped>\n",
       "    .dataframe tbody tr th:only-of-type {\n",
       "        vertical-align: middle;\n",
       "    }\n",
       "\n",
       "    .dataframe tbody tr th {\n",
       "        vertical-align: top;\n",
       "    }\n",
       "\n",
       "    .dataframe thead th {\n",
       "        text-align: right;\n",
       "    }\n",
       "</style>\n",
       "<table border=\"1\" class=\"dataframe\">\n",
       "  <thead>\n",
       "    <tr style=\"text-align: right;\">\n",
       "      <th></th>\n",
       "      <th>months_as_customer</th>\n",
       "      <th>age</th>\n",
       "      <th>policy_number</th>\n",
       "      <th>policy_bind_date</th>\n",
       "      <th>policy_state</th>\n",
       "      <th>policy_csl</th>\n",
       "      <th>policy_deductable</th>\n",
       "      <th>policy_annual_premium</th>\n",
       "      <th>umbrella_limit</th>\n",
       "      <th>insured_zip</th>\n",
       "      <th>...</th>\n",
       "      <th>police_report_available</th>\n",
       "      <th>total_claim_amount</th>\n",
       "      <th>injury_claim</th>\n",
       "      <th>property_claim</th>\n",
       "      <th>vehicle_claim</th>\n",
       "      <th>auto_make</th>\n",
       "      <th>auto_model</th>\n",
       "      <th>auto_year</th>\n",
       "      <th>fraud_reported</th>\n",
       "      <th>_c39</th>\n",
       "    </tr>\n",
       "  </thead>\n",
       "  <tbody>\n",
       "    <tr>\n",
       "      <th>0</th>\n",
       "      <td>328</td>\n",
       "      <td>48</td>\n",
       "      <td>521585</td>\n",
       "      <td>532</td>\n",
       "      <td>2</td>\n",
       "      <td>1</td>\n",
       "      <td>1000</td>\n",
       "      <td>1406.91</td>\n",
       "      <td>0</td>\n",
       "      <td>466132</td>\n",
       "      <td>...</td>\n",
       "      <td>2</td>\n",
       "      <td>71610</td>\n",
       "      <td>6510</td>\n",
       "      <td>13020</td>\n",
       "      <td>52080</td>\n",
       "      <td>10</td>\n",
       "      <td>1</td>\n",
       "      <td>2004</td>\n",
       "      <td>1</td>\n",
       "      <td>NaN</td>\n",
       "    </tr>\n",
       "    <tr>\n",
       "      <th>1</th>\n",
       "      <td>228</td>\n",
       "      <td>42</td>\n",
       "      <td>342868</td>\n",
       "      <td>821</td>\n",
       "      <td>1</td>\n",
       "      <td>1</td>\n",
       "      <td>2000</td>\n",
       "      <td>1197.22</td>\n",
       "      <td>5000000</td>\n",
       "      <td>468176</td>\n",
       "      <td>...</td>\n",
       "      <td>0</td>\n",
       "      <td>5070</td>\n",
       "      <td>780</td>\n",
       "      <td>780</td>\n",
       "      <td>3510</td>\n",
       "      <td>8</td>\n",
       "      <td>12</td>\n",
       "      <td>2007</td>\n",
       "      <td>1</td>\n",
       "      <td>NaN</td>\n",
       "    </tr>\n",
       "    <tr>\n",
       "      <th>2</th>\n",
       "      <td>134</td>\n",
       "      <td>29</td>\n",
       "      <td>687698</td>\n",
       "      <td>186</td>\n",
       "      <td>2</td>\n",
       "      <td>0</td>\n",
       "      <td>2000</td>\n",
       "      <td>1413.14</td>\n",
       "      <td>5000000</td>\n",
       "      <td>430632</td>\n",
       "      <td>...</td>\n",
       "      <td>1</td>\n",
       "      <td>34650</td>\n",
       "      <td>7700</td>\n",
       "      <td>3850</td>\n",
       "      <td>23100</td>\n",
       "      <td>4</td>\n",
       "      <td>30</td>\n",
       "      <td>2007</td>\n",
       "      <td>0</td>\n",
       "      <td>NaN</td>\n",
       "    </tr>\n",
       "    <tr>\n",
       "      <th>3</th>\n",
       "      <td>256</td>\n",
       "      <td>41</td>\n",
       "      <td>227811</td>\n",
       "      <td>766</td>\n",
       "      <td>0</td>\n",
       "      <td>1</td>\n",
       "      <td>2000</td>\n",
       "      <td>1415.74</td>\n",
       "      <td>6000000</td>\n",
       "      <td>608117</td>\n",
       "      <td>...</td>\n",
       "      <td>1</td>\n",
       "      <td>63400</td>\n",
       "      <td>6340</td>\n",
       "      <td>6340</td>\n",
       "      <td>50720</td>\n",
       "      <td>3</td>\n",
       "      <td>34</td>\n",
       "      <td>2014</td>\n",
       "      <td>1</td>\n",
       "      <td>NaN</td>\n",
       "    </tr>\n",
       "    <tr>\n",
       "      <th>4</th>\n",
       "      <td>228</td>\n",
       "      <td>44</td>\n",
       "      <td>367455</td>\n",
       "      <td>181</td>\n",
       "      <td>0</td>\n",
       "      <td>2</td>\n",
       "      <td>1000</td>\n",
       "      <td>1583.91</td>\n",
       "      <td>6000000</td>\n",
       "      <td>610706</td>\n",
       "      <td>...</td>\n",
       "      <td>1</td>\n",
       "      <td>6500</td>\n",
       "      <td>1300</td>\n",
       "      <td>650</td>\n",
       "      <td>4550</td>\n",
       "      <td>0</td>\n",
       "      <td>31</td>\n",
       "      <td>2009</td>\n",
       "      <td>0</td>\n",
       "      <td>NaN</td>\n",
       "    </tr>\n",
       "  </tbody>\n",
       "</table>\n",
       "<p>5 rows × 40 columns</p>\n",
       "</div>"
      ],
      "text/plain": [
       "   months_as_customer  age  policy_number  policy_bind_date  policy_state  \\\n",
       "0                 328   48         521585               532             2   \n",
       "1                 228   42         342868               821             1   \n",
       "2                 134   29         687698               186             2   \n",
       "3                 256   41         227811               766             0   \n",
       "4                 228   44         367455               181             0   \n",
       "\n",
       "   policy_csl  policy_deductable  policy_annual_premium  umbrella_limit  \\\n",
       "0           1               1000                1406.91               0   \n",
       "1           1               2000                1197.22         5000000   \n",
       "2           0               2000                1413.14         5000000   \n",
       "3           1               2000                1415.74         6000000   \n",
       "4           2               1000                1583.91         6000000   \n",
       "\n",
       "   insured_zip  ...  police_report_available  total_claim_amount  \\\n",
       "0       466132  ...                        2               71610   \n",
       "1       468176  ...                        0                5070   \n",
       "2       430632  ...                        1               34650   \n",
       "3       608117  ...                        1               63400   \n",
       "4       610706  ...                        1                6500   \n",
       "\n",
       "   injury_claim  property_claim  vehicle_claim  auto_make  auto_model  \\\n",
       "0          6510           13020          52080         10           1   \n",
       "1           780             780           3510          8          12   \n",
       "2          7700            3850          23100          4          30   \n",
       "3          6340            6340          50720          3          34   \n",
       "4          1300             650           4550          0          31   \n",
       "\n",
       "   auto_year  fraud_reported  _c39  \n",
       "0       2004               1   NaN  \n",
       "1       2007               1   NaN  \n",
       "2       2007               0   NaN  \n",
       "3       2014               1   NaN  \n",
       "4       2009               0   NaN  \n",
       "\n",
       "[5 rows x 40 columns]"
      ]
     },
     "execution_count": 125,
     "metadata": {},
     "output_type": "execute_result"
    }
   ],
   "source": [
    "eds.head()"
   ]
  },
  {
   "cell_type": "markdown",
   "metadata": {},
   "source": [
    "# Check correlation after encoding"
   ]
  },
  {
   "cell_type": "code",
   "execution_count": 126,
   "metadata": {},
   "outputs": [
    {
     "data": {
      "text/plain": [
       "<matplotlib.axes._subplots.AxesSubplot at 0x19bd1b9cd08>"
      ]
     },
     "execution_count": 126,
     "metadata": {},
     "output_type": "execute_result"
    },
    {
     "data": {
      "image/png": "[encoded data removed]",
      "text/plain": [
       "<Figure size 432x288 with 2 Axes>"
      ]
     },
     "metadata": {
      "needs_background": "light"
     },
     "output_type": "display_data"
    }
   ],
   "source": [
    "dscor=eds.corr()\n",
    "sns.heatmap(dscor)"
   ]
  },
  {
   "cell_type": "markdown",
   "metadata": {},
   "source": [
    "Almost all attributes in the dataset have strong correlation with the target column except incident severity which has a negative correlation with the target column.\n",
    "And c39 which is an empty column."
   ]
  },
  {
   "cell_type": "markdown",
   "metadata": {},
   "source": [
    "# Drop irrelevant columns"
   ]
  },
  {
   "cell_type": "code",
   "execution_count": 127,
   "metadata": {},
   "outputs": [
    {
     "data": {
      "text/plain": [
       "Index(['months_as_customer', 'age', 'policy_number', 'policy_bind_date',\n",
       "       'policy_state', 'policy_csl', 'policy_deductable',\n",
       "       'policy_annual_premium', 'umbrella_limit', 'insured_zip', 'insured_sex',\n",
       "       'insured_education_level', 'insured_occupation', 'insured_hobbies',\n",
       "       'insured_relationship', 'capital-gains', 'capital-loss',\n",
       "       'incident_date', 'incident_type', 'collision_type', 'incident_severity',\n",
       "       'authorities_contacted', 'incident_state', 'incident_city',\n",
       "       'incident_location', 'incident_hour_of_the_day',\n",
       "       'number_of_vehicles_involved', 'property_damage', 'bodily_injuries',\n",
       "       'witnesses', 'police_report_available', 'total_claim_amount',\n",
       "       'injury_claim', 'property_claim', 'vehicle_claim', 'auto_make',\n",
       "       'auto_model', 'auto_year', 'fraud_reported', '_c39'],\n",
       "      dtype='object')"
      ]
     },
     "execution_count": 127,
     "metadata": {},
     "output_type": "execute_result"
    }
   ],
   "source": [
    "eds.columns"
   ]
  },
  {
   "cell_type": "code",
   "execution_count": 128,
   "metadata": {},
   "outputs": [],
   "source": [
    "# Drop irrelevant (poorly correlated) columns - dataset renamed to nds (new dataset)\n",
    "nds=eds.drop(columns=['policy_number', '_c39' ])"
   ]
  },
  {
   "cell_type": "markdown",
   "metadata": {},
   "source": [
    "# Find and remove outliers"
   ]
  },
  {
   "cell_type": "code",
   "execution_count": 129,
   "metadata": {},
   "outputs": [
    {
     "data": {
      "text/plain": [
       "(1000, 38)"
      ]
     },
     "execution_count": 129,
     "metadata": {},
     "output_type": "execute_result"
    }
   ],
   "source": [
    "nds.shape"
   ]
  },
  {
   "cell_type": "code",
   "execution_count": 130,
   "metadata": {},
   "outputs": [
    {
     "data": {
      "image/png": "[encoded data removed]",
      "text/plain": [
       "<Figure size 2736x13680 with 37 Axes>"
      ]
     },
     "metadata": {
      "needs_background": "light"
     },
     "output_type": "display_data"
    }
   ],
   "source": [
    "# Show boxplots for all columns, check outliers\n",
    "collist=nds.columns.values\n",
    "ncol=38\n",
    "nrows=10\n",
    "\n",
    "plt.figure(figsize=(ncol,5*ncol))\n",
    "for i in range(1, len(collist)):\n",
    "    plt.subplot(nrows,ncol,i+1)\n",
    "    sns.boxplot(nds[collist[i]], color='red', orient='v')\n",
    "    plt.tight_layout()"
   ]
  },
  {
   "cell_type": "code",
   "execution_count": 131,
   "metadata": {},
   "outputs": [
    {
     "name": "stdout",
     "output_type": "stream",
     "text": [
      "(1000, 38)\n",
      "(980, 38)\n"
     ]
    }
   ],
   "source": [
    "# Remove outliers - dataset renamed to cds (clean dataset)\n",
    "from scipy import stats\n",
    "from scipy.stats import zscore\n",
    "\n",
    "z_score=abs(zscore(nds))\n",
    "print(nds.shape)\n",
    "cds=nds.loc[(z_score<3).all(axis=1)]\n",
    "print(cds.shape)"
   ]
  },
  {
   "cell_type": "markdown",
   "metadata": {},
   "source": [
    "# Check and adjust skewness"
   ]
  },
  {
   "cell_type": "markdown",
   "metadata": {},
   "source": [
    "# Split data into x and y"
   ]
  },
  {
   "cell_type": "code",
   "execution_count": 132,
   "metadata": {},
   "outputs": [
    {
     "data": {
      "text/plain": [
       "Index(['months_as_customer', 'age', 'policy_bind_date', 'policy_state',\n",
       "       'policy_csl', 'policy_deductable', 'policy_annual_premium',\n",
       "       'umbrella_limit', 'insured_zip', 'insured_sex',\n",
       "       'insured_education_level', 'insured_occupation', 'insured_hobbies',\n",
       "       'insured_relationship', 'capital-gains', 'capital-loss',\n",
       "       'incident_date', 'incident_type', 'collision_type', 'incident_severity',\n",
       "       'authorities_contacted', 'incident_state', 'incident_city',\n",
       "       'incident_location', 'incident_hour_of_the_day',\n",
       "       'number_of_vehicles_involved', 'property_damage', 'bodily_injuries',\n",
       "       'witnesses', 'police_report_available', 'total_claim_amount',\n",
       "       'injury_claim', 'property_claim', 'vehicle_claim', 'auto_make',\n",
       "       'auto_model', 'auto_year', 'fraud_reported'],\n",
       "      dtype='object')"
      ]
     },
     "execution_count": 132,
     "metadata": {},
     "output_type": "execute_result"
    }
   ],
   "source": [
    "cds.columns"
   ]
  },
  {
   "cell_type": "code",
   "execution_count": 133,
   "metadata": {},
   "outputs": [],
   "source": [
    "# Lineup target and input values\n",
    "cds_x=cds.drop(columns=['fraud_reported'])\n",
    "y=cds[['fraud_reported']]"
   ]
  },
  {
   "cell_type": "markdown",
   "metadata": {},
   "source": [
    "# Apply PCA to reduce the amount of x columns"
   ]
  },
  {
   "cell_type": "markdown",
   "metadata": {},
   "source": [
    "# Apply scaler"
   ]
  },
  {
   "cell_type": "code",
   "execution_count": 134,
   "metadata": {},
   "outputs": [],
   "source": [
    "#Scaling for linear regression\n",
    "from sklearn.preprocessing import StandardScaler\n",
    "\n",
    "sc=StandardScaler()\n",
    "scx=sc.fit_transform(cds_x)\n",
    "scx=pd.DataFrame(scx,columns=cds_x.columns)"
   ]
  },
  {
   "cell_type": "code",
   "execution_count": 135,
   "metadata": {},
   "outputs": [
    {
     "data": {
      "text/plain": [
       "months_as_customer             0.362608\n",
       "age                            0.475385\n",
       "policy_bind_date               0.006386\n",
       "policy_state                  -0.038157\n",
       "policy_csl                     0.098248\n",
       "policy_deductable              0.476090\n",
       "policy_annual_premium          0.035964\n",
       "umbrella_limit                 1.801424\n",
       "insured_zip                    0.837283\n",
       "insured_sex                    0.139324\n",
       "insured_education_level        0.006286\n",
       "insured_occupation            -0.055360\n",
       "insured_hobbies               -0.061488\n",
       "insured_relationship           0.078339\n",
       "capital-gains                  0.466619\n",
       "capital-loss                  -0.376884\n",
       "incident_date                  0.002604\n",
       "incident_type                  0.090563\n",
       "collision_type                -0.194015\n",
       "incident_severity              0.277726\n",
       "authorities_contacted         -0.114044\n",
       "incident_state                -0.149255\n",
       "incident_city                  0.043882\n",
       "incident_location             -0.003369\n",
       "incident_hour_of_the_day      -0.039280\n",
       "number_of_vehicles_involved    0.509725\n",
       "property_damage                0.101196\n",
       "bodily_injuries                0.003757\n",
       "witnesses                      0.026211\n",
       "police_report_available        0.044659\n",
       "total_claim_amount            -0.593593\n",
       "injury_claim                   0.271759\n",
       "property_claim                 0.361356\n",
       "vehicle_claim                 -0.620936\n",
       "auto_make                     -0.028739\n",
       "auto_model                    -0.073462\n",
       "auto_year                     -0.054522\n",
       "dtype: float64"
      ]
     },
     "execution_count": 135,
     "metadata": {},
     "output_type": "execute_result"
    }
   ],
   "source": [
    "scx.skew()"
   ]
  },
  {
   "cell_type": "code",
   "execution_count": 136,
   "metadata": {},
   "outputs": [],
   "source": [
    "#Treat skewness using log\n",
    "for col in scx.columns:\n",
    "    if scx.skew().loc[col]>0.55:\n",
    "        scx[col]=np.log1p(scx[col])"
   ]
  },
  {
   "cell_type": "code",
   "execution_count": 137,
   "metadata": {},
   "outputs": [
    {
     "data": {
      "text/plain": [
       "months_as_customer             0.362608\n",
       "age                            0.475385\n",
       "policy_bind_date               0.006386\n",
       "policy_state                  -0.038157\n",
       "policy_csl                     0.098248\n",
       "policy_deductable              0.476090\n",
       "policy_annual_premium          0.035964\n",
       "umbrella_limit                 1.573675\n",
       "insured_zip                   -0.403480\n",
       "insured_sex                    0.139324\n",
       "insured_education_level        0.006286\n",
       "insured_occupation            -0.055360\n",
       "insured_hobbies               -0.061488\n",
       "insured_relationship           0.078339\n",
       "capital-gains                  0.466619\n",
       "capital-loss                  -0.376884\n",
       "incident_date                  0.002604\n",
       "incident_type                  0.090563\n",
       "collision_type                -0.194015\n",
       "incident_severity              0.277726\n",
       "authorities_contacted         -0.114044\n",
       "incident_state                -0.149255\n",
       "incident_city                  0.043882\n",
       "incident_location             -0.003369\n",
       "incident_hour_of_the_day      -0.039280\n",
       "number_of_vehicles_involved    0.509725\n",
       "property_damage                0.101196\n",
       "bodily_injuries                0.003757\n",
       "witnesses                      0.026211\n",
       "police_report_available        0.044659\n",
       "total_claim_amount            -0.593593\n",
       "injury_claim                   0.271759\n",
       "property_claim                 0.361356\n",
       "vehicle_claim                 -0.620936\n",
       "auto_make                     -0.028739\n",
       "auto_model                    -0.073462\n",
       "auto_year                     -0.054522\n",
       "dtype: float64"
      ]
     },
     "execution_count": 137,
     "metadata": {},
     "output_type": "execute_result"
    }
   ],
   "source": [
    "scx.skew()"
   ]
  },
  {
   "cell_type": "markdown",
   "metadata": {},
   "source": [
    "# Train-Test split"
   ]
  },
  {
   "cell_type": "code",
   "execution_count": 138,
   "metadata": {},
   "outputs": [],
   "source": [
    "# Train test split\n",
    "from sklearn.model_selection import train_test_split\n",
    "x_train,x_test, y_train, y_test = train_test_split(scx,y, random_state=55, test_size=0.20,stratify= cds['fraud_reported'])"
   ]
  },
  {
   "cell_type": "markdown",
   "metadata": {},
   "source": [
    "# Model"
   ]
  },
  {
   "cell_type": "code",
   "execution_count": 139,
   "metadata": {},
   "outputs": [],
   "source": [
    "from sklearn.neighbors import KNeighborsClassifier\n",
    "\n",
    "from sklearn.linear_model import LogisticRegression\n",
    "from sklearn.tree import DecisionTreeClassifier\n",
    "from sklearn.naive_bayes import GaussianNB"
   ]
  },
  {
   "cell_type": "code",
   "execution_count": 140,
   "metadata": {},
   "outputs": [],
   "source": [
    "from sklearn.metrics import accuracy_score,confusion_matrix,classification_report,roc_curve,auc"
   ]
  },
  {
   "cell_type": "code",
   "execution_count": 141,
   "metadata": {},
   "outputs": [],
   "source": [
    "from sklearn.model_selection import cross_val_score"
   ]
  },
  {
   "cell_type": "markdown",
   "metadata": {},
   "source": [
    "# Using GridSearchCV to select the best parameter¶"
   ]
  },
  {
   "cell_type": "code",
   "execution_count": 142,
   "metadata": {},
   "outputs": [
    {
     "data": {
      "text/plain": [
       "{'penalty': 'l2'}"
      ]
     },
     "execution_count": 142,
     "metadata": {},
     "output_type": "execute_result"
    }
   ],
   "source": [
    "# best parameters for logistic Regression\n",
    "\n",
    "from sklearn.model_selection import GridSearchCV\n",
    "lg=LogisticRegression()\n",
    "parameters={'penalty':['l1','l2']}\n",
    "gd=GridSearchCV(lg,parameters)\n",
    "gd.fit(x_train,y_train)\n",
    "gd.best_params_"
   ]
  },
  {
   "cell_type": "code",
   "execution_count": 143,
   "metadata": {},
   "outputs": [
    {
     "data": {
      "text/plain": [
       "{'criterion': 'entropy'}"
      ]
     },
     "execution_count": 143,
     "metadata": {},
     "output_type": "execute_result"
    }
   ],
   "source": [
    "# Best parameters for DecisionTree\n",
    "\n",
    "dt=DecisionTreeClassifier()\n",
    "parameters={'criterion':('gini','entropy')}\n",
    "gd=GridSearchCV(dt,parameters)\n",
    "gd.fit(x_train,y_train)\n",
    "gd.best_params_"
   ]
  },
  {
   "cell_type": "code",
   "execution_count": 144,
   "metadata": {},
   "outputs": [
    {
     "data": {
      "text/plain": [
       "{'n_neighbors': 30}"
      ]
     },
     "execution_count": 144,
     "metadata": {},
     "output_type": "execute_result"
    }
   ],
   "source": [
    "# Best parameters for KNeighborsClassifier\n",
    "\n",
    "kn=KNeighborsClassifier()\n",
    "parameters={'n_neighbors':(1,30)}\n",
    "gd=GridSearchCV(kn,parameters)\n",
    "gd.fit(x_train,y_train)\n",
    "gd.best_params_"
   ]
  },
  {
   "cell_type": "code",
   "execution_count": 145,
   "metadata": {},
   "outputs": [],
   "source": [
    "# Logistic Regression and binary classification methods"
   ]
  },
  {
   "cell_type": "code",
   "execution_count": 146,
   "metadata": {},
   "outputs": [],
   "source": [
    "KNN=KNeighborsClassifier(n_neighbors= 30)\n",
    "LR=LogisticRegression(penalty='l2')\n",
    "DT=DecisionTreeClassifier(criterion='gini')# check random_state?\n",
    "GNB=GaussianNB()"
   ]
  },
  {
   "cell_type": "code",
   "execution_count": 147,
   "metadata": {},
   "outputs": [],
   "source": [
    "models=[]\n",
    "models.append(('KneighborsClassifier',KNN))\n",
    "models.append(('LogisticRegression',LR))\n",
    "models.append(('DecisionTreeClassifier',DT))\n",
    "models.append(('GaussianNB',GNB))"
   ]
  },
  {
   "cell_type": "code",
   "execution_count": 158,
   "metadata": {},
   "outputs": [
    {
     "name": "stdout",
     "output_type": "stream",
     "text": [
      "************************* KneighborsClassifier *************************\n",
      "\n",
      "KNeighborsClassifier(algorithm='auto', leaf_size=30, metric='minkowski',\n",
      "                     metric_params=None, n_jobs=None, n_neighbors=30, p=2,\n",
      "                     weights='uniform')\n",
      "\n",
      "\n",
      "\n",
      "Accuracy score = 0.7551020408163265\n",
      "\n",
      "\n",
      "cross validation score = 0.7561224489795917\n",
      "\n",
      "\n",
      "roc_auc_score =  0.5\n",
      "\n",
      "\n",
      "classification_report\n",
      "               precision    recall  f1-score   support\n",
      "\n",
      "           0       0.76      1.00      0.86       148\n",
      "           1       0.00      0.00      0.00        48\n",
      "\n",
      "    accuracy                           0.76       196\n",
      "   macro avg       0.38      0.50      0.43       196\n",
      "weighted avg       0.57      0.76      0.65       196\n",
      "\n",
      "\n",
      "\n",
      "[[148   0]\n",
      " [ 48   0]]\n",
      "\n",
      "\n",
      "AxesSubplot(0.125,0.808774;0.62x0.0712264)\n",
      "\n",
      "\n",
      "\n",
      "************************* LogisticRegression *************************\n",
      "\n",
      "LogisticRegression(C=1.0, class_weight=None, dual=False, fit_intercept=True,\n",
      "                   intercept_scaling=1, l1_ratio=None, max_iter=100,\n",
      "                   multi_class='auto', n_jobs=None, penalty='l2',\n",
      "                   random_state=None, solver='lbfgs', tol=0.0001, verbose=0,\n",
      "                   warm_start=False)\n",
      "\n",
      "\n",
      "\n",
      "Accuracy score = 0.7602040816326531\n",
      "\n",
      "\n",
      "cross validation score = 0.7775510204081633\n",
      "\n",
      "\n",
      "roc_auc_score =  0.6230292792792793\n",
      "\n",
      "\n",
      "classification_report\n",
      "               precision    recall  f1-score   support\n",
      "\n",
      "           0       0.81      0.89      0.85       148\n",
      "           1       0.52      0.35      0.42        48\n",
      "\n",
      "    accuracy                           0.76       196\n",
      "   macro avg       0.66      0.62      0.63       196\n",
      "weighted avg       0.74      0.76      0.74       196\n",
      "\n",
      "\n",
      "\n",
      "[[132  16]\n",
      " [ 31  17]]\n",
      "\n",
      "\n",
      "AxesSubplot(0.125,0.808774;0.62x0.0712264)\n",
      "\n",
      "\n",
      "\n",
      "************************* DecisionTreeClassifier *************************\n",
      "\n",
      "DecisionTreeClassifier(ccp_alpha=0.0, class_weight=None, criterion='gini',\n",
      "                       max_depth=None, max_features=None, max_leaf_nodes=None,\n",
      "                       min_impurity_decrease=0.0, min_impurity_split=None,\n",
      "                       min_samples_leaf=1, min_samples_split=2,\n",
      "                       min_weight_fraction_leaf=0.0, presort='deprecated',\n",
      "                       random_state=None, splitter='best')\n",
      "\n",
      "\n",
      "\n",
      "Accuracy score = 0.7959183673469388\n",
      "\n",
      "\n",
      "cross validation score = 0.7816326530612245\n",
      "\n",
      "\n",
      "roc_auc_score =  0.7100225225225224\n",
      "\n",
      "\n",
      "classification_report\n",
      "               precision    recall  f1-score   support\n",
      "\n",
      "           0       0.86      0.88      0.87       148\n",
      "           1       0.59      0.54      0.57        48\n",
      "\n",
      "    accuracy                           0.80       196\n",
      "   macro avg       0.72      0.71      0.72       196\n",
      "weighted avg       0.79      0.80      0.79       196\n",
      "\n",
      "\n",
      "\n",
      "[[130  18]\n",
      " [ 22  26]]\n",
      "\n",
      "\n",
      "AxesSubplot(0.125,0.808774;0.62x0.0712264)\n",
      "\n",
      "\n",
      "\n",
      "************************* GaussianNB *************************\n",
      "\n",
      "GaussianNB(priors=None, var_smoothing=1e-09)\n",
      "\n",
      "\n",
      "\n",
      "Accuracy score = 0.7346938775510204\n",
      "\n",
      "\n",
      "cross validation score = 0.7214285714285714\n",
      "\n",
      "\n",
      "roc_auc_score =  0.6835585585585586\n",
      "\n",
      "\n",
      "classification_report\n",
      "               precision    recall  f1-score   support\n",
      "\n",
      "           0       0.85      0.78      0.82       148\n",
      "           1       0.47      0.58      0.52        48\n",
      "\n",
      "    accuracy                           0.73       196\n",
      "   macro avg       0.66      0.68      0.67       196\n",
      "weighted avg       0.76      0.73      0.74       196\n",
      "\n",
      "\n",
      "\n",
      "[[116  32]\n",
      " [ 20  28]]\n",
      "\n",
      "\n",
      "AxesSubplot(0.125,0.808774;0.62x0.0712264)\n",
      "\n",
      "\n",
      "\n"
     ]
    },
    {
     "data": {
      "image/png": "[encoded data removed]",
      "text/plain": [
       "<Figure size 720x2880 with 3 Axes>"
      ]
     },
     "metadata": {
      "needs_background": "light"
     },
     "output_type": "display_data"
    },
    {
     "data": {
      "image/png": "[encoded data removed]",
      "text/plain": [
       "<Figure size 720x2880 with 3 Axes>"
      ]
     },
     "metadata": {
      "needs_background": "light"
     },
     "output_type": "display_data"
    },
    {
     "data": {
      "image/png": "[encoded data removed]",
      "text/plain": [
       "<Figure size 720x2880 with 3 Axes>"
      ]
     },
     "metadata": {
      "needs_background": "light"
     },
     "output_type": "display_data"
    },
    {
     "data": {
      "image/png": "[encoded data removed]",
      "text/plain": [
       "<Figure size 720x2880 with 3 Axes>"
      ]
     },
     "metadata": {
      "needs_background": "light"
     },
     "output_type": "display_data"
    }
   ],
   "source": [
    "model_list=[]\n",
    "score=[]\n",
    "cvs=[]\n",
    "rocscore=[]\n",
    "\n",
    "for name, model in models:\n",
    "    print('*************************',name,'*************************',end='\\n\\n')\n",
    "   \n",
    "    model_list.append(name)\n",
    "    model.fit(x_train,y_train)\n",
    "    print(model,end='\\n\\n')\n",
    "    pre=model.predict(x_test)\n",
    "    print('\\n')\n",
    "    AS=accuracy_score(y_test,pre)\n",
    "    print('Accuracy score =',AS)\n",
    "    score.append(AS*100)\n",
    "    print('\\n')\n",
    "    sc=cross_val_score(model,scx,y, cv=10, scoring='accuracy').mean()\n",
    "    print('cross validation score =',sc)\n",
    "    cvs.append(sc*100)\n",
    "    print('\\n')\n",
    "    false_positive_rate,true_positive_rate,thresholds=roc_curve(y_test,pre)\n",
    "    roc_auc=auc(false_positive_rate,true_positive_rate)\n",
    "    print('roc_auc_score = ', roc_auc)\n",
    "    rocscore.append(roc_auc*100)\n",
    "    print('\\n')\n",
    "    print('classification_report\\n',classification_report(y_test,pre))\n",
    "    print('\\n')\n",
    "    cm=confusion_matrix(y_test,pre)\n",
    "    print(cm)\n",
    "    print('\\n')\n",
    "    plt.figure(figsize=(10,40))\n",
    "    plt.subplot(911)\n",
    "    plt.title(name)\n",
    "    print(sns.heatmap(cm,annot=True))\n",
    "    plt.subplot(912)\n",
    "    plt.title(name)\n",
    "    plt.plot(false_positive_rate,true_positive_rate, label='AUC= %0.2f'%roc_auc)\n",
    "    plt.plot([0,1],[0,1],'r--')\n",
    "    plt.legend(loc='lower right')\n",
    "    plt.ylabel('True positive rate')\n",
    "    plt.xlabel('False positive rate')\n",
    "    print('\\n\\n')"
   ]
  },
  {
   "cell_type": "code",
   "execution_count": null,
   "metadata": {},
   "outputs": [],
   "source": []
  },
  {
   "cell_type": "code",
   "execution_count": null,
   "metadata": {},
   "outputs": [],
   "source": []
  },
  {
   "cell_type": "code",
   "execution_count": 159,
   "metadata": {},
   "outputs": [
    {
     "data": {
      "text/html": [
       "<div>\n",
       "<style scoped>\n",
       "    .dataframe tbody tr th:only-of-type {\n",
       "        vertical-align: middle;\n",
       "    }\n",
       "\n",
       "    .dataframe tbody tr th {\n",
       "        vertical-align: top;\n",
       "    }\n",
       "\n",
       "    .dataframe thead th {\n",
       "        text-align: right;\n",
       "    }\n",
       "</style>\n",
       "<table border=\"1\" class=\"dataframe\">\n",
       "  <thead>\n",
       "    <tr style=\"text-align: right;\">\n",
       "      <th></th>\n",
       "      <th>Model</th>\n",
       "      <th>Accuracy_score</th>\n",
       "      <th>Cross_val_score</th>\n",
       "      <th>Roc_auc_score</th>\n",
       "    </tr>\n",
       "  </thead>\n",
       "  <tbody>\n",
       "    <tr>\n",
       "      <th>0</th>\n",
       "      <td>KneighborsClassifier</td>\n",
       "      <td>75.510204</td>\n",
       "      <td>75.612245</td>\n",
       "      <td>50.000000</td>\n",
       "    </tr>\n",
       "    <tr>\n",
       "      <th>1</th>\n",
       "      <td>LogisticRegression</td>\n",
       "      <td>76.020408</td>\n",
       "      <td>77.755102</td>\n",
       "      <td>62.302928</td>\n",
       "    </tr>\n",
       "    <tr>\n",
       "      <th>2</th>\n",
       "      <td>DecisionTreeClassifier</td>\n",
       "      <td>79.591837</td>\n",
       "      <td>78.163265</td>\n",
       "      <td>71.002252</td>\n",
       "    </tr>\n",
       "    <tr>\n",
       "      <th>3</th>\n",
       "      <td>GaussianNB</td>\n",
       "      <td>73.469388</td>\n",
       "      <td>72.142857</td>\n",
       "      <td>68.355856</td>\n",
       "    </tr>\n",
       "  </tbody>\n",
       "</table>\n",
       "</div>"
      ],
      "text/plain": [
       "                    Model  Accuracy_score  Cross_val_score  Roc_auc_score\n",
       "0    KneighborsClassifier       75.510204        75.612245      50.000000\n",
       "1      LogisticRegression       76.020408        77.755102      62.302928\n",
       "2  DecisionTreeClassifier       79.591837        78.163265      71.002252\n",
       "3              GaussianNB       73.469388        72.142857      68.355856"
      ]
     },
     "execution_count": 159,
     "metadata": {},
     "output_type": "execute_result"
    }
   ],
   "source": [
    "result=pd.DataFrame({'Model': model_list, 'Accuracy_score': score, 'Cross_val_score':cvs,'Roc_auc_score': rocscore})\n",
    "result"
   ]
  },
  {
   "cell_type": "code",
   "execution_count": 150,
   "metadata": {},
   "outputs": [
    {
     "name": "stdout",
     "output_type": "stream",
     "text": [
      "0.7857142857142857\n",
      "[[134  14]\n",
      " [ 28  20]]\n",
      "              precision    recall  f1-score   support\n",
      "\n",
      "           0       0.83      0.91      0.86       148\n",
      "           1       0.59      0.42      0.49        48\n",
      "\n",
      "    accuracy                           0.79       196\n",
      "   macro avg       0.71      0.66      0.68       196\n",
      "weighted avg       0.77      0.79      0.77       196\n",
      "\n"
     ]
    }
   ],
   "source": [
    "from sklearn.ensemble import RandomForestClassifier\n",
    "\n",
    "rf= RandomForestClassifier(n_estimators=100,random_state=42)#100 is defualt\n",
    "rf.fit(x_train,y_train)\n",
    "predrf=rf.predict(x_test)\n",
    "print(accuracy_score(y_test,predrf))\n",
    "print(confusion_matrix(y_test,predrf))\n",
    "print(classification_report(y_test,predrf))"
   ]
  },
  {
   "cell_type": "code",
   "execution_count": 151,
   "metadata": {},
   "outputs": [
    {
     "name": "stdout",
     "output_type": "stream",
     "text": [
      "0.7857142857142857\n",
      "[[128  20]\n",
      " [ 22  26]]\n",
      "              precision    recall  f1-score   support\n",
      "\n",
      "           0       0.85      0.86      0.86       148\n",
      "           1       0.57      0.54      0.55        48\n",
      "\n",
      "    accuracy                           0.79       196\n",
      "   macro avg       0.71      0.70      0.71       196\n",
      "weighted avg       0.78      0.79      0.78       196\n",
      "\n"
     ]
    }
   ],
   "source": [
    "from sklearn.ensemble import AdaBoostClassifier\n",
    "# AdaBoostClassifier(base_estimator=DecisionTreeClassifier()\n",
    "#,n_estimators=50,Learning_rate=1.0)\n",
    "ad= AdaBoostClassifier()\n",
    "ad.fit(x_train,y_train)\n",
    "predad=ad.predict(x_test)\n",
    "print(accuracy_score(y_test,predad))\n",
    "print(confusion_matrix(y_test,predad))\n",
    "print(classification_report(y_test,predad))"
   ]
  },
  {
   "cell_type": "code",
   "execution_count": 152,
   "metadata": {},
   "outputs": [
    {
     "data": {
      "text/plain": [
       "{'learning_rate': 0.01, 'n_estimators': 500}"
      ]
     },
     "execution_count": 152,
     "metadata": {},
     "output_type": "execute_result"
    }
   ],
   "source": [
    "# Use Gradient Boosting technique with GridSearchCV\n",
    "from sklearn.ensemble import GradientBoostingClassifier\n",
    "\n",
    "gbr=GradientBoostingClassifier()\n",
    "parameters={'learning_rate':[0.001,0.01,0.1,1],'n_estimators':[10,100,500,1000]}\n",
    "clf=GridSearchCV(gbr,parameters, cv=5)\n",
    "clf.fit(scx,y)\n",
    "clf.best_params_"
   ]
  },
  {
   "cell_type": "code",
   "execution_count": 153,
   "metadata": {},
   "outputs": [
    {
     "name": "stdout",
     "output_type": "stream",
     "text": [
      "0.8316326530612245\n",
      "[[128  20]\n",
      " [ 13  35]]\n",
      "              precision    recall  f1-score   support\n",
      "\n",
      "           0       0.91      0.86      0.89       148\n",
      "           1       0.64      0.73      0.68        48\n",
      "\n",
      "    accuracy                           0.83       196\n",
      "   macro avg       0.77      0.80      0.78       196\n",
      "weighted avg       0.84      0.83      0.84       196\n",
      "\n"
     ]
    }
   ],
   "source": [
    "gbr=GradientBoostingClassifier(learning_rate= 0.01, n_estimators= 500,random_state=42)\n",
    "gbr.fit(x_train,y_train)\n",
    "predgbr=gbr.predict(x_test)\n",
    "print(accuracy_score(y_test,predgbr))\n",
    "print(confusion_matrix(y_test,predgbr))\n",
    "print(classification_report(y_test,predgbr))"
   ]
  },
  {
   "cell_type": "code",
   "execution_count": 154,
   "metadata": {},
   "outputs": [
    {
     "name": "stdout",
     "output_type": "stream",
     "text": [
      "0.7602040816326531\n",
      "[[148   0]\n",
      " [ 47   1]]\n",
      "              precision    recall  f1-score   support\n",
      "\n",
      "           0       0.76      1.00      0.86       148\n",
      "           1       1.00      0.02      0.04        48\n",
      "\n",
      "    accuracy                           0.76       196\n",
      "   macro avg       0.88      0.51      0.45       196\n",
      "weighted avg       0.82      0.76      0.66       196\n",
      "\n"
     ]
    }
   ],
   "source": [
    "from sklearn.svm import SVC\n",
    "# Perform Support Vector Machine classification and check it's accuracy\n",
    "svc=SVC(kernel='poly')\n",
    "svc.fit(x_train,y_train)\n",
    "svc.score(x_train,y_train)\n",
    "predsvc=svc.predict(x_test)\n",
    "\n",
    "print(accuracy_score(y_test,predsvc))\n",
    "print(confusion_matrix(y_test,predsvc))\n",
    "print(classification_report(y_test,predsvc))"
   ]
  },
  {
   "cell_type": "markdown",
   "metadata": {},
   "source": [
    "I choose the GradientBoostingClassifier model as my final model because it gives the best scores.\n",
    "\n",
    "Accuracy score = 83.2 Precision = 91.0 Recall = 86.0"
   ]
  },
  {
   "cell_type": "markdown",
   "metadata": {},
   "source": [
    "# Save the model"
   ]
  },
  {
   "cell_type": "code",
   "execution_count": 156,
   "metadata": {},
   "outputs": [
    {
     "data": {
      "text/plain": [
       "['Fraud.pkl']"
      ]
     },
     "execution_count": 156,
     "metadata": {},
     "output_type": "execute_result"
    }
   ],
   "source": [
    "#save model as a pickle file\n",
    "from sklearn.externals import joblib\n",
    "joblib.dump(gbr,'Fraud.pkl')"
   ]
  },
  {
   "cell_type": "code",
   "execution_count": 157,
   "metadata": {},
   "outputs": [
    {
     "data": {
      "text/plain": [
       "array([0, 1, 0, 1, 0, 0, 0, 0, 0, 0, 0, 0, 1, 0, 0, 0, 0, 0, 1, 1, 0, 0,\n",
       "       0, 0, 0, 1, 0, 0, 1, 0, 0, 1, 1, 1, 0, 0, 0, 0, 0, 0, 0, 0, 0, 1,\n",
       "       0, 1, 0, 0, 0, 1, 0, 0, 0, 0, 1, 0, 1, 1, 0, 0, 0, 1, 0, 0, 0, 0,\n",
       "       0, 0, 0, 0, 0, 0, 0, 1, 0, 1, 1, 0, 1, 1, 0, 0, 0, 0, 1, 0, 0, 0,\n",
       "       1, 0, 0, 1, 0, 0, 0, 0, 1, 0, 0, 0, 1, 1, 0, 0, 1, 0, 0, 1, 0, 0,\n",
       "       1, 1, 0, 0, 1, 1, 0, 0, 0, 0, 1, 1, 0, 1, 1, 0, 1, 0, 0, 0, 1, 0,\n",
       "       0, 0, 0, 0, 0, 0, 0, 0, 0, 1, 0, 0, 0, 1, 0, 1, 0, 0, 0, 0, 1, 0,\n",
       "       1, 0, 0, 0, 0, 0, 0, 0, 0, 0, 0, 1, 1, 0, 0, 1, 0, 0, 1, 1, 1, 0,\n",
       "       0, 0, 0, 0, 0, 0, 1, 0, 0, 1, 0, 0, 1, 1, 0, 0, 0, 0, 0, 0])"
      ]
     },
     "execution_count": 157,
     "metadata": {},
     "output_type": "execute_result"
    }
   ],
   "source": [
    "# Load and use model to make a prediction\n",
    "model=joblib.load('Fraud.pkl')\n",
    "model.predict(x_test)"
   ]
  }
 ],
 "metadata": {
  "kernelspec": {
   "display_name": "Python 3",
   "language": "python",
   "name": "python3"
  },
  "language_info": {
   "codemirror_mode": {
    "name": "ipython",
    "version": 3
   },
   "file_extension": ".py",
   "mimetype": "text/x-python",
   "name": "python",
   "nbconvert_exporter": "python",
   "pygments_lexer": "ipython3",
   "version": "3.7.6"
  }
 },
 "nbformat": 4,
 "nbformat_minor": 4
}
